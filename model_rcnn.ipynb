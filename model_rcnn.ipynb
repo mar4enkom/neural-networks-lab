{
 "cells": [
  {
   "cell_type": "code",
   "execution_count": 1,
   "id": "ed1e14d0",
   "metadata": {},
   "outputs": [
    {
     "name": "stderr",
     "output_type": "stream",
     "text": [
      "/Users/matvejzasadko/.pyenv/versions/3.8.13/lib/python3.8/site-packages/tqdm/auto.py:21: TqdmWarning: IProgress not found. Please update jupyter and ipywidgets. See https://ipywidgets.readthedocs.io/en/stable/user_install.html\n",
      "  from .autonotebook import tqdm as notebook_tqdm\n",
      "/Users/matvejzasadko/.pyenv/versions/3.8.13/lib/python3.8/site-packages/albumentations/__init__.py:13: UserWarning: A new version of Albumentations is available: 1.4.21 (you have 1.4.16). Upgrade using: pip install -U albumentations. To disable automatic update checks, set the environment variable NO_ALBUMENTATIONS_UPDATE to 1.\n",
      "  check_for_updates()\n"
     ]
    }
   ],
   "source": [
    "from PIL import Image\n",
    "import os\n",
    "import cv2\n",
    "import numpy as np\n",
    "import xml.etree.ElementTree as ET\n",
    "import pandas as pd\n",
    "from torch.utils.data import Dataset, DataLoader\n",
    "import torchvision.transforms as T\n",
    "import torch\n",
    "import albumentations as A\n",
    "from albumentations.pytorch import ToTensorV2\n",
    "import matplotlib.pyplot as plt\n",
    "import matplotlib.patches as patches\n",
    "import torch.nn as nn\n",
    "import torchvision.models as models\n",
    "import torch.optim as optim\n",
    "import torch.nn.functional as F\n",
    "import torchvision.ops as ops \n",
    "from torchvision.ops import roi_pool\n",
    "from torch.utils.data import DataLoader\n",
    "import torchvision.transforms as transforms\n",
    "from sklearn.metrics import accuracy_score\n",
    "from sklearn.base import BaseEstimator\n",
    "from sklearn.model_selection import GridSearchCV"
   ]
  },
  {
   "cell_type": "code",
   "execution_count": 2,
   "id": "8535a5ec",
   "metadata": {},
   "outputs": [],
   "source": [
    "data = {\n",
    "    'filename': [],\n",
    "    'width': [],\n",
    "    'height': [],\n",
    "    'class': [],\n",
    "    'xmin': [],\n",
    "    'ymin': [],\n",
    "    'xmax': [],\n",
    "    'ymax': []\n",
    "}"
   ]
  },
  {
   "cell_type": "code",
   "execution_count": 3,
   "id": "e2e10652",
   "metadata": {},
   "outputs": [],
   "source": [
    "def get_file_image_dimensions(file_path):\n",
    "    if not os.path.isfile(file_path):\n",
    "        return None, None\n",
    "    with Image.open(file_path) as img:\n",
    "        width, height = img.size\n",
    "    return width, height\n",
    "\n",
    "def get_xml_image_dimensions(xml_file):\n",
    "    tree = ET.parse(xml_file)\n",
    "    root = tree.getroot()\n",
    "\n",
    "    size = root.find('size')\n",
    "    if size is not None:\n",
    "        width = size.find('width').text\n",
    "        height = size.find('height').text\n",
    "        if width and height:\n",
    "            return int(width), int(height)\n",
    "    return 0, 0  \n",
    "\n",
    "\n",
    "def get_image_dimensions(xml_file, image_file_path):\n",
    "    width, height = get_xml_image_dimensions(xml_file)\n",
    "    \n",
    "    if width == 0 or height == 0:\n",
    "        width, height = get_file_image_dimensions(image_file_path)\n",
    "        \n",
    "    return width, height\n",
    "\n",
    "\n",
    "def parse_xml(xml_file, image_file_path):\n",
    "    tree = ET.parse(xml_file)\n",
    "    root = tree.getroot()\n",
    "\n",
    "    filename = root.find('filename').text\n",
    "    \n",
    "    width, height = get_image_dimensions(xml_file, image_file_path)\n",
    "\n",
    "\n",
    "    for obj in root.iter('object'):\n",
    "        obj_class = obj.find('name').text\n",
    "        bbox = obj.find('bndbox')\n",
    "        xmin = int(bbox.find('xmin').text)\n",
    "        ymin = int(bbox.find('ymin').text)\n",
    "        xmax = int(bbox.find('xmax').text)\n",
    "        ymax = int(bbox.find('ymax').text)\n",
    "\n",
    "        data['filename'].append(filename)\n",
    "        data['width'].append(width)\n",
    "        data['height'].append(height)\n",
    "        data['class'].append(obj_class)\n",
    "        data['xmin'].append(xmin)\n",
    "        data['ymin'].append(ymin)\n",
    "        data['xmax'].append(xmax)\n",
    "        data['ymax'].append(ymax)\n"
   ]
  },
  {
   "cell_type": "code",
   "execution_count": 4,
   "id": "acdeeb49",
   "metadata": {},
   "outputs": [],
   "source": [
    "class FruitDataset(Dataset):\n",
    "    def __init__(self, data_dir, transforms=None, image_size=(256, 256)):\n",
    "        self.data_dir = data_dir\n",
    "        self.transforms = transforms\n",
    "        self.image_size = image_size \n",
    "        \n",
    "        self.images = [f for f in os.listdir(data_dir) if f.endswith('.jpg')]\n",
    "        \n",
    "        for image_file in self.images:\n",
    "            xml_file = image_file.replace('.jpg', '.xml')\n",
    "            xml_path = os.path.join(data_dir, xml_file)\n",
    "            image_path = os.path.join(data_dir, image_file)\n",
    "            if os.path.exists(xml_path):\n",
    "                parse_xml(xml_path, image_path)\n",
    "        \n",
    "        self.dataframe = pd.DataFrame(data)\n",
    "\n",
    "    def __len__(self):\n",
    "        return len(self.images)\n",
    "    \n",
    "    def class_to_label(self, class_name):\n",
    "        class_mapping = {'apple': 0, 'banana': 1, 'orange': 2}\n",
    "        return class_mapping.get(class_name, 0) \n",
    "    \n",
    "    def __getitem__(self, idx):\n",
    "        image_name = self.images[idx]\n",
    "        image_path = os.path.join(self.data_dir, image_name)\n",
    "\n",
    "    # Завантажуємо зображення\n",
    "        image = cv2.imread(image_path)\n",
    "    \n",
    "    # Перетворюємо в RGB\n",
    "        image = cv2.cvtColor(image, cv2.COLOR_BGR2RGB).astype(np.float32) / 255.0\n",
    "\n",
    "        boxes = []\n",
    "        labels = []\n",
    "    \n",
    "        image_data = self.dataframe[self.dataframe['filename'] == image_name]\n",
    "        for _, row in image_data.iterrows():\n",
    "            xmin = row['xmin']\n",
    "            ymin = row['ymin']\n",
    "            xmax = row['xmax']\n",
    "            ymax = row['ymax']\n",
    "            label = self.class_to_label(row['class'])\n",
    "            boxes.append([xmin, ymin, xmax, ymax])\n",
    "            labels.append(label)\n",
    "    \n",
    "        orig_height, orig_width = image.shape[:2]\n",
    "    \n",
    "    # Приведення всіх зображень до одного розміру\n",
    "        image = cv2.resize(image, self.image_size)\n",
    "    \n",
    "    # Пропорційне масштабування bounding boxes\n",
    "        scale_x = self.image_size[0] / orig_width\n",
    "        scale_y = self.image_size[1] / orig_height\n",
    "        boxes = [[xmin * scale_x, ymin * scale_y, xmax * scale_x, ymax * scale_y] for xmin, ymin, xmax, ymax in boxes]\n",
    "    \n",
    "        boxes = [[xmin / self.image_size[0], ymin / self.image_size[1], xmax / self.image_size[0], ymax / self.image_size[1]] for xmin, ymin, xmax, ymax in boxes]\n",
    "\n",
    "        if self.transforms:\n",
    "            transformed = self.transforms(image=image, bboxes=boxes, labels=labels)\n",
    "            image = transformed['image']\n",
    "            boxes = torch.as_tensor(transformed['bboxes'], dtype=torch.float32)\n",
    "\n",
    "        labels = torch.as_tensor(labels, dtype=torch.int64)\n",
    "    \n",
    "        target = {\"boxes\": boxes, \"labels\": labels}\n",
    "    \n",
    "        return image, target"
   ]
  },
  {
   "cell_type": "code",
   "execution_count": 5,
   "id": "62420d9a",
   "metadata": {},
   "outputs": [
    {
     "name": "stdout",
     "output_type": "stream",
     "text": [
      "torch.Size([3, 256, 256]) tensor([[0.1370, 0.2783, 0.6315, 0.8035]])\n",
      "torch.Size([3, 256, 256]) tensor([[0.0000, 0.1158, 0.8675, 0.9570]])\n",
      "torch.Size([3, 256, 256]) tensor([[0.0227, 0.0014, 0.6516, 0.2972]])\n",
      "torch.Size([3, 256, 256]) tensor([[0.1200, 0.1026, 0.8900, 0.8462]])\n",
      "torch.Size([3, 256, 256]) tensor([[0.1092, 0.1378, 0.5130, 0.9212],\n",
      "        [0.4827, 0.0489, 0.8801, 0.7345]])\n",
      "torch.Size([3, 256, 256]) tensor([[0.0808, 0.0000, 0.9314, 1.0000]])\n",
      "torch.Size([3, 256, 256]) tensor([[0.0875, 0.0417, 0.3625, 0.3767],\n",
      "        [0.0437, 0.3617, 0.3162, 0.7550],\n",
      "        [0.2288, 0.2950, 0.4775, 0.6850],\n",
      "        [0.7563, 0.4967, 0.9837, 0.8550],\n",
      "        [0.6225, 0.6167, 0.8438, 0.9450],\n",
      "        [0.4162, 0.3983, 0.7175, 0.7717],\n",
      "        [0.2387, 0.5833, 0.4663, 0.9050],\n",
      "        [0.5537, 0.7083, 0.8188, 0.9967]])\n",
      "torch.Size([3, 256, 256]) tensor([[0.6438, 0.4283, 0.9350, 0.8733],\n",
      "        [0.4238, 0.5750, 0.7225, 0.9483],\n",
      "        [0.0125, 0.3983, 0.2675, 0.7850],\n",
      "        [0.2412, 0.3183, 0.5288, 0.6767],\n",
      "        [0.5525, 0.2933, 0.7937, 0.5450],\n",
      "        [0.3762, 0.0367, 0.6662, 0.3600],\n",
      "        [0.6687, 0.0917, 0.8750, 0.3667]])\n",
      "torch.Size([3, 256, 256]) tensor([[0., 0., 1., 1.]])\n",
      "torch.Size([3, 256, 256]) tensor([[0.3354, 0.2000, 0.7992, 0.6396]])\n",
      "torch.Size([3, 256, 256]) tensor([[0.6484, 0.3545, 0.8625, 0.8127],\n",
      "        [0.6641, 0.1383, 0.8766, 0.5389],\n",
      "        [0.1344, 0.3401, 0.3406, 0.7579],\n",
      "        [0.0688, 0.1527, 0.3016, 0.5274],\n",
      "        [0.2844, 0.2161, 0.5078, 0.6311],\n",
      "        [0.3891, 0.3660, 0.6250, 0.7752],\n",
      "        [0.5172, 0.0922, 0.7250, 0.4553]])\n",
      "torch.Size([3, 256, 256]) tensor([[0.0807, 0.0821, 0.9206, 0.9190]])\n",
      "torch.Size([3, 256, 256]) tensor([[0.4100, 0.1890, 0.9167, 0.9154]])\n",
      "torch.Size([3, 256, 256]) tensor([[0.0060, 0.0158, 1.0000, 0.9967]])\n",
      "torch.Size([3, 256, 256]) tensor([[0.0216, 0.5251, 0.3895, 0.9642],\n",
      "        [0.2535, 0.1495, 0.5815, 0.5567],\n",
      "        [0.4709, 0.2902, 0.8678, 0.7328],\n",
      "        [0.4241, 0.0094, 0.7456, 0.3765],\n",
      "        [0.1348, 0.0000, 0.4728, 0.3488]])\n",
      "torch.Size([3, 256, 256]) tensor([[0.4300, 0.3620, 0.8120, 0.7400],\n",
      "        [0.6560, 0.3460, 0.9760, 0.7020]])\n",
      "torch.Size([3, 256, 256]) tensor([[0.1757, 0.1920, 0.8431, 0.6920]])\n",
      "torch.Size([3, 256, 256]) tensor([[0.2833, 0.2139, 0.8667, 0.8278]])\n",
      "torch.Size([3, 256, 256]) tensor([[0.3931, 0.2109, 0.9515, 0.7851],\n",
      "        [0.0772, 0.1743, 0.5842, 0.6584]])\n"
     ]
    },
    {
     "name": "stderr",
     "output_type": "stream",
     "text": [
      "libpng warning: iCCP: known incorrect sRGB profile\n",
      "libpng warning: iCCP: known incorrect sRGB profile\n",
      "libpng warning: iCCP: known incorrect sRGB profile\n"
     ]
    },
    {
     "name": "stdout",
     "output_type": "stream",
     "text": [
      "torch.Size([3, 256, 256]) tensor([[0.1167, 0.3764, 0.4075, 0.8381],\n",
      "        [0.3242, 0.4228, 0.6817, 0.8632],\n",
      "        [0.5175, 0.3476, 0.8042, 0.7779],\n",
      "        [0.3042, 0.0765, 0.6708, 0.5257]])\n",
      "torch.Size([3, 256, 256]) tensor([[0.0240, 0.1080, 0.6840, 0.7720]])\n",
      "torch.Size([3, 256, 256]) tensor([[0.2620, 0.2216, 0.7819, 0.7163]])\n",
      "torch.Size([3, 256, 256]) tensor([[0.3841, 0.1253, 0.7331, 0.6071],\n",
      "        [0.1441, 0.2691, 0.4733, 0.7505],\n",
      "        [0.2077, 0.3587, 0.9765, 0.9639]])\n",
      "torch.Size([3, 256, 256]) tensor([[0.0833, 0.1400, 0.9167, 0.9900]])\n",
      "torch.Size([3, 256, 256]) tensor([[0.2542, 0.2806, 0.6906, 0.8333],\n",
      "        [0.6917, 0.1778, 0.9573, 0.5125]])\n",
      "torch.Size([3, 256, 256]) tensor([[0.1841, 0.0077, 1.0000, 1.0000]])\n",
      "torch.Size([3, 256, 256]) tensor([[0.1654, 0.2305, 0.8808, 0.8475]])\n",
      "torch.Size([3, 256, 256]) tensor([[0.1439, 0.1909, 0.9045, 0.8061]])\n",
      "torch.Size([3, 256, 256]) tensor([[0.0445, 0.0860, 0.9161, 1.0000]])\n",
      "torch.Size([3, 256, 256]) tensor([[0.0971, 0.3173, 0.8110, 0.9583],\n",
      "        [0.3272, 0.3655, 0.7860, 0.8553]])\n",
      "torch.Size([3, 256, 256]) tensor([[0.1744, 0.1602, 0.4533, 0.6322],\n",
      "        [0.5063, 0.2069, 0.6959, 0.7214],\n",
      "        [0.5608, 0.1439, 0.8086, 0.5650],\n",
      "        [0.3557, 0.2236, 0.5438, 0.7396]])\n",
      "torch.Size([3, 256, 256]) tensor([[0.4748, 0.4461, 0.8178, 0.8085],\n",
      "        [0.1865, 0.4369, 0.5484, 0.7599],\n",
      "        [0.2978, 0.2519, 0.6644, 0.5990]])\n",
      "torch.Size([3, 256, 256]) tensor([[0.4866, 0.1982, 0.9626, 0.8939],\n",
      "        [0.1520, 0.1732, 0.4962, 0.6563],\n",
      "        [0.2827, 0.4739, 0.6569, 0.9573]])\n",
      "torch.Size([3, 256, 256]) tensor([[0.3155, 0.0376, 1.0000, 0.7430],\n",
      "        [0.2428, 0.2185, 1.0000, 1.0000]])\n",
      "torch.Size([3, 256, 256]) tensor([[0.1567, 0.1322, 0.9833, 1.0000]])\n"
     ]
    },
    {
     "name": "stderr",
     "output_type": "stream",
     "text": [
      "libpng warning: iCCP: known incorrect sRGB profile\n"
     ]
    },
    {
     "name": "stdout",
     "output_type": "stream",
     "text": [
      "torch.Size([3, 256, 256]) tensor([[0.1459, 0.0439, 0.6137, 0.6455],\n",
      "        [0.3771, 0.0852, 0.9082, 0.7686],\n",
      "        [0.0000, 0.2139, 0.8640, 1.0000]])\n",
      "torch.Size([3, 256, 256]) tensor([[0.3040, 0.1097, 0.5176, 0.4501],\n",
      "        [0.5370, 0.1919, 0.7312, 0.5489],\n",
      "        [0.5070, 0.5134, 0.7493, 0.8748]])\n",
      "torch.Size([3, 256, 256]) tensor([[0.4731, 0.3150, 0.9156, 0.9221],\n",
      "        [0.0705, 0.4095, 0.7230, 0.9517],\n",
      "        [0.0894, 0.2228, 0.7289, 0.6759]])\n",
      "torch.Size([3, 256, 256]) tensor([[0.2165, 0.1702, 0.9529, 0.6170],\n",
      "        [0.0706, 0.2376, 0.5953, 1.0000],\n",
      "        [0.1788, 0.2695, 0.8659, 0.7979]])\n",
      "torch.Size([3, 256, 256]) tensor([[0.4023, 0.1011, 0.7264, 0.8362]])\n",
      "torch.Size([3, 256, 256]) tensor([[0.0000, 0.1643, 1.0000, 1.0000]])\n",
      "torch.Size([3, 256, 256]) tensor([[0.3169, 0.1390, 0.8575, 0.6669]])\n",
      "torch.Size([3, 256, 256]) tensor([[0.0080, 0.0740, 0.6800, 0.8000]])\n",
      "torch.Size([3, 256, 256]) tensor([[0.1689, 0.1011, 0.8360, 0.9212],\n",
      "        [0.3617, 0.1165, 0.9677, 1.0000],\n",
      "        [0.0904, 0.0804, 0.7357, 0.7218]])\n",
      "torch.Size([3, 256, 256]) tensor([[0.0274, 0.2545, 0.4820, 0.8629],\n",
      "        [0.1570, 0.1419, 0.8432, 0.5604],\n",
      "        [0.2422, 0.3369, 0.8775, 0.8448]])\n",
      "torch.Size([3, 256, 256]) tensor([[0.5109, 0.0488, 0.9025, 0.6109]])\n",
      "torch.Size([3, 256, 256]) tensor([[0.1850, 0.6661, 0.3858, 0.9141],\n",
      "        [0.8295, 0.5663, 0.9703, 0.7532],\n",
      "        [0.7775, 0.4330, 0.9472, 0.6270],\n",
      "        [0.1858, 0.3822, 0.6115, 0.6508],\n",
      "        [0.2539, 0.4793, 0.6422, 0.7331],\n",
      "        [0.4609, 0.3704, 0.7369, 0.7322],\n",
      "        [0.5147, 0.4873, 0.7545, 0.8087],\n",
      "        [0.4545, 0.1992, 0.6466, 0.4558],\n",
      "        [0.6348, 0.2622, 0.8352, 0.5242]])\n",
      "torch.Size([3, 256, 256]) tensor([[0.0855, 0.0379, 0.5335, 0.6722],\n",
      "        [0.0853, 0.6248, 0.9764, 1.0000],\n",
      "        [0.5124, 0.0000, 0.9351, 0.6374]])\n",
      "torch.Size([3, 256, 256]) tensor([[0.0490, 0.1750, 0.4847, 0.9124],\n",
      "        [0.4858, 0.1033, 0.9934, 0.9909]])\n",
      "torch.Size([3, 256, 256]) tensor([[0.1990, 0.3280, 0.8418, 0.8880]])\n",
      "torch.Size([3, 256, 256]) tensor([[0.0122, 0.3700, 0.8407, 1.0000]])\n",
      "torch.Size([3, 256, 256]) tensor([[0.2896, 0.1253, 0.9035, 0.9896]])\n",
      "torch.Size([3, 256, 256]) tensor([[0.0473, 0.1156, 0.8504, 1.0000]])\n",
      "torch.Size([3, 256, 256]) tensor([[0.0803, 0.2033, 0.9021, 0.9760]])\n",
      "torch.Size([3, 256, 256]) tensor([[0.0534, 0.0806, 0.9377, 0.9403]])\n",
      "torch.Size([3, 256, 256]) tensor([[0.0202, 0.0403, 0.9514, 1.0000]])\n",
      "torch.Size([3, 256, 256]) tensor([[0.0383, 0.4350, 0.9820, 0.9831],\n",
      "        [0.2432, 0.2571, 0.9685, 0.6441],\n",
      "        [0.2568, 0.1017, 0.8761, 0.4831]])\n",
      "torch.Size([3, 256, 256]) tensor([[0.0518, 0.0503, 1.0000, 0.9746]])\n",
      "torch.Size([3, 256, 256]) tensor([[0.1812, 0.3500, 0.8713, 0.8067]])\n",
      "torch.Size([3, 256, 256]) tensor([[0.0000, 0.5724, 0.8755, 0.9827]])\n"
     ]
    }
   ],
   "source": [
    "transform = A.Compose([\n",
    "    \n",
    "    # Дзеркально відображає зобреження, щоб в подальшому модель звикала до симетрії(обʼєкт може бути як ліворуч так і праворуч)\n",
    "    A.HorizontalFlip(p=0.5),\n",
    "    # Перевертає зображення щоб якщо обʼєкти були перевернутими, або нахиленимим, модель всеодно їх впізнавала\n",
    "    A.Rotate(limit=15, p=0.5),\n",
    "    # Допомагає моделі розпізнавати обʼєкти не залежно від умов освітлення\n",
    "    A.ColorJitter(brightness=0.3, contrast=0.3, saturation=0.3, hue=0.2, p=0.5),\n",
    "    # моделі в PyTorch очікують вхідні дані у вигляді тензорів\n",
    "    ToTensorV2(p=1.0),\n",
    "], bbox_params=A.BboxParams(format='albumentations', label_fields=['labels']))\n",
    "\n",
    "dataset = FruitDataset(data_dir='/Users/matvejzasadko/Downloads/All/Study/NNetworks/Lb1/archive/train_zip/train', transforms=transform, image_size=(256, 256))\n",
    "\n",
    "dataloader = DataLoader(dataset, batch_size=4, shuffle=True, collate_fn=lambda x: tuple(zip(*x)))\n",
    "\n",
    "for images, targets in dataloader:\n",
    "    print(images[0].shape, targets[0]['boxes'])"
   ]
  },
  {
   "cell_type": "code",
   "execution_count": null,
   "id": "2e7b45a4",
   "metadata": {},
   "outputs": [],
   "source": [
    "import torch\n",
    "import torch.nn as nn\n",
    "import torchvision.models as models\n",
    "from torchvision.ops import roi_pool\n",
    "\n",
    "class RCNN(nn.Module):\n",
    "    def __init__(self, num_classes, num_rois=9):\n",
    "        super(RCNN, self).__init__()\n",
    "        \n",
    "        self.feature_extractor = models.alexnet(pretrained=True).features\n",
    "        self.avgpool = nn.AdaptiveAvgPool2d((6, 6))\n",
    "        \n",
    "        self.fc = nn.Sequential(\n",
    "            nn.Flatten(),\n",
    "            nn.Linear(256 * 6 * 6, 4096),\n",
    "            nn.ReLU(),\n",
    "            nn.Dropout(),\n",
    "            nn.Linear(4096, 4096),\n",
    "            nn.ReLU(),\n",
    "            nn.Dropout()\n",
    "        )\n",
    "        \n",
    "        self.bbox_head = nn.Linear(4096, num_rois * 4)\n",
    "        \n",
    "        self.class_head = nn.Linear(4096, num_rois * num_classes)\n",
    "        \n",
    "        self.num_classes = num_classes\n",
    "        self.num_rois = num_rois\n",
    "\n",
    "    def forward(self, x, rois):\n",
    "        features = self.feature_extractor(x)\n",
    "        \n",
    "        pooled_features = roi_pool(features, rois, output_size=(6, 6))\n",
    "        \n",
    "        x = self.avgpool(pooled_features)\n",
    "        x = self.fc(x)\n",
    "\n",
    "        bbox_coords = self.bbox_head(x)\n",
    "        bbox_coords = bbox_coords.view(-1, self.num_rois, 4)\n",
    "\n",
    "        class_scores = self.class_head(x)\n",
    "        class_scores = class_scores.view(-1, self.num_rois, self.num_classes)\n",
    "        \n",
    "        return bbox_coords, class_scores\n",
    "\n",
    "num_classes = 4 \n",
    "num_rois = 9\n",
    "model = RCNN(num_classes=num_classes, num_rois=num_rois)\n",
    "\n",
    "dummy_input = torch.randn(1, 3, 512, 512) \n",
    "dummy_rois = torch.tensor([[0, 50, 50, 400, 400]], dtype=torch.float)\n",
    "\n",
    "bbox_coords, class_scores = model(dummy_input, dummy_rois)\n",
    "\n",
    "print(\"Bounding Box Coordinates:\", bbox_coords)\n",
    "print(\"Class Scores:\", class_scores)"
   ]
  },
  {
   "cell_type": "code",
   "execution_count": 10,
   "id": "8421cb29",
   "metadata": {},
   "outputs": [
    {
     "name": "stderr",
     "output_type": "stream",
     "text": [
      "libpng warning: iCCP: known incorrect sRGB profile\n",
      "libpng warning: iCCP: known incorrect sRGB profile\n",
      "libpng warning: iCCP: known incorrect sRGB profile\n",
      "libpng warning: iCCP: known incorrect sRGB profile\n"
     ]
    },
    {
     "name": "stdout",
     "output_type": "stream",
     "text": [
      "Epoch [1/20], BBox Loss: 0.1433, Class Loss: 1.0882\n"
     ]
    },
    {
     "name": "stderr",
     "output_type": "stream",
     "text": [
      "libpng warning: iCCP: known incorrect sRGB profile\n",
      "libpng warning: iCCP: known incorrect sRGB profile\n",
      "libpng warning: iCCP: known incorrect sRGB profile\n",
      "libpng warning: iCCP: known incorrect sRGB profile\n"
     ]
    },
    {
     "name": "stdout",
     "output_type": "stream",
     "text": [
      "Epoch [2/20], BBox Loss: 0.1349, Class Loss: 1.0681\n"
     ]
    },
    {
     "name": "stderr",
     "output_type": "stream",
     "text": [
      "libpng warning: iCCP: known incorrect sRGB profile\n",
      "libpng warning: iCCP: known incorrect sRGB profile\n",
      "libpng warning: iCCP: known incorrect sRGB profile\n",
      "libpng warning: iCCP: known incorrect sRGB profile\n"
     ]
    },
    {
     "name": "stdout",
     "output_type": "stream",
     "text": [
      "Epoch [3/20], BBox Loss: 0.1256, Class Loss: 1.0369\n"
     ]
    },
    {
     "name": "stderr",
     "output_type": "stream",
     "text": [
      "libpng warning: iCCP: known incorrect sRGB profile\n",
      "libpng warning: iCCP: known incorrect sRGB profile\n",
      "libpng warning: iCCP: known incorrect sRGB profile\n",
      "libpng warning: iCCP: known incorrect sRGB profile\n"
     ]
    },
    {
     "name": "stdout",
     "output_type": "stream",
     "text": [
      "Epoch [4/20], BBox Loss: 0.1058, Class Loss: 0.9837\n"
     ]
    },
    {
     "name": "stderr",
     "output_type": "stream",
     "text": [
      "libpng warning: iCCP: known incorrect sRGB profile\n",
      "libpng warning: iCCP: known incorrect sRGB profile\n",
      "libpng warning: iCCP: known incorrect sRGB profile\n",
      "libpng warning: iCCP: known incorrect sRGB profile\n"
     ]
    },
    {
     "name": "stdout",
     "output_type": "stream",
     "text": [
      "Epoch [5/20], BBox Loss: 0.0822, Class Loss: 0.9086\n"
     ]
    },
    {
     "name": "stderr",
     "output_type": "stream",
     "text": [
      "libpng warning: iCCP: known incorrect sRGB profile\n",
      "libpng warning: iCCP: known incorrect sRGB profile\n",
      "libpng warning: iCCP: known incorrect sRGB profile\n",
      "libpng warning: iCCP: known incorrect sRGB profile\n"
     ]
    },
    {
     "name": "stdout",
     "output_type": "stream",
     "text": [
      "Epoch [6/20], BBox Loss: 0.0660, Class Loss: 0.8236\n"
     ]
    },
    {
     "name": "stderr",
     "output_type": "stream",
     "text": [
      "libpng warning: iCCP: known incorrect sRGB profile\n",
      "libpng warning: iCCP: known incorrect sRGB profile\n",
      "libpng warning: iCCP: known incorrect sRGB profile\n",
      "libpng warning: iCCP: known incorrect sRGB profile\n"
     ]
    },
    {
     "name": "stdout",
     "output_type": "stream",
     "text": [
      "Epoch [7/20], BBox Loss: 0.0543, Class Loss: 0.7487\n"
     ]
    },
    {
     "name": "stderr",
     "output_type": "stream",
     "text": [
      "libpng warning: iCCP: known incorrect sRGB profile\n",
      "libpng warning: iCCP: known incorrect sRGB profile\n",
      "libpng warning: iCCP: known incorrect sRGB profile\n",
      "libpng warning: iCCP: known incorrect sRGB profile\n"
     ]
    },
    {
     "name": "stdout",
     "output_type": "stream",
     "text": [
      "Epoch [8/20], BBox Loss: 0.0518, Class Loss: 0.7004\n"
     ]
    },
    {
     "name": "stderr",
     "output_type": "stream",
     "text": [
      "libpng warning: iCCP: known incorrect sRGB profile\n",
      "libpng warning: iCCP: known incorrect sRGB profile\n",
      "libpng warning: iCCP: known incorrect sRGB profile\n",
      "libpng warning: iCCP: known incorrect sRGB profile\n"
     ]
    },
    {
     "name": "stdout",
     "output_type": "stream",
     "text": [
      "Epoch [9/20], BBox Loss: 0.0524, Class Loss: 0.6731\n"
     ]
    },
    {
     "name": "stderr",
     "output_type": "stream",
     "text": [
      "libpng warning: iCCP: known incorrect sRGB profile\n",
      "libpng warning: iCCP: known incorrect sRGB profile\n",
      "libpng warning: iCCP: known incorrect sRGB profile\n",
      "libpng warning: iCCP: known incorrect sRGB profile\n"
     ]
    },
    {
     "name": "stdout",
     "output_type": "stream",
     "text": [
      "Epoch [10/20], BBox Loss: 0.0519, Class Loss: 0.6589\n"
     ]
    },
    {
     "name": "stderr",
     "output_type": "stream",
     "text": [
      "libpng warning: iCCP: known incorrect sRGB profile\n",
      "libpng warning: iCCP: known incorrect sRGB profile\n",
      "libpng warning: iCCP: known incorrect sRGB profile\n",
      "libpng warning: iCCP: known incorrect sRGB profile\n"
     ]
    },
    {
     "name": "stdout",
     "output_type": "stream",
     "text": [
      "Epoch [11/20], BBox Loss: 0.0512, Class Loss: 0.6541\n"
     ]
    },
    {
     "name": "stderr",
     "output_type": "stream",
     "text": [
      "libpng warning: iCCP: known incorrect sRGB profile\n",
      "libpng warning: iCCP: known incorrect sRGB profile\n",
      "libpng warning: iCCP: known incorrect sRGB profile\n",
      "libpng warning: iCCP: known incorrect sRGB profile\n"
     ]
    },
    {
     "name": "stdout",
     "output_type": "stream",
     "text": [
      "Epoch [12/20], BBox Loss: 0.0512, Class Loss: 0.6498\n"
     ]
    },
    {
     "name": "stderr",
     "output_type": "stream",
     "text": [
      "libpng warning: iCCP: known incorrect sRGB profile\n",
      "libpng warning: iCCP: known incorrect sRGB profile\n",
      "libpng warning: iCCP: known incorrect sRGB profile\n",
      "libpng warning: iCCP: known incorrect sRGB profile\n"
     ]
    },
    {
     "name": "stdout",
     "output_type": "stream",
     "text": [
      "Epoch [13/20], BBox Loss: 0.0517, Class Loss: 0.6468\n"
     ]
    },
    {
     "name": "stderr",
     "output_type": "stream",
     "text": [
      "libpng warning: iCCP: known incorrect sRGB profile\n",
      "libpng warning: iCCP: known incorrect sRGB profile\n",
      "libpng warning: iCCP: known incorrect sRGB profile\n",
      "libpng warning: iCCP: known incorrect sRGB profile\n"
     ]
    },
    {
     "name": "stdout",
     "output_type": "stream",
     "text": [
      "Epoch [14/20], BBox Loss: 0.0520, Class Loss: 0.6452\n"
     ]
    },
    {
     "name": "stderr",
     "output_type": "stream",
     "text": [
      "libpng warning: iCCP: known incorrect sRGB profile\n",
      "libpng warning: iCCP: known incorrect sRGB profile\n",
      "libpng warning: iCCP: known incorrect sRGB profile\n",
      "libpng warning: iCCP: known incorrect sRGB profile\n"
     ]
    },
    {
     "name": "stdout",
     "output_type": "stream",
     "text": [
      "Epoch [15/20], BBox Loss: 0.0516, Class Loss: 0.6443\n"
     ]
    },
    {
     "name": "stderr",
     "output_type": "stream",
     "text": [
      "libpng warning: iCCP: known incorrect sRGB profile\n",
      "libpng warning: iCCP: known incorrect sRGB profile\n",
      "libpng warning: iCCP: known incorrect sRGB profile\n",
      "libpng warning: iCCP: known incorrect sRGB profile\n"
     ]
    },
    {
     "name": "stdout",
     "output_type": "stream",
     "text": [
      "Epoch [16/20], BBox Loss: 0.0513, Class Loss: 0.6434\n"
     ]
    },
    {
     "name": "stderr",
     "output_type": "stream",
     "text": [
      "libpng warning: iCCP: known incorrect sRGB profile\n",
      "libpng warning: iCCP: known incorrect sRGB profile\n",
      "libpng warning: iCCP: known incorrect sRGB profile\n",
      "libpng warning: iCCP: known incorrect sRGB profile\n"
     ]
    },
    {
     "name": "stdout",
     "output_type": "stream",
     "text": [
      "Epoch [17/20], BBox Loss: 0.0518, Class Loss: 0.6437\n"
     ]
    },
    {
     "name": "stderr",
     "output_type": "stream",
     "text": [
      "libpng warning: iCCP: known incorrect sRGB profile\n",
      "libpng warning: iCCP: known incorrect sRGB profile\n",
      "libpng warning: iCCP: known incorrect sRGB profile\n",
      "libpng warning: iCCP: known incorrect sRGB profile\n"
     ]
    },
    {
     "name": "stdout",
     "output_type": "stream",
     "text": [
      "Epoch [18/20], BBox Loss: 0.0512, Class Loss: 0.6434\n"
     ]
    },
    {
     "name": "stderr",
     "output_type": "stream",
     "text": [
      "libpng warning: iCCP: known incorrect sRGB profile\n",
      "libpng warning: iCCP: known incorrect sRGB profile\n",
      "libpng warning: iCCP: known incorrect sRGB profile\n",
      "libpng warning: iCCP: known incorrect sRGB profile\n"
     ]
    },
    {
     "name": "stdout",
     "output_type": "stream",
     "text": [
      "Epoch [19/20], BBox Loss: 0.0522, Class Loss: 0.6439\n"
     ]
    },
    {
     "name": "stderr",
     "output_type": "stream",
     "text": [
      "libpng warning: iCCP: known incorrect sRGB profile\n",
      "libpng warning: iCCP: known incorrect sRGB profile\n",
      "libpng warning: iCCP: known incorrect sRGB profile\n",
      "libpng warning: iCCP: known incorrect sRGB profile\n"
     ]
    },
    {
     "name": "stdout",
     "output_type": "stream",
     "text": [
      "Epoch [20/20], BBox Loss: 0.0511, Class Loss: 0.6411\n",
      "Тренування завершено.\n"
     ]
    }
   ],
   "source": [
    "import torch\n",
    "import torch.optim as optim\n",
    "import torch.nn.functional as F\n",
    "import torch.nn as nn\n",
    "\n",
    "num_epochs = 20\n",
    "learning_rate = 0.00001\n",
    "\n",
    "num_classes = 3 \n",
    "num_rois = 9\n",
    "model = RCNN(num_classes=num_classes, num_rois=num_rois)\n",
    "optimizer = optim.Adam(model.parameters(), lr=learning_rate)\n",
    "\n",
    "device = torch.device('cuda' if torch.cuda.is_available() else 'cpu')\n",
    "model.to(device)\n",
    "\n",
    "bbox_loss_fn = nn.MSELoss() \n",
    "class_loss_fn = nn.CrossEntropyLoss() \n",
    "\n",
    "for epoch in range(num_epochs):\n",
    "    model.train()\n",
    "    total_bbox_loss = 0.0\n",
    "    total_class_loss = 0.0\n",
    "    \n",
    "    for images, targets in dataloader: \n",
    "        images = torch.stack(images).to(device)\n",
    "        targets = [{k: v.to(device) for k, v in t.items()} for t in targets]\n",
    "        \n",
    "        rois = []\n",
    "        for idx in range(len(images)):\n",
    "            roi = torch.tensor([[idx, 50, 50, 400, 400],\n",
    "                                [idx, 100, 100, 300, 300]], dtype=torch.float, device=device)\n",
    "            rois.append(roi)\n",
    "        \n",
    "        rois = torch.cat(rois, dim=0) \n",
    "        \n",
    "        bbox_preds, class_preds = model(images, rois)\n",
    "        \n",
    "        batch_bbox_loss = 0.0\n",
    "        batch_class_loss = 0.0\n",
    "\n",
    "        for i, target in enumerate(targets):\n",
    "            num_boxes = target['boxes'].shape[0]\n",
    "            if num_boxes > num_rois:\n",
    "                bboxes = target['boxes'][:num_rois]\n",
    "                labels = target['labels'][:num_rois]\n",
    "            else:\n",
    "                padding_boxes = torch.zeros((num_rois - num_boxes, 4), device=device)\n",
    "                padding_labels = torch.zeros(num_rois - num_boxes, dtype=torch.long, device=device)\n",
    "                bboxes = torch.cat([target['boxes'], padding_boxes], dim=0)\n",
    "                labels = torch.cat([target['labels'], padding_labels], dim=0)\n",
    "                \n",
    "            batch_bbox_loss += bbox_loss_fn(bbox_preds[i], bboxes)\n",
    "            batch_class_loss += class_loss_fn(class_preds[i], labels)\n",
    "        \n",
    "        batch_bbox_loss /= len(targets)\n",
    "        batch_class_loss /= len(targets)\n",
    "\n",
    "        loss = batch_bbox_loss + batch_class_loss\n",
    "        \n",
    "        optimizer.zero_grad()\n",
    "        loss.backward()\n",
    "        optimizer.step()\n",
    "        \n",
    "        total_bbox_loss += batch_bbox_loss.item()\n",
    "        total_class_loss += batch_class_loss.item()\n",
    "    \n",
    "    print(f\"Epoch [{epoch+1}/{num_epochs}], BBox Loss: {total_bbox_loss/len(dataloader):.4f}, Class Loss: {total_class_loss/len(dataloader):.4f}\")\n",
    "\n",
    "print(\"Тренування завершено.\")\n"
   ]
  },
  {
   "cell_type": "code",
   "execution_count": 11,
   "id": "123d8c17",
   "metadata": {},
   "outputs": [
    {
     "name": "stdout",
     "output_type": "stream",
     "text": [
      "Тестова BBox Loss: 0.0498\n",
      "Точність класифікації: 85.00%\n"
     ]
    },
    {
     "name": "stderr",
     "output_type": "stream",
     "text": [
      "libpng warning: iCCP: known incorrect sRGB profile\n"
     ]
    }
   ],
   "source": [
    "from sklearn.metrics import accuracy_score\n",
    "\n",
    "test_dataset = FruitDataset(data_dir='/Users/matvejzasadko/Downloads/All/Study/NNetworks/Lb1/archive/test_zip/test', \n",
    "                            transforms=transform, \n",
    "                            image_size=(256, 256))\n",
    "\n",
    "test_loader = DataLoader(test_dataset, batch_size=1, shuffle=False, collate_fn=lambda x: tuple(zip(*x)))\n",
    "\n",
    "def evaluate_model(model, test_loader, device, num_rois=9):\n",
    "    model.eval()  \n",
    "    total_bbox_loss = 0.0\n",
    "    all_true_labels = []\n",
    "    all_pred_labels = []\n",
    "\n",
    "    bbox_loss_fn = nn.MSELoss() \n",
    "\n",
    "    with torch.no_grad():  \n",
    "        for images, targets in test_loader:\n",
    "            images = torch.stack(images).to(device)\n",
    "            targets = [{k: v.to(device) for k, v in t.items()} for t in targets]\n",
    "\n",
    "            rois = []\n",
    "            for idx in range(len(images)):\n",
    "                roi = torch.tensor([[idx, 50, 50, 400, 400],\n",
    "                                    [idx, 100, 100, 300, 300]], dtype=torch.float, device=device)\n",
    "                rois.append(roi)\n",
    "            \n",
    "            rois = torch.cat(rois, dim=0)  \n",
    "\n",
    "            bbox_preds, class_preds = model(images, rois)\n",
    "\n",
    "            batch_bbox_loss = 0.0\n",
    "\n",
    "            for i, target in enumerate(targets):\n",
    "                num_boxes = target['boxes'].shape[0]\n",
    "                if num_boxes > num_rois:\n",
    "                    bboxes = target['boxes'][:num_rois]\n",
    "                    labels = target['labels'][:num_rois]\n",
    "                else:\n",
    "                    padding_boxes = torch.zeros((num_rois - num_boxes, 4), device=device)\n",
    "                    padding_labels = torch.zeros(num_rois - num_boxes, dtype=torch.long, device=device)\n",
    "                    bboxes = torch.cat([target['boxes'], padding_boxes], dim=0)\n",
    "                    labels = torch.cat([target['labels'], padding_labels], dim=0)\n",
    "\n",
    "                batch_bbox_loss += bbox_loss_fn(bbox_preds[i], bboxes).item()\n",
    "\n",
    "                _, predicted_classes = torch.max(class_preds[i], 1)\n",
    "                all_true_labels.extend(labels.cpu().numpy())\n",
    "                all_pred_labels.extend(predicted_classes.cpu().numpy())\n",
    "\n",
    "            total_bbox_loss += batch_bbox_loss / len(targets)\n",
    "\n",
    "    avg_bbox_loss = total_bbox_loss / len(test_loader)\n",
    "\n",
    "    class_accuracy = accuracy_score(all_true_labels, all_pred_labels)\n",
    "\n",
    "    print(f\"Тестова BBox Loss: {avg_bbox_loss:.4f}\")\n",
    "    print(f\"Точність класифікації: {class_accuracy * 100:.2f}%\")\n",
    "\n",
    "evaluate_model(model, test_loader, device)\n"
   ]
  },
  {
   "cell_type": "code",
   "execution_count": 6,
   "id": "ca521611",
   "metadata": {},
   "outputs": [],
   "source": [
    "class RCNN_Tune(nn.Module):\n",
    "    def __init__(self, num_classes, num_rois=9, fc_hidden_size=1024, dropout_rate=0.3, kernel_size=5, pretrained=True):\n",
    "        super(RCNN_Tune, self).__init__()\n",
    "\n",
    "        self.feature_extractor = models.alexnet(pretrained=pretrained).features\n",
    "        self._update_kernel_size(kernel_size)\n",
    "        \n",
    "        self.avgpool = nn.AdaptiveAvgPool2d((6, 6))\n",
    "\n",
    "        self.fc = nn.Sequential(\n",
    "            nn.Flatten(),\n",
    "            nn.Linear(256 * 6 * 6, fc_hidden_size),\n",
    "            nn.ReLU(),\n",
    "            nn.Dropout(p=dropout_rate),\n",
    "            nn.Linear(fc_hidden_size, fc_hidden_size),\n",
    "            nn.ReLU(),\n",
    "            nn.Dropout(p=dropout_rate)\n",
    "        )\n",
    "\n",
    "        self.bbox_head = nn.Linear(fc_hidden_size, num_rois * 4)\n",
    "        self.class_head = nn.Linear(fc_hidden_size, num_rois * num_classes)\n",
    "        \n",
    "        self.num_classes = num_classes\n",
    "        self.num_rois = num_rois\n",
    "\n",
    "    def _update_kernel_size(self, kernel_size):\n",
    "        \n",
    "        for layer in self.feature_extractor:\n",
    "            if isinstance(layer, nn.Conv2d):\n",
    "                layer.kernel_size = (kernel_size, kernel_size)\n",
    "                layer.padding = (kernel_size // 2, kernel_size // 2)  \n",
    "        \n",
    "    def forward(self, x, rois):\n",
    "        features = self.feature_extractor(x)\n",
    "        \n",
    "        pooled_features = roi_pool(features, rois, output_size=(6, 6))\n",
    "        \n",
    "        x = self.avgpool(pooled_features)\n",
    "        x = self.fc(x)\n",
    "\n",
    "        bbox_coords = self.bbox_head(x)\n",
    "        bbox_coords = bbox_coords.view(-1, self.num_rois, 4)\n",
    "\n",
    "        class_scores = self.class_head(x)\n",
    "        class_scores = class_scores.view(-1, self.num_rois, self.num_classes)\n",
    "        \n",
    "        return bbox_coords, class_scores\n"
   ]
  },
  {
   "cell_type": "code",
   "execution_count": 7,
   "id": "206324c5",
   "metadata": {},
   "outputs": [],
   "source": [
    "class PyTorchRCNNEstimator(BaseEstimator):\n",
    "    def __init__(self, num_classes=4, num_rois=9, fc_hidden_size=4096, dropout_rate=0.5, kernel_size=3, learning_rate=0.001, num_epochs=5, pretrained=True):\n",
    "        self.num_classes = num_classes\n",
    "        self.num_rois = num_rois\n",
    "        self.fc_hidden_size = fc_hidden_size\n",
    "        self.dropout_rate = dropout_rate\n",
    "        self.kernel_size = kernel_size\n",
    "        self.learning_rate = learning_rate\n",
    "        self.num_epochs = num_epochs\n",
    "        self.pretrained = pretrained\n",
    "        self.device = torch.device('cuda' if torch.cuda.is_available() else 'cpu')\n",
    "        self.model = self._build_model()\n",
    "        \n",
    "    def _build_model(self):\n",
    "        model = RCNN_Tune(num_classes=self.num_classes, num_rois=self.num_rois, \n",
    "                     fc_hidden_size=self.fc_hidden_size, dropout_rate=self.dropout_rate, \n",
    "                     kernel_size=self.kernel_size, pretrained=self.pretrained)\n",
    "        model.to(self.device)\n",
    "        return model\n",
    "    \n",
    "    def fit(self, X, y):\n",
    "        self.model.train()\n",
    "        optimizer = optim.Adam(self.model.parameters(), lr=self.learning_rate)\n",
    "        bbox_loss_fn = nn.MSELoss()\n",
    "        class_loss_fn = nn.CrossEntropyLoss()\n",
    "        \n",
    "        for epoch in range(self.num_epochs):\n",
    "            total_bbox_loss = 0.0\n",
    "            total_class_loss = 0.0\n",
    "            \n",
    "            for images, targets in dataloader:\n",
    "                images = torch.stack(images).to(self.device)\n",
    "                targets = [{k: v.to(self.device) for k, v in t.items()} for t in targets]\n",
    "                \n",
    "                rois = torch.cat([torch.tensor([[idx, 50, 50, 400, 400], [idx, 100, 100, 300, 300]], dtype=torch.float, device=self.device) for idx in range(len(images))], dim=0)\n",
    "                bbox_preds, class_preds = self.model(images, rois)\n",
    "                \n",
    "                batch_bbox_loss = 0.0\n",
    "                batch_class_loss = 0.0\n",
    "                \n",
    "                for i, target in enumerate(targets):\n",
    "                    num_boxes = target['boxes'].shape[0]\n",
    "                    if num_boxes > self.model.num_rois:\n",
    "                        bboxes = target['boxes'][:self.model.num_rois]\n",
    "                        labels = target['labels'][:self.model.num_rois]\n",
    "                    else:\n",
    "                        padding_boxes = torch.zeros((self.model.num_rois - num_boxes, 4), device=self.device)\n",
    "                        padding_labels = torch.zeros(self.model.num_rois - num_boxes, dtype=torch.long, device=self.device)\n",
    "                        bboxes = torch.cat([target['boxes'], padding_boxes], dim=0)\n",
    "                        labels = torch.cat([target['labels'], padding_labels], dim=0)\n",
    "                    \n",
    "                    batch_bbox_loss += bbox_loss_fn(bbox_preds[i], bboxes)\n",
    "                    batch_class_loss += class_loss_fn(class_preds[i], labels)\n",
    "                \n",
    "                batch_bbox_loss /= len(targets)\n",
    "                batch_class_loss /= len(targets)\n",
    "                \n",
    "                loss = batch_bbox_loss + batch_class_loss\n",
    "                optimizer.zero_grad()\n",
    "                loss.backward()\n",
    "                optimizer.step()\n",
    "                \n",
    "                total_bbox_loss += batch_bbox_loss.item()\n",
    "                total_class_loss += batch_class_loss.item()\n",
    "        \n",
    "        return self\n",
    "\n",
    "    def score(self, X, y):\n",
    "        self.model.eval()\n",
    "        total_correct = 0\n",
    "        total = 0\n",
    "        with torch.no_grad():\n",
    "            for images, targets in dataloader:\n",
    "                images = torch.stack(images).to(self.device)\n",
    "                targets = [{k: v.to(self.device) for k, v in t.items()} for t in targets]\n",
    "                \n",
    "                rois = torch.cat([torch.tensor([[idx, 50, 50, 400, 400], [idx, 100, 100, 300, 300]], dtype=torch.float, device=self.device) for idx in range(len(images))], dim=0)\n",
    "                _, class_preds = self.model(images, rois)\n",
    "                \n",
    "                for i, target in enumerate(targets):\n",
    "                    labels = target['labels'].to(self.device)\n",
    "                    num_labels = min(len(labels), class_preds[i].shape[0])\n",
    "                    pred_labels = class_preds[i][:num_labels].argmax(dim=1)\n",
    "                    total_correct += (pred_labels == labels[:num_labels]).sum().item()\n",
    "                    total += num_labels\n",
    "        return total_correct / total\n"
   ]
  },
  {
   "cell_type": "code",
   "execution_count": 22,
   "id": "efa89add",
   "metadata": {},
   "outputs": [
    {
     "name": "stdout",
     "output_type": "stream",
     "text": [
      "Тестуємо: fc_hidden_size=2048, dropout_rate=0.4, kernel_size=5, learning_rate=0.0001\n"
     ]
    },
    {
     "name": "stderr",
     "output_type": "stream",
     "text": [
      "/Users/matvejzasadko/.pyenv/versions/3.8.13/lib/python3.8/site-packages/torchvision/models/_utils.py:208: UserWarning: The parameter 'pretrained' is deprecated since 0.13 and may be removed in the future, please use 'weights' instead.\n",
      "  warnings.warn(\n",
      "/Users/matvejzasadko/.pyenv/versions/3.8.13/lib/python3.8/site-packages/torchvision/models/_utils.py:223: UserWarning: Arguments other than a weight enum or `None` for 'weights' are deprecated since 0.13 and may be removed in the future. The current behavior is equivalent to passing `weights=AlexNet_Weights.IMAGENET1K_V1`. You can also use `weights=AlexNet_Weights.DEFAULT` to get the most up-to-date weights.\n",
      "  warnings.warn(msg)\n",
      "libpng warning: iCCP: known incorrect sRGB profile\n",
      "libpng warning: iCCP: known incorrect sRGB profile\n",
      "libpng warning: iCCP: known incorrect sRGB profile\n",
      "libpng warning: iCCP: known incorrect sRGB profile\n",
      "libpng warning: iCCP: known incorrect sRGB profile\n",
      "libpng warning: iCCP: known incorrect sRGB profile\n",
      "libpng warning: iCCP: known incorrect sRGB profile\n",
      "libpng warning: iCCP: known incorrect sRGB profile\n",
      "libpng warning: iCCP: known incorrect sRGB profile\n",
      "libpng warning: iCCP: known incorrect sRGB profile\n",
      "libpng warning: iCCP: known incorrect sRGB profile\n",
      "libpng warning: iCCP: known incorrect sRGB profile\n",
      "libpng warning: iCCP: known incorrect sRGB profile\n",
      "libpng warning: iCCP: known incorrect sRGB profile\n",
      "libpng warning: iCCP: known incorrect sRGB profile\n",
      "libpng warning: iCCP: known incorrect sRGB profile\n",
      "libpng warning: iCCP: known incorrect sRGB profile\n",
      "libpng warning: iCCP: known incorrect sRGB profile\n",
      "libpng warning: iCCP: known incorrect sRGB profile\n",
      "libpng warning: iCCP: known incorrect sRGB profile\n",
      "libpng warning: iCCP: known incorrect sRGB profile\n",
      "libpng warning: iCCP: known incorrect sRGB profile\n",
      "libpng warning: iCCP: known incorrect sRGB profile\n",
      "libpng warning: iCCP: known incorrect sRGB profile\n"
     ]
    },
    {
     "name": "stdout",
     "output_type": "stream",
     "text": [
      "Score: 0.1957\n",
      "\n",
      "Тестуємо: fc_hidden_size=2048, dropout_rate=0.4, kernel_size=8, learning_rate=0.0001\n"
     ]
    },
    {
     "name": "stderr",
     "output_type": "stream",
     "text": [
      "libpng warning: iCCP: known incorrect sRGB profile\n",
      "libpng warning: iCCP: known incorrect sRGB profile\n",
      "libpng warning: iCCP: known incorrect sRGB profile\n",
      "libpng warning: iCCP: known incorrect sRGB profile\n",
      "libpng warning: iCCP: known incorrect sRGB profile\n",
      "libpng warning: iCCP: known incorrect sRGB profile\n",
      "libpng warning: iCCP: known incorrect sRGB profile\n",
      "libpng warning: iCCP: known incorrect sRGB profile\n",
      "libpng warning: iCCP: known incorrect sRGB profile\n",
      "libpng warning: iCCP: known incorrect sRGB profile\n",
      "libpng warning: iCCP: known incorrect sRGB profile\n",
      "libpng warning: iCCP: known incorrect sRGB profile\n",
      "libpng warning: iCCP: known incorrect sRGB profile\n",
      "libpng warning: iCCP: known incorrect sRGB profile\n",
      "libpng warning: iCCP: known incorrect sRGB profile\n",
      "libpng warning: iCCP: known incorrect sRGB profile\n",
      "libpng warning: iCCP: known incorrect sRGB profile\n",
      "libpng warning: iCCP: known incorrect sRGB profile\n",
      "libpng warning: iCCP: known incorrect sRGB profile\n",
      "libpng warning: iCCP: known incorrect sRGB profile\n",
      "libpng warning: iCCP: known incorrect sRGB profile\n",
      "libpng warning: iCCP: known incorrect sRGB profile\n",
      "libpng warning: iCCP: known incorrect sRGB profile\n",
      "libpng warning: iCCP: known incorrect sRGB profile\n"
     ]
    },
    {
     "name": "stdout",
     "output_type": "stream",
     "text": [
      "Score: 0.1957\n",
      "\n",
      "Тестуємо: fc_hidden_size=2048, dropout_rate=0.5, kernel_size=5, learning_rate=0.0001\n"
     ]
    },
    {
     "name": "stderr",
     "output_type": "stream",
     "text": [
      "libpng warning: iCCP: known incorrect sRGB profile\n",
      "libpng warning: iCCP: known incorrect sRGB profile\n",
      "libpng warning: iCCP: known incorrect sRGB profile\n",
      "libpng warning: iCCP: known incorrect sRGB profile\n",
      "libpng warning: iCCP: known incorrect sRGB profile\n",
      "libpng warning: iCCP: known incorrect sRGB profile\n",
      "libpng warning: iCCP: known incorrect sRGB profile\n",
      "libpng warning: iCCP: known incorrect sRGB profile\n",
      "libpng warning: iCCP: known incorrect sRGB profile\n",
      "libpng warning: iCCP: known incorrect sRGB profile\n",
      "libpng warning: iCCP: known incorrect sRGB profile\n",
      "libpng warning: iCCP: known incorrect sRGB profile\n",
      "libpng warning: iCCP: known incorrect sRGB profile\n",
      "libpng warning: iCCP: known incorrect sRGB profile\n",
      "libpng warning: iCCP: known incorrect sRGB profile\n",
      "libpng warning: iCCP: known incorrect sRGB profile\n",
      "libpng warning: iCCP: known incorrect sRGB profile\n",
      "libpng warning: iCCP: known incorrect sRGB profile\n",
      "libpng warning: iCCP: known incorrect sRGB profile\n",
      "libpng warning: iCCP: known incorrect sRGB profile\n",
      "libpng warning: iCCP: known incorrect sRGB profile\n",
      "libpng warning: iCCP: known incorrect sRGB profile\n",
      "libpng warning: iCCP: known incorrect sRGB profile\n",
      "libpng warning: iCCP: known incorrect sRGB profile\n"
     ]
    },
    {
     "name": "stdout",
     "output_type": "stream",
     "text": [
      "Score: 0.1957\n",
      "\n",
      "Тестуємо: fc_hidden_size=2048, dropout_rate=0.5, kernel_size=8, learning_rate=0.0001\n"
     ]
    },
    {
     "name": "stderr",
     "output_type": "stream",
     "text": [
      "libpng warning: iCCP: known incorrect sRGB profile\n",
      "libpng warning: iCCP: known incorrect sRGB profile\n",
      "libpng warning: iCCP: known incorrect sRGB profile\n",
      "libpng warning: iCCP: known incorrect sRGB profile\n",
      "libpng warning: iCCP: known incorrect sRGB profile\n",
      "libpng warning: iCCP: known incorrect sRGB profile\n",
      "libpng warning: iCCP: known incorrect sRGB profile\n",
      "libpng warning: iCCP: known incorrect sRGB profile\n",
      "libpng warning: iCCP: known incorrect sRGB profile\n",
      "libpng warning: iCCP: known incorrect sRGB profile\n",
      "libpng warning: iCCP: known incorrect sRGB profile\n",
      "libpng warning: iCCP: known incorrect sRGB profile\n",
      "libpng warning: iCCP: known incorrect sRGB profile\n",
      "libpng warning: iCCP: known incorrect sRGB profile\n",
      "libpng warning: iCCP: known incorrect sRGB profile\n",
      "libpng warning: iCCP: known incorrect sRGB profile\n",
      "libpng warning: iCCP: known incorrect sRGB profile\n",
      "libpng warning: iCCP: known incorrect sRGB profile\n",
      "libpng warning: iCCP: known incorrect sRGB profile\n",
      "libpng warning: iCCP: known incorrect sRGB profile\n",
      "libpng warning: iCCP: known incorrect sRGB profile\n",
      "libpng warning: iCCP: known incorrect sRGB profile\n",
      "libpng warning: iCCP: known incorrect sRGB profile\n",
      "libpng warning: iCCP: known incorrect sRGB profile\n"
     ]
    },
    {
     "name": "stdout",
     "output_type": "stream",
     "text": [
      "Score: 0.1957\n",
      "\n",
      "Тестуємо: fc_hidden_size=4096, dropout_rate=0.4, kernel_size=5, learning_rate=0.0001\n"
     ]
    },
    {
     "name": "stderr",
     "output_type": "stream",
     "text": [
      "libpng warning: iCCP: known incorrect sRGB profile\n",
      "libpng warning: iCCP: known incorrect sRGB profile\n",
      "libpng warning: iCCP: known incorrect sRGB profile\n",
      "libpng warning: iCCP: known incorrect sRGB profile\n",
      "libpng warning: iCCP: known incorrect sRGB profile\n",
      "libpng warning: iCCP: known incorrect sRGB profile\n",
      "libpng warning: iCCP: known incorrect sRGB profile\n",
      "libpng warning: iCCP: known incorrect sRGB profile\n",
      "libpng warning: iCCP: known incorrect sRGB profile\n",
      "libpng warning: iCCP: known incorrect sRGB profile\n",
      "libpng warning: iCCP: known incorrect sRGB profile\n",
      "libpng warning: iCCP: known incorrect sRGB profile\n",
      "libpng warning: iCCP: known incorrect sRGB profile\n",
      "libpng warning: iCCP: known incorrect sRGB profile\n",
      "libpng warning: iCCP: known incorrect sRGB profile\n",
      "libpng warning: iCCP: known incorrect sRGB profile\n",
      "libpng warning: iCCP: known incorrect sRGB profile\n",
      "libpng warning: iCCP: known incorrect sRGB profile\n",
      "libpng warning: iCCP: known incorrect sRGB profile\n",
      "libpng warning: iCCP: known incorrect sRGB profile\n",
      "libpng warning: iCCP: known incorrect sRGB profile\n",
      "libpng warning: iCCP: known incorrect sRGB profile\n",
      "libpng warning: iCCP: known incorrect sRGB profile\n",
      "libpng warning: iCCP: known incorrect sRGB profile\n"
     ]
    },
    {
     "name": "stdout",
     "output_type": "stream",
     "text": [
      "Score: 0.1957\n",
      "\n",
      "Тестуємо: fc_hidden_size=4096, dropout_rate=0.4, kernel_size=8, learning_rate=0.0001\n"
     ]
    },
    {
     "name": "stderr",
     "output_type": "stream",
     "text": [
      "libpng warning: iCCP: known incorrect sRGB profile\n",
      "libpng warning: iCCP: known incorrect sRGB profile\n",
      "libpng warning: iCCP: known incorrect sRGB profile\n",
      "libpng warning: iCCP: known incorrect sRGB profile\n",
      "libpng warning: iCCP: known incorrect sRGB profile\n",
      "libpng warning: iCCP: known incorrect sRGB profile\n",
      "libpng warning: iCCP: known incorrect sRGB profile\n",
      "libpng warning: iCCP: known incorrect sRGB profile\n",
      "libpng warning: iCCP: known incorrect sRGB profile\n",
      "libpng warning: iCCP: known incorrect sRGB profile\n",
      "libpng warning: iCCP: known incorrect sRGB profile\n",
      "libpng warning: iCCP: known incorrect sRGB profile\n",
      "libpng warning: iCCP: known incorrect sRGB profile\n",
      "libpng warning: iCCP: known incorrect sRGB profile\n",
      "libpng warning: iCCP: known incorrect sRGB profile\n",
      "libpng warning: iCCP: known incorrect sRGB profile\n",
      "libpng warning: iCCP: known incorrect sRGB profile\n",
      "libpng warning: iCCP: known incorrect sRGB profile\n",
      "libpng warning: iCCP: known incorrect sRGB profile\n",
      "libpng warning: iCCP: known incorrect sRGB profile\n",
      "libpng warning: iCCP: known incorrect sRGB profile\n",
      "libpng warning: iCCP: known incorrect sRGB profile\n",
      "libpng warning: iCCP: known incorrect sRGB profile\n",
      "libpng warning: iCCP: known incorrect sRGB profile\n"
     ]
    },
    {
     "name": "stdout",
     "output_type": "stream",
     "text": [
      "Score: 0.1957\n",
      "\n",
      "Тестуємо: fc_hidden_size=4096, dropout_rate=0.5, kernel_size=5, learning_rate=0.0001\n"
     ]
    },
    {
     "name": "stderr",
     "output_type": "stream",
     "text": [
      "libpng warning: iCCP: known incorrect sRGB profile\n",
      "libpng warning: iCCP: known incorrect sRGB profile\n",
      "libpng warning: iCCP: known incorrect sRGB profile\n",
      "libpng warning: iCCP: known incorrect sRGB profile\n",
      "libpng warning: iCCP: known incorrect sRGB profile\n",
      "libpng warning: iCCP: known incorrect sRGB profile\n",
      "libpng warning: iCCP: known incorrect sRGB profile\n",
      "libpng warning: iCCP: known incorrect sRGB profile\n",
      "libpng warning: iCCP: known incorrect sRGB profile\n",
      "libpng warning: iCCP: known incorrect sRGB profile\n",
      "libpng warning: iCCP: known incorrect sRGB profile\n",
      "libpng warning: iCCP: known incorrect sRGB profile\n",
      "libpng warning: iCCP: known incorrect sRGB profile\n",
      "libpng warning: iCCP: known incorrect sRGB profile\n",
      "libpng warning: iCCP: known incorrect sRGB profile\n",
      "libpng warning: iCCP: known incorrect sRGB profile\n",
      "libpng warning: iCCP: known incorrect sRGB profile\n",
      "libpng warning: iCCP: known incorrect sRGB profile\n",
      "libpng warning: iCCP: known incorrect sRGB profile\n",
      "libpng warning: iCCP: known incorrect sRGB profile\n",
      "libpng warning: iCCP: known incorrect sRGB profile\n",
      "libpng warning: iCCP: known incorrect sRGB profile\n",
      "libpng warning: iCCP: known incorrect sRGB profile\n",
      "libpng warning: iCCP: known incorrect sRGB profile\n"
     ]
    },
    {
     "name": "stdout",
     "output_type": "stream",
     "text": [
      "Score: 0.1957\n",
      "\n",
      "Тестуємо: fc_hidden_size=4096, dropout_rate=0.5, kernel_size=8, learning_rate=0.0001\n"
     ]
    },
    {
     "name": "stderr",
     "output_type": "stream",
     "text": [
      "libpng warning: iCCP: known incorrect sRGB profile\n",
      "libpng warning: iCCP: known incorrect sRGB profile\n",
      "libpng warning: iCCP: known incorrect sRGB profile\n",
      "libpng warning: iCCP: known incorrect sRGB profile\n",
      "libpng warning: iCCP: known incorrect sRGB profile\n",
      "libpng warning: iCCP: known incorrect sRGB profile\n",
      "libpng warning: iCCP: known incorrect sRGB profile\n",
      "libpng warning: iCCP: known incorrect sRGB profile\n",
      "libpng warning: iCCP: known incorrect sRGB profile\n",
      "libpng warning: iCCP: known incorrect sRGB profile\n",
      "libpng warning: iCCP: known incorrect sRGB profile\n",
      "libpng warning: iCCP: known incorrect sRGB profile\n",
      "libpng warning: iCCP: known incorrect sRGB profile\n",
      "libpng warning: iCCP: known incorrect sRGB profile\n",
      "libpng warning: iCCP: known incorrect sRGB profile\n",
      "libpng warning: iCCP: known incorrect sRGB profile\n",
      "libpng warning: iCCP: known incorrect sRGB profile\n",
      "libpng warning: iCCP: known incorrect sRGB profile\n",
      "libpng warning: iCCP: known incorrect sRGB profile\n",
      "libpng warning: iCCP: known incorrect sRGB profile\n",
      "libpng warning: iCCP: known incorrect sRGB profile\n",
      "libpng warning: iCCP: known incorrect sRGB profile\n",
      "libpng warning: iCCP: known incorrect sRGB profile\n",
      "libpng warning: iCCP: known incorrect sRGB profile\n"
     ]
    },
    {
     "name": "stdout",
     "output_type": "stream",
     "text": [
      "Score: 0.1957\n",
      "\n",
      "Найкращі параметри: {'fc_hidden_size': 2048, 'dropout_rate': 0.4, 'kernel_size': 5, 'learning_rate': 0.0001}\n",
      "Найкращий результат: 0.1956989247311828\n",
      "\n",
      "Важливість гіперпараметрів:\n",
      "fc_hidden_size: 0.0000\n",
      "dropout_rate: 0.0000\n",
      "kernel_size: 0.0000\n",
      "learning_rate: 0.0000\n"
     ]
    }
   ],
   "source": [
    "import itertools\n",
    "import pandas as pd\n",
    "from sklearn.ensemble import RandomForestRegressor\n",
    "from sklearn.preprocessing import StandardScaler\n",
    "\n",
    "param_grid = {\n",
    "    'fc_hidden_size': [2048, 4096],\n",
    "    'dropout_rate': [0.4, 0.5],\n",
    "    'kernel_size': [5, 8],\n",
    "    'learning_rate': [0.0001]\n",
    "}\n",
    "\n",
    "best_params = None\n",
    "best_score = 0\n",
    "results = []  \n",
    "\n",
    "all_combinations = list(itertools.product(\n",
    "    param_grid['fc_hidden_size'],\n",
    "    param_grid['dropout_rate'],\n",
    "    param_grid['kernel_size'],\n",
    "    param_grid['learning_rate']\n",
    "))\n",
    "\n",
    "for fc_hidden_size, dropout_rate, kernel_size, learning_rate in all_combinations:\n",
    "    print(f\"Тестуємо: fc_hidden_size={fc_hidden_size}, dropout_rate={dropout_rate}, kernel_size={kernel_size}, learning_rate={learning_rate}\")\n",
    "    \n",
    "    estimator = PyTorchRCNNEstimator(\n",
    "        num_classes=4,\n",
    "        num_rois=9,\n",
    "        fc_hidden_size=fc_hidden_size,\n",
    "        dropout_rate=dropout_rate,\n",
    "        kernel_size=kernel_size,\n",
    "        learning_rate=learning_rate,\n",
    "        num_epochs=5\n",
    "    )\n",
    "    \n",
    "    estimator.fit(None, None) \n",
    "    \n",
    "    score = estimator.score(None, None)\n",
    "    \n",
    "    results.append({\n",
    "        'fc_hidden_size': fc_hidden_size,\n",
    "        'dropout_rate': dropout_rate,\n",
    "        'kernel_size': kernel_size,\n",
    "        'learning_rate': learning_rate,\n",
    "        'accuracy': score\n",
    "    })\n",
    "    \n",
    "    if score > best_score:\n",
    "        best_score = score\n",
    "        best_params = {\n",
    "            'fc_hidden_size': fc_hidden_size,\n",
    "            'dropout_rate': dropout_rate,\n",
    "            'kernel_size': kernel_size,\n",
    "            'learning_rate': learning_rate\n",
    "        }\n",
    "    print(f\"Score: {score:.4f}\\n\")\n",
    "\n",
    "print(\"Найкращі параметри:\", best_params)\n",
    "print(\"Найкращий результат:\", best_score)\n",
    "\n",
    "df = pd.DataFrame(results)\n",
    "X = df[['fc_hidden_size', 'dropout_rate', 'kernel_size', 'learning_rate']]\n",
    "y = df['accuracy']\n",
    "\n",
    "scaler = StandardScaler()\n",
    "X_scaled = scaler.fit_transform(X)\n",
    "\n",
    "model = RandomForestRegressor(n_estimators=100, random_state=42)\n",
    "model.fit(X_scaled, y)\n",
    "\n",
    "feature_importances = model.feature_importances_\n",
    "\n",
    "print(\"\\nВажливість гіперпараметрів:\")\n",
    "for name, importance in zip(X.columns, feature_importances):\n",
    "    print(f\"{name}: {importance:.4f}\")\n"
   ]
  },
  {
   "cell_type": "code",
   "execution_count": 8,
   "id": "9ddd0e8e",
   "metadata": {},
   "outputs": [
    {
     "name": "stderr",
     "output_type": "stream",
     "text": [
      "/Users/matvejzasadko/.pyenv/versions/3.8.13/lib/python3.8/site-packages/torchvision/models/_utils.py:208: UserWarning: The parameter 'pretrained' is deprecated since 0.13 and may be removed in the future, please use 'weights' instead.\n",
      "  warnings.warn(\n",
      "/Users/matvejzasadko/.pyenv/versions/3.8.13/lib/python3.8/site-packages/torchvision/models/_utils.py:223: UserWarning: Arguments other than a weight enum or `None` for 'weights' are deprecated since 0.13 and may be removed in the future. The current behavior is equivalent to passing `weights=AlexNet_Weights.IMAGENET1K_V1`. You can also use `weights=AlexNet_Weights.DEFAULT` to get the most up-to-date weights.\n",
      "  warnings.warn(msg)\n",
      "libpng warning: iCCP: known incorrect sRGB profile\n",
      "libpng warning: iCCP: known incorrect sRGB profile\n",
      "libpng warning: iCCP: known incorrect sRGB profile\n",
      "libpng warning: iCCP: known incorrect sRGB profile\n"
     ]
    },
    {
     "name": "stdout",
     "output_type": "stream",
     "text": [
      "Epoch [1/15], BBox Loss: 0.0766, Class Loss: 1.0930\n",
      "Найкращі ваги збережені на епосі 1 з BBox Loss: 0.0766\n"
     ]
    },
    {
     "name": "stderr",
     "output_type": "stream",
     "text": [
      "libpng warning: iCCP: known incorrect sRGB profile\n",
      "libpng warning: iCCP: known incorrect sRGB profile\n",
      "libpng warning: iCCP: known incorrect sRGB profile\n",
      "libpng warning: iCCP: known incorrect sRGB profile\n"
     ]
    },
    {
     "name": "stdout",
     "output_type": "stream",
     "text": [
      "Epoch [2/15], BBox Loss: 0.0762, Class Loss: 1.0838\n",
      "Найкращі ваги збережені на епосі 2 з BBox Loss: 0.0762\n"
     ]
    },
    {
     "name": "stderr",
     "output_type": "stream",
     "text": [
      "libpng warning: iCCP: known incorrect sRGB profile\n",
      "libpng warning: iCCP: known incorrect sRGB profile\n",
      "libpng warning: iCCP: known incorrect sRGB profile\n",
      "libpng warning: iCCP: known incorrect sRGB profile\n"
     ]
    },
    {
     "name": "stdout",
     "output_type": "stream",
     "text": [
      "Epoch [3/15], BBox Loss: 0.0736, Class Loss: 1.0733\n",
      "Найкращі ваги збережені на епосі 3 з BBox Loss: 0.0736\n"
     ]
    },
    {
     "name": "stderr",
     "output_type": "stream",
     "text": [
      "libpng warning: iCCP: known incorrect sRGB profile\n",
      "libpng warning: iCCP: known incorrect sRGB profile\n",
      "libpng warning: iCCP: known incorrect sRGB profile\n",
      "libpng warning: iCCP: known incorrect sRGB profile\n"
     ]
    },
    {
     "name": "stdout",
     "output_type": "stream",
     "text": [
      "Epoch [4/15], BBox Loss: 0.0712, Class Loss: 1.0603\n",
      "Найкращі ваги збережені на епосі 4 з BBox Loss: 0.0712\n"
     ]
    },
    {
     "name": "stderr",
     "output_type": "stream",
     "text": [
      "libpng warning: iCCP: known incorrect sRGB profile\n",
      "libpng warning: iCCP: known incorrect sRGB profile\n",
      "libpng warning: iCCP: known incorrect sRGB profile\n",
      "libpng warning: iCCP: known incorrect sRGB profile\n"
     ]
    },
    {
     "name": "stdout",
     "output_type": "stream",
     "text": [
      "Epoch [5/15], BBox Loss: 0.0684, Class Loss: 1.0438\n",
      "Найкращі ваги збережені на епосі 5 з BBox Loss: 0.0684\n"
     ]
    },
    {
     "name": "stderr",
     "output_type": "stream",
     "text": [
      "libpng warning: iCCP: known incorrect sRGB profile\n",
      "libpng warning: iCCP: known incorrect sRGB profile\n",
      "libpng warning: iCCP: known incorrect sRGB profile\n",
      "libpng warning: iCCP: known incorrect sRGB profile\n"
     ]
    },
    {
     "name": "stdout",
     "output_type": "stream",
     "text": [
      "Epoch [6/15], BBox Loss: 0.0658, Class Loss: 1.0222\n",
      "Найкращі ваги збережені на епосі 6 з BBox Loss: 0.0658\n"
     ]
    },
    {
     "name": "stderr",
     "output_type": "stream",
     "text": [
      "libpng warning: iCCP: known incorrect sRGB profile\n",
      "libpng warning: iCCP: known incorrect sRGB profile\n",
      "libpng warning: iCCP: known incorrect sRGB profile\n",
      "libpng warning: iCCP: known incorrect sRGB profile\n"
     ]
    },
    {
     "name": "stdout",
     "output_type": "stream",
     "text": [
      "Epoch [7/15], BBox Loss: 0.0643, Class Loss: 0.9953\n",
      "Найкращі ваги збережені на епосі 7 з BBox Loss: 0.0643\n"
     ]
    },
    {
     "name": "stderr",
     "output_type": "stream",
     "text": [
      "libpng warning: iCCP: known incorrect sRGB profile\n",
      "libpng warning: iCCP: known incorrect sRGB profile\n",
      "libpng warning: iCCP: known incorrect sRGB profile\n",
      "libpng warning: iCCP: known incorrect sRGB profile\n"
     ]
    },
    {
     "name": "stdout",
     "output_type": "stream",
     "text": [
      "Epoch [8/15], BBox Loss: 0.0577, Class Loss: 0.9609\n",
      "Найкращі ваги збережені на епосі 8 з BBox Loss: 0.0577\n"
     ]
    },
    {
     "name": "stderr",
     "output_type": "stream",
     "text": [
      "libpng warning: iCCP: known incorrect sRGB profile\n",
      "libpng warning: iCCP: known incorrect sRGB profile\n",
      "libpng warning: iCCP: known incorrect sRGB profile\n",
      "libpng warning: iCCP: known incorrect sRGB profile\n"
     ]
    },
    {
     "name": "stdout",
     "output_type": "stream",
     "text": [
      "Epoch [9/15], BBox Loss: 0.0538, Class Loss: 0.9189\n",
      "Найкращі ваги збережені на епосі 9 з BBox Loss: 0.0538\n"
     ]
    },
    {
     "name": "stderr",
     "output_type": "stream",
     "text": [
      "libpng warning: iCCP: known incorrect sRGB profile\n",
      "libpng warning: iCCP: known incorrect sRGB profile\n",
      "libpng warning: iCCP: known incorrect sRGB profile\n",
      "libpng warning: iCCP: known incorrect sRGB profile\n"
     ]
    },
    {
     "name": "stdout",
     "output_type": "stream",
     "text": [
      "Epoch [10/15], BBox Loss: 0.0491, Class Loss: 0.8698\n",
      "Найкращі ваги збережені на епосі 10 з BBox Loss: 0.0491\n"
     ]
    },
    {
     "name": "stderr",
     "output_type": "stream",
     "text": [
      "libpng warning: iCCP: known incorrect sRGB profile\n",
      "libpng warning: iCCP: known incorrect sRGB profile\n",
      "libpng warning: iCCP: known incorrect sRGB profile\n",
      "libpng warning: iCCP: known incorrect sRGB profile\n"
     ]
    },
    {
     "name": "stdout",
     "output_type": "stream",
     "text": [
      "Epoch [11/15], BBox Loss: 0.0435, Class Loss: 0.8134\n",
      "Найкращі ваги збережені на епосі 11 з BBox Loss: 0.0435\n"
     ]
    },
    {
     "name": "stderr",
     "output_type": "stream",
     "text": [
      "libpng warning: iCCP: known incorrect sRGB profile\n",
      "libpng warning: iCCP: known incorrect sRGB profile\n",
      "libpng warning: iCCP: known incorrect sRGB profile\n",
      "libpng warning: iCCP: known incorrect sRGB profile\n"
     ]
    },
    {
     "name": "stdout",
     "output_type": "stream",
     "text": [
      "Epoch [12/15], BBox Loss: 0.0396, Class Loss: 0.7546\n",
      "Найкращі ваги збережені на епосі 12 з BBox Loss: 0.0396\n"
     ]
    },
    {
     "name": "stderr",
     "output_type": "stream",
     "text": [
      "libpng warning: iCCP: known incorrect sRGB profile\n",
      "libpng warning: iCCP: known incorrect sRGB profile\n",
      "libpng warning: iCCP: known incorrect sRGB profile\n",
      "libpng warning: iCCP: known incorrect sRGB profile\n"
     ]
    },
    {
     "name": "stdout",
     "output_type": "stream",
     "text": [
      "Epoch [13/15], BBox Loss: 0.0354, Class Loss: 0.6941\n",
      "Найкращі ваги збережені на епосі 13 з BBox Loss: 0.0354\n"
     ]
    },
    {
     "name": "stderr",
     "output_type": "stream",
     "text": [
      "libpng warning: iCCP: known incorrect sRGB profile\n",
      "libpng warning: iCCP: known incorrect sRGB profile\n",
      "libpng warning: iCCP: known incorrect sRGB profile\n",
      "libpng warning: iCCP: known incorrect sRGB profile\n"
     ]
    },
    {
     "name": "stdout",
     "output_type": "stream",
     "text": [
      "Epoch [14/15], BBox Loss: 0.0334, Class Loss: 0.6345\n",
      "Найкращі ваги збережені на епосі 14 з BBox Loss: 0.0334\n"
     ]
    },
    {
     "name": "stderr",
     "output_type": "stream",
     "text": [
      "libpng warning: iCCP: known incorrect sRGB profile\n",
      "libpng warning: iCCP: known incorrect sRGB profile\n",
      "libpng warning: iCCP: known incorrect sRGB profile\n",
      "libpng warning: iCCP: known incorrect sRGB profile\n"
     ]
    },
    {
     "name": "stdout",
     "output_type": "stream",
     "text": [
      "Epoch [15/15], BBox Loss: 0.0313, Class Loss: 0.5814\n",
      "Найкращі ваги збережені на епосі 15 з BBox Loss: 0.0313\n",
      "Завантажено найкращі ваги в model_param.\n",
      "Тренування завершено.\n"
     ]
    },
    {
     "data": {
      "image/png": "[encoded data removed]",
      "text/plain": [
       "<Figure size 1000x500 with 1 Axes>"
      ]
     },
     "metadata": {},
     "output_type": "display_data"
    }
   ],
   "source": [
    "import matplotlib.pyplot as plt\n",
    "import torch\n",
    "import torch.nn as nn\n",
    "import torch.optim as optim\n",
    "\n",
    "num_epochs = 15\n",
    "learning_rate = 0.00001\n",
    "\n",
    "num_classes = 3 \n",
    "num_rois = 9\n",
    "model_param = RCNN_Tune(num_classes=num_classes, num_rois=num_rois)\n",
    "optimizer = optim.Adam(model_param.parameters(), lr=learning_rate)\n",
    "\n",
    "device = torch.device('cuda' if torch.cuda.is_available() else 'cpu')\n",
    "model_param.to(device)\n",
    "\n",
    "bbox_loss_fn = nn.MSELoss() \n",
    "class_loss_fn = nn.CrossEntropyLoss() \n",
    "\n",
    "bbox_loss_history = []\n",
    "class_loss_history = []\n",
    "\n",
    "best_bbox_loss = float('inf')\n",
    "best_model_state = None  \n",
    "\n",
    "for epoch in range(num_epochs):\n",
    "    model_param.train()\n",
    "    total_bbox_loss = 0.0\n",
    "    total_class_loss = 0.0\n",
    "    \n",
    "    for images, targets in dataloader: \n",
    "        images = torch.stack(images).to(device)\n",
    "        targets = [{k: v.to(device) for k, v in t.items()} for t in targets]\n",
    "        \n",
    "        rois = []\n",
    "        for idx in range(len(images)):\n",
    "            roi = torch.tensor([[idx, 50, 50, 400, 400],\n",
    "                                [idx, 100, 100, 300, 300]], dtype=torch.float, device=device)\n",
    "            rois.append(roi)\n",
    "        \n",
    "        rois = torch.cat(rois, dim=0) \n",
    "        \n",
    "        bbox_preds, class_preds = model_param(images, rois)\n",
    "        \n",
    "        batch_bbox_loss = 0.0\n",
    "        batch_class_loss = 0.0\n",
    "\n",
    "        for i, target in enumerate(targets):\n",
    "            num_boxes = target['boxes'].shape[0]\n",
    "            if num_boxes > num_rois:\n",
    "                bboxes = target['boxes'][:num_rois]\n",
    "                labels = target['labels'][:num_rois]\n",
    "            else:\n",
    "                padding_boxes = torch.zeros((num_rois - num_boxes, 4), device=device)\n",
    "                padding_labels = torch.zeros(num_rois - num_boxes, dtype=torch.long, device=device)\n",
    "                bboxes = torch.cat([target['boxes'], padding_boxes], dim=0)\n",
    "                labels = torch.cat([target['labels'], padding_labels], dim=0)\n",
    "                \n",
    "            batch_bbox_loss += bbox_loss_fn(bbox_preds[i], bboxes)\n",
    "            batch_class_loss += class_loss_fn(class_preds[i], labels)\n",
    "        \n",
    "        batch_bbox_loss /= len(targets)\n",
    "        batch_class_loss /= len(targets)\n",
    "\n",
    "        loss = batch_bbox_loss + batch_class_loss\n",
    "        \n",
    "        optimizer.zero_grad()\n",
    "        loss.backward()\n",
    "        optimizer.step()\n",
    "        \n",
    "        total_bbox_loss += batch_bbox_loss.item()\n",
    "        total_class_loss += batch_class_loss.item()\n",
    "    \n",
    "    avg_bbox_loss = total_bbox_loss / len(dataloader)\n",
    "    avg_class_loss = total_class_loss / len(dataloader)\n",
    "    bbox_loss_history.append(avg_bbox_loss)\n",
    "    class_loss_history.append(avg_class_loss)\n",
    "    \n",
    "    print(f\"Epoch [{epoch+1}/{num_epochs}], BBox Loss: {avg_bbox_loss:.4f}, Class Loss: {avg_class_loss:.4f}\")\n",
    "    \n",
    "    if avg_bbox_loss < best_bbox_loss:\n",
    "        best_bbox_loss = avg_bbox_loss\n",
    "        best_model_state = model_param.state_dict() \n",
    "        print(f\"Найкращі ваги збережені на епосі {epoch+1} з BBox Loss: {avg_bbox_loss:.4f}\")\n",
    "\n",
    "if best_model_state is not None:\n",
    "    model_param.load_state_dict(best_model_state)\n",
    "    print(\"Завантажено найкращі ваги в model_param.\")\n",
    "\n",
    "print(\"Тренування завершено.\")\n",
    "\n",
    "plt.figure(figsize=(10, 5))\n",
    "plt.plot(range(1, num_epochs + 1), bbox_loss_history, label='BBox Loss')\n",
    "plt.xlabel('Epoch')\n",
    "plt.ylabel('BBox Loss')\n",
    "plt.title('Зміна BBox Loss по епохах')\n",
    "plt.legend()\n",
    "plt.show()\n"
   ]
  },
  {
   "cell_type": "code",
   "execution_count": 9,
   "id": "6694652d",
   "metadata": {},
   "outputs": [
    {
     "name": "stdout",
     "output_type": "stream",
     "text": [
      "Тестова BBox Loss: 0.0274\n",
      "Точність класифікації: 85.00%\n"
     ]
    },
    {
     "name": "stderr",
     "output_type": "stream",
     "text": [
      "libpng warning: iCCP: known incorrect sRGB profile\n"
     ]
    }
   ],
   "source": [
    "from sklearn.metrics import accuracy_score\n",
    "\n",
    "test_dataset = FruitDataset(data_dir='/Users/matvejzasadko/Downloads/All/Study/NNetworks/Lb1/archive/test_zip/test', \n",
    "                            transforms=transform, \n",
    "                            image_size=(256, 256))\n",
    "\n",
    "test_loader = DataLoader(test_dataset, batch_size=1, shuffle=False, collate_fn=lambda x: tuple(zip(*x)))\n",
    "\n",
    "def evaluate_model(model, test_loader, device, num_rois=9):\n",
    "    model.eval()  \n",
    "    total_bbox_loss = 0.0\n",
    "    all_true_labels = []\n",
    "    all_pred_labels = []\n",
    "\n",
    "    bbox_loss_fn = nn.MSELoss() \n",
    "\n",
    "    with torch.no_grad():  \n",
    "        for images, targets in test_loader:\n",
    "            images = torch.stack(images).to(device)\n",
    "            targets = [{k: v.to(device) for k, v in t.items()} for t in targets]\n",
    "\n",
    "            rois = []\n",
    "            for idx in range(len(images)):\n",
    "                roi = torch.tensor([[idx, 50, 50, 400, 400],\n",
    "                                    [idx, 100, 100, 300, 300]], dtype=torch.float, device=device)\n",
    "                rois.append(roi)\n",
    "            \n",
    "            rois = torch.cat(rois, dim=0)  \n",
    "\n",
    "            bbox_preds, class_preds = model(images, rois)\n",
    "\n",
    "            batch_bbox_loss = 0.0\n",
    "\n",
    "            for i, target in enumerate(targets):\n",
    "                num_boxes = target['boxes'].shape[0]\n",
    "                if num_boxes > num_rois:\n",
    "                    bboxes = target['boxes'][:num_rois]\n",
    "                    labels = target['labels'][:num_rois]\n",
    "                else:\n",
    "                    padding_boxes = torch.zeros((num_rois - num_boxes, 4), device=device)\n",
    "                    padding_labels = torch.zeros(num_rois - num_boxes, dtype=torch.long, device=device)\n",
    "                    bboxes = torch.cat([target['boxes'], padding_boxes], dim=0)\n",
    "                    labels = torch.cat([target['labels'], padding_labels], dim=0)\n",
    "\n",
    "                batch_bbox_loss += bbox_loss_fn(bbox_preds[i], bboxes).item()\n",
    "\n",
    "                _, predicted_classes = torch.max(class_preds[i], 1)\n",
    "                all_true_labels.extend(labels.cpu().numpy())\n",
    "                all_pred_labels.extend(predicted_classes.cpu().numpy())\n",
    "\n",
    "            total_bbox_loss += batch_bbox_loss / len(targets)\n",
    "\n",
    "    avg_bbox_loss = total_bbox_loss / len(test_loader)\n",
    "\n",
    "    class_accuracy2 = accuracy_score(all_true_labels, all_pred_labels)\n",
    "\n",
    "    print(f\"Тестова BBox Loss: {avg_bbox_loss:.4f}\")\n",
    "    print(f\"Точність класифікації: {class_accuracy2 * 100:.2f}%\")\n",
    "\n",
    "evaluate_model(model_param, test_loader, device)"
   ]
  },
  {
   "cell_type": "code",
   "execution_count": null,
   "id": "879e529d",
   "metadata": {},
   "outputs": [],
   "source": []
  },
  {
   "cell_type": "markdown",
   "id": "7568f007",
   "metadata": {},
   "source": [
    "Epoch [7/10], BBox Loss: 0.0307, Class Loss: 0.4847 'fc_hidden_size': 2048, Epoch [9/10], BBox Loss: 0.0301, Class Loss: 0.4827 'dropout_rate': 0.4 Epoch [7/10], BBox Loss: 0.0299, Class Loss: 0.4830 'kernel_size': 5\n",
    "\n",
    "Впорядковані за значимістю гіперпараметри - це 'kernel_size' 'dropout_rate' 'fc_hidden_size'\n",
    "Найкращі параметри: {'fc_hidden_size': 2048, 'dropout_rate': 0.4, 'kernel_size': 5, 'learning_rate': 0.0001}\n",
    "    \n",
    "Але найкращий сет параметрів це базовий на тестових даних модель показала \n",
    "Тестова BBox Loss: 0.0297\n",
    "Точність класифікації: 82.22%\n",
    "    \n",
    "А з параметрами: Тестова BBox Loss: 0.2716\n",
    "                 Точність класифікації: 3.89%!!!!!!!!!!!! --Broken"
   ]
  },
  {
   "cell_type": "code",
   "execution_count": null,
   "id": "948d0de5",
   "metadata": {},
   "outputs": [],
   "source": []
  },
  {
   "cell_type": "code",
   "execution_count": null,
   "id": "ac64a64a",
   "metadata": {},
   "outputs": [],
   "source": []
  },
  {
   "cell_type": "code",
   "execution_count": null,
   "id": "87596932",
   "metadata": {},
   "outputs": [],
   "source": []
  },
  {
   "cell_type": "code",
   "execution_count": null,
   "id": "d207db45",
   "metadata": {},
   "outputs": [],
   "source": []
  }
 ],
 "metadata": {
  "kernelspec": {
   "display_name": "Python 3 (ipykernel)",
   "language": "python",
   "name": "python3"
  },
  "language_info": {
   "codemirror_mode": {
    "name": "ipython",
    "version": 3
   },
   "file_extension": ".py",
   "mimetype": "text/x-python",
   "name": "python",
   "nbconvert_exporter": "python",
   "pygments_lexer": "ipython3",
   "version": "3.8.13"
  }
 },
 "nbformat": 4,
 "nbformat_minor": 5
}
