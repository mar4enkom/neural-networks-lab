{
 "cells": [
  {
   "cell_type": "code",
   "execution_count": 2,
   "id": "ed1e14d0",
   "metadata": {},
   "outputs": [
    {
     "name": "stderr",
     "output_type": "stream",
     "text": [
      "/Users/matvejzasadko/.pyenv/versions/3.8.13/lib/python3.8/site-packages/tqdm/auto.py:21: TqdmWarning: IProgress not found. Please update jupyter and ipywidgets. See https://ipywidgets.readthedocs.io/en/stable/user_install.html\n",
      "  from .autonotebook import tqdm as notebook_tqdm\n",
      "/Users/matvejzasadko/.pyenv/versions/3.8.13/lib/python3.8/site-packages/albumentations/__init__.py:13: UserWarning: A new version of Albumentations is available: 1.4.21 (you have 1.4.16). Upgrade using: pip install -U albumentations. To disable automatic update checks, set the environment variable NO_ALBUMENTATIONS_UPDATE to 1.\n",
      "  check_for_updates()\n"
     ]
    }
   ],
   "source": [
    "from PIL import Image\n",
    "import os\n",
    "import cv2\n",
    "import numpy as np\n",
    "import xml.etree.ElementTree as ET\n",
    "import pandas as pd\n",
    "from torch.utils.data import Dataset, DataLoader\n",
    "import torchvision.transforms as T\n",
    "import torch\n",
    "import albumentations as A\n",
    "from albumentations.pytorch import ToTensorV2\n",
    "import matplotlib.pyplot as plt\n",
    "import matplotlib.patches as patches\n",
    "import torch.nn as nn\n",
    "import torchvision.models as models\n",
    "import torch.optim as optim\n",
    "import torch.nn.functional as F\n",
    "import torchvision.ops as ops \n",
    "from torchvision.ops import roi_pool\n",
    "from torch.utils.data import DataLoader\n",
    "import torchvision.transforms as transforms\n",
    "from sklearn.metrics import accuracy_score\n",
    "from sklearn.base import BaseEstimator\n",
    "from sklearn.model_selection import GridSearchCV"
   ]
  },
  {
   "cell_type": "code",
   "execution_count": 3,
   "id": "8535a5ec",
   "metadata": {},
   "outputs": [],
   "source": [
    "data = {\n",
    "    'filename': [],\n",
    "    'width': [],\n",
    "    'height': [],\n",
    "    'class': [],\n",
    "    'xmin': [],\n",
    "    'ymin': [],\n",
    "    'xmax': [],\n",
    "    'ymax': []\n",
    "}"
   ]
  },
  {
   "cell_type": "code",
   "execution_count": 4,
   "id": "e2e10652",
   "metadata": {},
   "outputs": [],
   "source": [
    "def get_file_image_dimensions(file_path):\n",
    "    if not os.path.isfile(file_path):\n",
    "        return None, None\n",
    "    with Image.open(file_path) as img:\n",
    "        width, height = img.size\n",
    "    return width, height\n",
    "\n",
    "def get_xml_image_dimensions(xml_file):\n",
    "    tree = ET.parse(xml_file)\n",
    "    root = tree.getroot()\n",
    "\n",
    "    size = root.find('size')\n",
    "    if size is not None:\n",
    "        width = size.find('width').text\n",
    "        height = size.find('height').text\n",
    "        if width and height:\n",
    "            return int(width), int(height)\n",
    "    return 0, 0  \n",
    "\n",
    "\n",
    "def get_image_dimensions(xml_file, image_file_path):\n",
    "    width, height = get_xml_image_dimensions(xml_file)\n",
    "    \n",
    "    if width == 0 or height == 0:\n",
    "        width, height = get_file_image_dimensions(image_file_path)\n",
    "        \n",
    "    return width, height\n",
    "\n",
    "\n",
    "def parse_xml(xml_file, image_file_path):\n",
    "    tree = ET.parse(xml_file)\n",
    "    root = tree.getroot()\n",
    "\n",
    "    filename = root.find('filename').text\n",
    "    \n",
    "    width, height = get_image_dimensions(xml_file, image_file_path)\n",
    "\n",
    "\n",
    "    for obj in root.iter('object'):\n",
    "        obj_class = obj.find('name').text\n",
    "        bbox = obj.find('bndbox')\n",
    "        xmin = int(bbox.find('xmin').text)\n",
    "        ymin = int(bbox.find('ymin').text)\n",
    "        xmax = int(bbox.find('xmax').text)\n",
    "        ymax = int(bbox.find('ymax').text)\n",
    "\n",
    "        data['filename'].append(filename)\n",
    "        data['width'].append(width)\n",
    "        data['height'].append(height)\n",
    "        data['class'].append(obj_class)\n",
    "        data['xmin'].append(xmin)\n",
    "        data['ymin'].append(ymin)\n",
    "        data['xmax'].append(xmax)\n",
    "        data['ymax'].append(ymax)\n"
   ]
  },
  {
   "cell_type": "code",
   "execution_count": 5,
   "id": "acdeeb49",
   "metadata": {},
   "outputs": [],
   "source": [
    "class FruitDataset(Dataset):\n",
    "    def __init__(self, data_dir, transforms=None, image_size=(416, 416)):\n",
    "        self.data_dir = data_dir\n",
    "        self.transforms = transforms\n",
    "        self.image_size = image_size \n",
    "        \n",
    "        self.images = [f for f in os.listdir(data_dir) if f.endswith('.jpg')]\n",
    "        \n",
    "        for image_file in self.images:\n",
    "            xml_file = image_file.replace('.jpg', '.xml')\n",
    "            xml_path = os.path.join(data_dir, xml_file)\n",
    "            image_path = os.path.join(data_dir, image_file)\n",
    "            if os.path.exists(xml_path):\n",
    "                parse_xml(xml_path, image_path)\n",
    "        \n",
    "        self.dataframe = pd.DataFrame(data)\n",
    "\n",
    "    def __len__(self):\n",
    "        return len(self.images)\n",
    "    \n",
    "    def class_to_label(self, class_name):\n",
    "        class_mapping = {'apple': 1, 'banana': 2, 'orange': 3, 'mixed': 4}\n",
    "        return class_mapping.get(class_name, 0) \n",
    "    \n",
    "    def __getitem__(self, idx):\n",
    "        image_name = self.images[idx]\n",
    "        image_path = os.path.join(self.data_dir, image_name)\n",
    "\n",
    "    # Завантажуємо зображення\n",
    "        image = cv2.imread(image_path)\n",
    "    \n",
    "    # Перетворюємо в RGB\n",
    "        image = cv2.cvtColor(image, cv2.COLOR_BGR2RGB).astype(np.float32) / 255.0\n",
    "\n",
    "        boxes = []\n",
    "        labels = []\n",
    "    \n",
    "        image_data = self.dataframe[self.dataframe['filename'] == image_name]\n",
    "        for _, row in image_data.iterrows():\n",
    "            xmin = row['xmin']\n",
    "            ymin = row['ymin']\n",
    "            xmax = row['xmax']\n",
    "            ymax = row['ymax']\n",
    "            label = self.class_to_label(row['class'])\n",
    "            boxes.append([xmin, ymin, xmax, ymax])\n",
    "            labels.append(label)\n",
    "    \n",
    "        orig_height, orig_width = image.shape[:2]\n",
    "    \n",
    "    # Приведення всіх зображень до одного розміру\n",
    "        image = cv2.resize(image, self.image_size)\n",
    "    \n",
    "    # Пропорційне масштабування bounding boxes\n",
    "        scale_x = self.image_size[0] / orig_width\n",
    "        scale_y = self.image_size[1] / orig_height\n",
    "        boxes = [[xmin * scale_x, ymin * scale_y, xmax * scale_x, ymax * scale_y] for xmin, ymin, xmax, ymax in boxes]\n",
    "    \n",
    "        boxes = [[xmin / self.image_size[0], ymin / self.image_size[1], xmax / self.image_size[0], ymax / self.image_size[1]] for xmin, ymin, xmax, ymax in boxes]\n",
    "\n",
    "        if self.transforms:\n",
    "            transformed = self.transforms(image=image, bboxes=boxes, labels=labels)\n",
    "            image = transformed['image']\n",
    "            boxes = torch.as_tensor(transformed['bboxes'], dtype=torch.float32)\n",
    "\n",
    "        labels = torch.as_tensor(labels, dtype=torch.int64)\n",
    "    \n",
    "        target = {\"boxes\": boxes, \"labels\": labels}\n",
    "    \n",
    "        return image, target"
   ]
  },
  {
   "cell_type": "code",
   "execution_count": 6,
   "id": "62420d9a",
   "metadata": {},
   "outputs": [
    {
     "name": "stdout",
     "output_type": "stream",
     "text": [
      "torch.Size([3, 256, 256]) tensor([[0.2651, 0.3000, 0.8557, 0.7200]])\n",
      "torch.Size([3, 256, 256]) tensor([[0.0073, 0.0299, 0.9728, 0.9768]])\n",
      "torch.Size([3, 256, 256]) tensor([[0.0073, 0.0035, 1.0000, 1.0000]])\n",
      "torch.Size([3, 256, 256]) tensor([[0.1304, 0.2706, 0.8734, 0.9492]])\n",
      "torch.Size([3, 256, 256]) tensor([[0.6438, 0.4283, 0.9350, 0.8733],\n",
      "        [0.4238, 0.5750, 0.7225, 0.9483],\n",
      "        [0.0125, 0.3983, 0.2675, 0.7850],\n",
      "        [0.2412, 0.3183, 0.5288, 0.6767],\n",
      "        [0.5525, 0.2933, 0.7937, 0.5450],\n",
      "        [0.3762, 0.0367, 0.6662, 0.3600],\n",
      "        [0.6687, 0.0917, 0.8750, 0.3667]])\n",
      "torch.Size([3, 256, 256]) tensor([[0.0536, 0.2144, 0.5049, 0.9591],\n",
      "        [0.4809, 0.0533, 1.0000, 0.9492]])\n",
      "torch.Size([3, 256, 256]) tensor([[0.1233, 0.1182, 0.8490, 1.0000]])\n",
      "torch.Size([3, 256, 256]) tensor([[0.1123, 0.0528, 0.8999, 0.9560]])\n",
      "torch.Size([3, 256, 256]) tensor([[0.4948, 0.1153, 0.7685, 0.4892],\n",
      "        [0.2658, 0.1529, 0.5236, 0.5393],\n",
      "        [0.1826, 0.4645, 0.4883, 0.8644]])\n",
      "torch.Size([3, 256, 256]) tensor([[0.3938, 0.4477, 0.6725, 0.8624],\n",
      "        [0.1375, 0.4322, 0.4212, 0.8411],\n",
      "        [0.3625, 0.5000, 0.8075, 0.8818]])\n",
      "torch.Size([3, 256, 256]) tensor([[0.2733, 0.1433, 0.7700, 0.8600]])\n",
      "torch.Size([3, 256, 256]) tensor([[0.5538, 0.1705, 0.8279, 0.6398],\n",
      "        [0.3085, 0.2030, 0.4929, 0.7159],\n",
      "        [0.2006, 0.1365, 0.4441, 0.5553],\n",
      "        [0.4596, 0.2268, 0.6425, 0.7412]])\n",
      "torch.Size([3, 256, 256]) tensor([[0.3972, 0.4556, 0.7665, 0.9667],\n",
      "        [0.0240, 0.4500, 0.3912, 0.9722]])\n",
      "torch.Size([3, 256, 256]) tensor([[0.1299, 0.2346, 0.4851, 0.7106],\n",
      "        [0.5179, 0.2175, 0.9000, 0.6815]])\n",
      "torch.Size([3, 256, 256]) tensor([[0.4891, 0.1785, 0.7469, 0.4061],\n",
      "        [0.1984, 0.1727, 0.5000, 0.4329],\n",
      "        [0.1141, 0.4271, 0.9656, 0.7223]])\n",
      "torch.Size([3, 256, 256]) tensor([[0.7158, 0.3859, 0.9736, 0.7797],\n",
      "        [0.0195, 0.4187, 0.2842, 0.8359],\n",
      "        [0.2227, 0.3328, 0.4697, 0.6875],\n",
      "        [0.4951, 0.3859, 0.7236, 0.7109]])\n",
      "torch.Size([3, 256, 256]) tensor([[8.3333e-04, 2.1429e-01, 9.8417e-01, 9.5397e-01]])\n",
      "torch.Size([3, 256, 256]) tensor([[0., 0., 1., 1.]])\n",
      "torch.Size([3, 256, 256]) tensor([[0.0863, 0.1049, 0.9307, 0.9118]])\n",
      "torch.Size([3, 256, 256]) tensor([[0.2815, 0.0476, 0.9328, 0.9226]])\n",
      "torch.Size([3, 256, 256]) tensor([[0.0000, 0.5159, 0.2803, 0.8595],\n",
      "        [0.2022, 0.5298, 0.4736, 0.8238],\n",
      "        [0.1494, 0.1138, 0.9493, 0.5402],\n",
      "        [0.5851, 0.6486, 0.9325, 1.0000]])\n"
     ]
    },
    {
     "name": "stderr",
     "output_type": "stream",
     "text": [
      "libpng warning: iCCP: known incorrect sRGB profile\n",
      "libpng warning: iCCP: known incorrect sRGB profile\n"
     ]
    },
    {
     "name": "stdout",
     "output_type": "stream",
     "text": [
      "torch.Size([3, 256, 256]) tensor([[0.0471, 0.1702, 0.7835, 0.6170],\n",
      "        [0.4047, 0.2376, 0.9294, 1.0000],\n",
      "        [0.1341, 0.2695, 0.8212, 0.7979]])\n",
      "torch.Size([3, 256, 256]) tensor([[0.2900, 0.0733, 0.6746, 0.5946],\n",
      "        [0.7055, 0.0618, 1.0000, 0.6392],\n",
      "        [0.4762, 0.0069, 0.8221, 0.5048]])\n",
      "torch.Size([3, 256, 256]) tensor([[0.0717, 0.4630, 0.9978, 0.9283]])\n",
      "torch.Size([3, 256, 256]) tensor([[0.0200, 0.3333, 0.9967, 0.9778]])\n",
      "torch.Size([3, 256, 256]) tensor([[0.0636, 0.0818, 0.9727, 0.9364]])\n",
      "torch.Size([3, 256, 256]) tensor([[0.1625, 0.4916, 0.3675, 0.7730],\n",
      "        [0.1950, 0.0826, 0.4338, 0.4503],\n",
      "        [0.4212, 0.0732, 0.5788, 0.7992],\n",
      "        [0.4737, 0.2946, 0.8037, 0.9099],\n",
      "        [0.4875, 0.0713, 0.6800, 0.7786]])\n",
      "torch.Size([3, 256, 256]) tensor([[0.4000, 0.0498, 0.7779, 0.6000],\n",
      "        [0.1317, 0.1424, 0.5606, 0.7675],\n",
      "        [0.2140, 0.2569, 0.9872, 0.9799]])\n",
      "torch.Size([3, 256, 256]) tensor([[0.1445, 0.1614, 0.9715, 0.8348],\n",
      "        [0.0045, 0.1982, 0.7610, 1.0000],\n",
      "        [0.2030, 0.1419, 0.9995, 0.5766]])\n",
      "torch.Size([3, 256, 256]) tensor([[0.1707, 0.2821, 0.9346, 0.7579],\n",
      "        [0.0019, 0.2689, 0.6653, 1.0000],\n",
      "        [0.2152, 0.2246, 0.9689, 0.6427]])\n",
      "torch.Size([3, 256, 256]) tensor([[0.1399, 0.2988, 0.6680, 0.8542]])\n",
      "torch.Size([3, 256, 256]) tensor([[0.0000, 0.0252, 1.0000, 1.0000]])\n",
      "torch.Size([3, 256, 256]) tensor([[0.1200, 0.1026, 0.8900, 0.8462]])\n"
     ]
    },
    {
     "name": "stderr",
     "output_type": "stream",
     "text": [
      "libpng warning: iCCP: known incorrect sRGB profile\n"
     ]
    },
    {
     "name": "stdout",
     "output_type": "stream",
     "text": [
      "torch.Size([3, 256, 256]) tensor([[0.1680, 0.2640, 0.5320, 0.6860]])\n",
      "torch.Size([3, 256, 256]) tensor([[0.0840, 0.1100, 0.9540, 0.9940]])\n",
      "torch.Size([3, 256, 256]) tensor([[0.0000, 0.1333, 1.0000, 1.0000]])\n",
      "torch.Size([3, 256, 256]) tensor([[0.2231, 0.1412, 0.7782, 0.8815],\n",
      "        [0.4128, 0.1754, 0.8923, 1.0000],\n",
      "        [0.1487, 0.1093, 0.7115, 0.6674]])\n",
      "torch.Size([3, 256, 256]) tensor([[0.3673, 0.1215, 0.7115, 0.5660]])\n",
      "torch.Size([3, 256, 256]) tensor([[0.0362, 0.0502, 0.4730, 0.5062]])\n",
      "torch.Size([3, 256, 256]) tensor([[0.0875, 0.0417, 0.3625, 0.3767],\n",
      "        [0.0437, 0.3617, 0.3162, 0.7550],\n",
      "        [0.2288, 0.2950, 0.4775, 0.6850],\n",
      "        [0.7563, 0.4967, 0.9837, 0.8550],\n",
      "        [0.6225, 0.6167, 0.8438, 0.9450],\n",
      "        [0.4162, 0.3983, 0.7175, 0.7717],\n",
      "        [0.2387, 0.5833, 0.4663, 0.9050],\n",
      "        [0.5537, 0.7083, 0.8188, 0.9967]])\n",
      "torch.Size([3, 256, 256]) tensor([[0.1512, 0.3102, 0.5928, 0.7485],\n",
      "        [0.0000, 0.2661, 0.3730, 0.6720]])\n",
      "torch.Size([3, 256, 256]) tensor([[0.0000, 0.1445, 0.8308, 0.9105]])\n",
      "torch.Size([3, 256, 256]) tensor([[0.0820, 0.1155, 0.9749, 0.9651]])\n",
      "torch.Size([3, 256, 256]) tensor([[0.2913, 0.0000, 0.9334, 0.7159],\n",
      "        [0.4701, 0.5957, 0.9912, 1.0000]])\n",
      "torch.Size([3, 256, 256]) tensor([[0.4521, 0.0667, 0.9365, 0.9111]])\n",
      "torch.Size([3, 256, 256]) tensor([[0.1111, 0.1298, 0.5067, 0.5085],\n",
      "        [0.5622, 0.1596, 0.9356, 0.4638],\n",
      "        [0.1111, 0.6213, 0.8044, 0.8851]])\n",
      "torch.Size([3, 256, 256]) tensor([[0.0000, 0.2091, 0.9902, 0.9864]])\n",
      "torch.Size([3, 256, 256]) tensor([[0.1609, 0.4220, 0.7672, 0.9572]])\n",
      "torch.Size([3, 256, 256]) tensor([[0.3682, 0.3294, 0.8727, 0.9679],\n",
      "        [0.0614, 0.2857, 0.5159, 0.9329]])\n",
      "torch.Size([3, 256, 256]) tensor([[0.0015, 0.2375, 0.7755, 0.9389]])\n"
     ]
    },
    {
     "name": "stderr",
     "output_type": "stream",
     "text": [
      "libpng warning: iCCP: known incorrect sRGB profile\n"
     ]
    },
    {
     "name": "stdout",
     "output_type": "stream",
     "text": [
      "torch.Size([3, 256, 256]) tensor([[0.2687, 0.2660, 0.7187, 0.7514]])\n",
      "torch.Size([3, 256, 256]) tensor([[0.1813, 0.0978, 0.5869, 0.7181]])\n",
      "torch.Size([3, 256, 256]) tensor([[0.0181, 0.1009, 0.5192, 0.7649],\n",
      "        [0.4164, 0.0922, 0.9971, 0.8595]])\n",
      "torch.Size([3, 256, 256]) tensor([[0.5187, 0.4560, 0.8274, 0.7569],\n",
      "        [0.2774, 0.4305, 0.5682, 0.7017],\n",
      "        [0.6478, 0.4664, 0.9159, 0.7162],\n",
      "        [0.0367, 0.3052, 0.2760, 0.5627]])\n",
      "torch.Size([3, 256, 256]) tensor([[0.2756, 0.1600, 0.5791, 0.4822],\n",
      "        [0.4679, 0.4333, 0.7286, 0.7022],\n",
      "        [0.3889, 0.6911, 0.7137, 0.9667],\n",
      "        [0.0021, 0.4022, 0.3568, 0.7511],\n",
      "        [0.6603, 0.2244, 0.8718, 0.4244],\n",
      "        [0.8056, 0.5511, 0.9637, 0.7178],\n",
      "        [0.8590, 0.1711, 0.9893, 0.3067],\n",
      "        [0.8440, 0.3378, 0.9829, 0.4867]])\n",
      "torch.Size([3, 256, 256]) tensor([[0.0944, 0.2542, 0.4513, 0.7554],\n",
      "        [0.3302, 0.1587, 0.6556, 0.5932],\n",
      "        [0.6173, 0.2423, 0.9576, 0.7463]])\n",
      "torch.Size([3, 256, 256]) tensor([[0.4109, 0.1218, 0.7574, 0.7815]])\n",
      "torch.Size([3, 256, 256]) tensor([[0.0393, 0.6733, 0.9215, 0.9030]])\n",
      "torch.Size([3, 256, 256]) tensor([[0.1762, 0.2048, 0.6237, 0.6777],\n",
      "        [0.0962, 0.1757, 0.8425, 0.7794]])\n",
      "torch.Size([3, 256, 256]) tensor([[0.0655, 0.2390, 0.4311, 0.7933],\n",
      "        [0.2043, 0.1965, 0.8465, 0.5103],\n",
      "        [0.2571, 0.3915, 0.8299, 0.8079]])\n"
     ]
    }
   ],
   "source": [
    "transform = A.Compose([\n",
    "    \n",
    "    # Дзеркально відображає зобреження, щоб в подальшому модель звикала до симетрії(обʼєкт може бути як ліворуч так і праворуч)\n",
    "    A.HorizontalFlip(p=0.5),\n",
    "    # Перевертає зображення щоб якщо обʼєкти були перевернутими, або нахиленимим, модель всеодно їх впізнавала\n",
    "    A.Rotate(limit=15, p=0.5),\n",
    "    # Допомагає моделі розпізнавати обʼєкти не залежно від умов освітлення\n",
    "    A.ColorJitter(brightness=0.3, contrast=0.3, saturation=0.3, hue=0.2, p=0.5),\n",
    "    # моделі в PyTorch очікують вхідні дані у вигляді тензорів\n",
    "    ToTensorV2(p=1.0),\n",
    "], bbox_params=A.BboxParams(format='albumentations', label_fields=['labels']))\n",
    "\n",
    "dataset = FruitDataset(data_dir='/Users/matvejzasadko/Downloads/All/Study/NNetworks/Lb1/archive/train_zip/train', transforms=transform, image_size=(256, 256))\n",
    "\n",
    "dataloader = DataLoader(dataset, batch_size=4, shuffle=True, collate_fn=lambda x: tuple(zip(*x)))\n",
    "\n",
    "for images, targets in dataloader:\n",
    "    print(images[0].shape, targets[0]['boxes'])"
   ]
  },
  {
   "cell_type": "code",
   "execution_count": 8,
   "id": "95fea977",
   "metadata": {},
   "outputs": [
    {
     "ename": "NameError",
     "evalue": "name 'model' is not defined",
     "output_type": "error",
     "traceback": [
      "\u001b[0;31m---------------------------------------------------------------------------\u001b[0m",
      "\u001b[0;31mNameError\u001b[0m                                 Traceback (most recent call last)",
      "Cell \u001b[0;32mIn[8], line 7\u001b[0m\n\u001b[1;32m      4\u001b[0m images \u001b[38;5;241m=\u001b[39m torch\u001b[38;5;241m.\u001b[39mstack(images)\u001b[38;5;241m.\u001b[39mto(device)\n\u001b[1;32m      5\u001b[0m targets \u001b[38;5;241m=\u001b[39m [{k: v\u001b[38;5;241m.\u001b[39mto(device) \u001b[38;5;28;01mfor\u001b[39;00m k, v \u001b[38;5;129;01min\u001b[39;00m t\u001b[38;5;241m.\u001b[39mitems()} \u001b[38;5;28;01mfor\u001b[39;00m t \u001b[38;5;129;01min\u001b[39;00m targets]\n\u001b[0;32m----> 7\u001b[0m bbox_preds, class_preds \u001b[38;5;241m=\u001b[39m \u001b[43mmodel\u001b[49m(images)\n\u001b[1;32m      9\u001b[0m \u001b[38;5;28mprint\u001b[39m(\u001b[38;5;124mf\u001b[39m\u001b[38;5;124m\"\u001b[39m\u001b[38;5;124mРозмірність передбачених bounding boxes: \u001b[39m\u001b[38;5;132;01m{\u001b[39;00mbbox_preds\u001b[38;5;241m.\u001b[39mshape\u001b[38;5;132;01m}\u001b[39;00m\u001b[38;5;124m\"\u001b[39m)\n\u001b[1;32m     10\u001b[0m \u001b[38;5;28mprint\u001b[39m(\u001b[38;5;124mf\u001b[39m\u001b[38;5;124m\"\u001b[39m\u001b[38;5;124mРозмірність реальних bounding boxes: \u001b[39m\u001b[38;5;132;01m{\u001b[39;00m[t[\u001b[38;5;124m'\u001b[39m\u001b[38;5;124mboxes\u001b[39m\u001b[38;5;124m'\u001b[39m]\u001b[38;5;241m.\u001b[39mshape\u001b[38;5;250m \u001b[39m\u001b[38;5;28;01mfor\u001b[39;00m\u001b[38;5;250m \u001b[39mt\u001b[38;5;250m \u001b[39m\u001b[38;5;129;01min\u001b[39;00m\u001b[38;5;250m \u001b[39mtargets]\u001b[38;5;132;01m}\u001b[39;00m\u001b[38;5;124m\"\u001b[39m)\n",
      "\u001b[0;31mNameError\u001b[0m: name 'model' is not defined"
     ]
    }
   ],
   "source": [
    "for images, targets in train_loader:\n",
    "    images = torch.stack(images).to(device)\n",
    "    targets = [{k: v.to(device) for k, v in t.items()} for t in targets]\n",
    "    \n",
    "    bbox_preds, class_preds = model(images)\n",
    "\n",
    "    print(f\"Розмірність передбачених bounding boxes: {bbox_preds.shape}\")\n",
    "    print(f\"Розмірність реальних bounding boxes: {[t['boxes'].shape for t in targets]}\")\n",
    "\n",
    "    bboxes = torch.cat([t['boxes'] for t in targets], dim=0)\n",
    "    labels = torch.cat([t['labels'] for t in targets], dim=0)\n",
    "\n",
    "    print(f\"Зведена розмірність реальних bounding boxes: {bboxes.shape}\")\n",
    "    print(f\"Зведена розмірність передбачених bounding boxes: {bbox_preds.shape}\")\n",
    "    \n",
    "    if bbox_preds.shape == bboxes.shape:\n",
    "        bbox_loss = bbox_loss_fn(bbox_preds, bboxes)\n",
    "        class_loss = class_loss_fn(class_preds, labels)\n",
    "        loss = bbox_loss + class_loss\n",
    "        optimizer.zero_grad()\n",
    "        loss.backward()\n",
    "        optimizer.step()\n",
    "    else:\n",
    "        print(\"Розмірності не збігаються.\")\n",
    "        break"
   ]
  },
  {
   "cell_type": "code",
   "execution_count": 76,
   "id": "f26fe08c",
   "metadata": {},
   "outputs": [
    {
     "name": "stdout",
     "output_type": "stream",
     "text": [
      "Bounding Box Coordinates: tensor([[[-0.0704,  0.0060,  0.1033,  0.0295],\n",
      "         [-0.0182,  0.0526,  0.1446, -0.0697],\n",
      "         [-0.1206,  0.0396, -0.0331, -0.0362],\n",
      "         [ 0.0613,  0.0708, -0.0619, -0.0022],\n",
      "         [-0.0193,  0.0375,  0.0748,  0.0038],\n",
      "         [ 0.0293, -0.0218, -0.0658, -0.0102],\n",
      "         [ 0.0367, -0.0585, -0.0860, -0.0889],\n",
      "         [-0.0315,  0.0114,  0.0242, -0.0144],\n",
      "         [ 0.1231,  0.0048, -0.0697,  0.0728]]], grad_fn=<ViewBackward0>)\n",
      "Class Scores: tensor([[[ 0.0257,  0.1247,  0.0201],\n",
      "         [-0.1024,  0.0059, -0.0422],\n",
      "         [ 0.0227, -0.1152, -0.0225],\n",
      "         [ 0.0619, -0.0482,  0.0609],\n",
      "         [-0.0222,  0.0655, -0.0181],\n",
      "         [ 0.0710, -0.0450,  0.0369],\n",
      "         [-0.0186,  0.0056, -0.0323],\n",
      "         [ 0.0630, -0.0022,  0.0914],\n",
      "         [ 0.0616, -0.0661,  0.0273]]], grad_fn=<ViewBackward0>)\n"
     ]
    }
   ],
   "source": [
    "class AlexNetObjectDetectorWithAnchors(nn.Module):\n",
    "    def __init__(self, num_classes, num_anchors=9):\n",
    "        super(AlexNetObjectDetectorWithAnchors, self).__init__()\n",
    "        \n",
    "        self.feature_extractor = models.alexnet(pretrained=True).features\n",
    "        self.avgpool = nn.AdaptiveAvgPool2d((6, 6))\n",
    "        \n",
    "        self.fc = nn.Sequential(\n",
    "            nn.Flatten(),\n",
    "            nn.Linear(256 * 6 * 6, 4096),\n",
    "            nn.ReLU(),\n",
    "            nn.Dropout(),\n",
    "            nn.Linear(4096, 4096),\n",
    "            nn.ReLU(),\n",
    "            nn.Dropout()\n",
    "        )\n",
    "\n",
    "        self.bbox_head = nn.Linear(4096, num_anchors * 4)\n",
    "        \n",
    "        self.class_head = nn.Linear(4096, num_anchors * num_classes)\n",
    "\n",
    "        self.num_classes = num_classes\n",
    "        self.num_anchors = num_anchors\n",
    "\n",
    "    def forward(self, x):\n",
    "        x = self.feature_extractor(x)\n",
    "        x = self.avgpool(x)\n",
    "        x = self.fc(x)\n",
    "\n",
    "        bbox_coords = self.bbox_head(x)\n",
    "        bbox_coords = bbox_coords.view(-1, self.num_anchors, 4)\n",
    "\n",
    "        class_scores = self.class_head(x)\n",
    "        class_scores = class_scores.view(-1, self.num_anchors, self.num_classes)\n",
    "        return bbox_coords, class_scores\n",
    "\n",
    "num_classes = 4 \n",
    "model = AlexNetObjectDetectorWithAnchors(num_classes=num_classes, num_anchors=9)\n",
    "\n",
    "dummy_input = torch.randn(1, 3, 512, 512) \n",
    "bbox_coords, class_scores = model(dummy_input)\n",
    "\n",
    "print(\"Bounding Box Coordinates:\", bbox_coords)\n",
    "print(\"Class Scores:\", class_scores)\n"
   ]
  },
  {
   "cell_type": "code",
   "execution_count": 79,
   "id": "a4fa4fcf",
   "metadata": {},
   "outputs": [
    {
     "name": "stderr",
     "output_type": "stream",
     "text": [
      "libpng warning: iCCP: known incorrect sRGB profile\n",
      "libpng warning: iCCP: known incorrect sRGB profile\n",
      "libpng warning: iCCP: known incorrect sRGB profile\n",
      "libpng warning: iCCP: known incorrect sRGB profile\n"
     ]
    },
    {
     "name": "stdout",
     "output_type": "stream",
     "text": [
      "Epoch [1/20], BBox Loss: 0.1526, Class Loss: 1.1391\n"
     ]
    },
    {
     "name": "stderr",
     "output_type": "stream",
     "text": [
      "libpng warning: iCCP: known incorrect sRGB profile\n",
      "libpng warning: iCCP: known incorrect sRGB profile\n",
      "libpng warning: iCCP: known incorrect sRGB profile\n",
      "libpng warning: iCCP: known incorrect sRGB profile\n"
     ]
    },
    {
     "name": "stdout",
     "output_type": "stream",
     "text": [
      "Epoch [2/20], BBox Loss: 0.0657, Class Loss: 1.0544\n"
     ]
    },
    {
     "name": "stderr",
     "output_type": "stream",
     "text": [
      "libpng warning: iCCP: known incorrect sRGB profile\n",
      "libpng warning: iCCP: known incorrect sRGB profile\n",
      "libpng warning: iCCP: known incorrect sRGB profile\n",
      "libpng warning: iCCP: known incorrect sRGB profile\n"
     ]
    },
    {
     "name": "stdout",
     "output_type": "stream",
     "text": [
      "Epoch [3/20], BBox Loss: 0.0654, Class Loss: 1.0490\n"
     ]
    },
    {
     "name": "stderr",
     "output_type": "stream",
     "text": [
      "libpng warning: iCCP: known incorrect sRGB profile\n",
      "libpng warning: iCCP: known incorrect sRGB profile\n",
      "libpng warning: iCCP: known incorrect sRGB profile\n",
      "libpng warning: iCCP: known incorrect sRGB profile\n"
     ]
    },
    {
     "name": "stdout",
     "output_type": "stream",
     "text": [
      "Epoch [4/20], BBox Loss: 0.0652, Class Loss: 1.0490\n"
     ]
    },
    {
     "name": "stderr",
     "output_type": "stream",
     "text": [
      "libpng warning: iCCP: known incorrect sRGB profile\n",
      "libpng warning: iCCP: known incorrect sRGB profile\n",
      "libpng warning: iCCP: known incorrect sRGB profile\n",
      "libpng warning: iCCP: known incorrect sRGB profile\n"
     ]
    },
    {
     "name": "stdout",
     "output_type": "stream",
     "text": [
      "Epoch [5/20], BBox Loss: 0.0646, Class Loss: 1.0523\n"
     ]
    },
    {
     "name": "stderr",
     "output_type": "stream",
     "text": [
      "libpng warning: iCCP: known incorrect sRGB profile\n",
      "libpng warning: iCCP: known incorrect sRGB profile\n",
      "libpng warning: iCCP: known incorrect sRGB profile\n",
      "libpng warning: iCCP: known incorrect sRGB profile\n"
     ]
    },
    {
     "name": "stdout",
     "output_type": "stream",
     "text": [
      "Epoch [6/20], BBox Loss: 0.0640, Class Loss: 1.0459\n"
     ]
    },
    {
     "name": "stderr",
     "output_type": "stream",
     "text": [
      "libpng warning: iCCP: known incorrect sRGB profile\n",
      "libpng warning: iCCP: known incorrect sRGB profile\n",
      "libpng warning: iCCP: known incorrect sRGB profile\n",
      "libpng warning: iCCP: known incorrect sRGB profile\n"
     ]
    },
    {
     "name": "stdout",
     "output_type": "stream",
     "text": [
      "Epoch [7/20], BBox Loss: 0.0643, Class Loss: 1.0514\n"
     ]
    },
    {
     "name": "stderr",
     "output_type": "stream",
     "text": [
      "libpng warning: iCCP: known incorrect sRGB profile\n",
      "libpng warning: iCCP: known incorrect sRGB profile\n",
      "libpng warning: iCCP: known incorrect sRGB profile\n",
      "libpng warning: iCCP: known incorrect sRGB profile\n"
     ]
    },
    {
     "name": "stdout",
     "output_type": "stream",
     "text": [
      "Epoch [8/20], BBox Loss: 0.0661, Class Loss: 1.0473\n"
     ]
    },
    {
     "name": "stderr",
     "output_type": "stream",
     "text": [
      "libpng warning: iCCP: known incorrect sRGB profile\n",
      "libpng warning: iCCP: known incorrect sRGB profile\n",
      "libpng warning: iCCP: known incorrect sRGB profile\n",
      "libpng warning: iCCP: known incorrect sRGB profile\n"
     ]
    },
    {
     "name": "stdout",
     "output_type": "stream",
     "text": [
      "Epoch [9/20], BBox Loss: 0.0656, Class Loss: 1.0550\n"
     ]
    },
    {
     "name": "stderr",
     "output_type": "stream",
     "text": [
      "libpng warning: iCCP: known incorrect sRGB profile\n",
      "libpng warning: iCCP: known incorrect sRGB profile\n",
      "libpng warning: iCCP: known incorrect sRGB profile\n",
      "libpng warning: iCCP: known incorrect sRGB profile\n"
     ]
    },
    {
     "name": "stdout",
     "output_type": "stream",
     "text": [
      "Epoch [10/20], BBox Loss: 0.0634, Class Loss: 1.0492\n"
     ]
    },
    {
     "name": "stderr",
     "output_type": "stream",
     "text": [
      "libpng warning: iCCP: known incorrect sRGB profile\n",
      "libpng warning: iCCP: known incorrect sRGB profile\n",
      "libpng warning: iCCP: known incorrect sRGB profile\n",
      "libpng warning: iCCP: known incorrect sRGB profile\n"
     ]
    },
    {
     "name": "stdout",
     "output_type": "stream",
     "text": [
      "Epoch [11/20], BBox Loss: 0.0632, Class Loss: 1.0432\n"
     ]
    },
    {
     "name": "stderr",
     "output_type": "stream",
     "text": [
      "libpng warning: iCCP: known incorrect sRGB profile\n",
      "libpng warning: iCCP: known incorrect sRGB profile\n",
      "libpng warning: iCCP: known incorrect sRGB profile\n",
      "libpng warning: iCCP: known incorrect sRGB profile\n"
     ]
    },
    {
     "name": "stdout",
     "output_type": "stream",
     "text": [
      "Epoch [12/20], BBox Loss: 0.0627, Class Loss: 1.0433\n"
     ]
    },
    {
     "name": "stderr",
     "output_type": "stream",
     "text": [
      "libpng warning: iCCP: known incorrect sRGB profile\n",
      "libpng warning: iCCP: known incorrect sRGB profile\n",
      "libpng warning: iCCP: known incorrect sRGB profile\n",
      "libpng warning: iCCP: known incorrect sRGB profile\n"
     ]
    },
    {
     "name": "stdout",
     "output_type": "stream",
     "text": [
      "Epoch [13/20], BBox Loss: 0.0629, Class Loss: 1.0406\n"
     ]
    },
    {
     "name": "stderr",
     "output_type": "stream",
     "text": [
      "libpng warning: iCCP: known incorrect sRGB profile\n",
      "libpng warning: iCCP: known incorrect sRGB profile\n",
      "libpng warning: iCCP: known incorrect sRGB profile\n",
      "libpng warning: iCCP: known incorrect sRGB profile\n"
     ]
    },
    {
     "name": "stdout",
     "output_type": "stream",
     "text": [
      "Epoch [14/20], BBox Loss: 0.0643, Class Loss: 1.0453\n"
     ]
    },
    {
     "name": "stderr",
     "output_type": "stream",
     "text": [
      "libpng warning: iCCP: known incorrect sRGB profile\n",
      "libpng warning: iCCP: known incorrect sRGB profile\n",
      "libpng warning: iCCP: known incorrect sRGB profile\n",
      "libpng warning: iCCP: known incorrect sRGB profile\n"
     ]
    },
    {
     "name": "stdout",
     "output_type": "stream",
     "text": [
      "Epoch [15/20], BBox Loss: 0.0639, Class Loss: 1.0438\n"
     ]
    },
    {
     "name": "stderr",
     "output_type": "stream",
     "text": [
      "libpng warning: iCCP: known incorrect sRGB profile\n",
      "libpng warning: iCCP: known incorrect sRGB profile\n",
      "libpng warning: iCCP: known incorrect sRGB profile\n",
      "libpng warning: iCCP: known incorrect sRGB profile\n"
     ]
    },
    {
     "name": "stdout",
     "output_type": "stream",
     "text": [
      "Epoch [16/20], BBox Loss: 0.0626, Class Loss: 1.0413\n"
     ]
    },
    {
     "name": "stderr",
     "output_type": "stream",
     "text": [
      "libpng warning: iCCP: known incorrect sRGB profile\n",
      "libpng warning: iCCP: known incorrect sRGB profile\n",
      "libpng warning: iCCP: known incorrect sRGB profile\n",
      "libpng warning: iCCP: known incorrect sRGB profile\n"
     ]
    },
    {
     "name": "stdout",
     "output_type": "stream",
     "text": [
      "Epoch [17/20], BBox Loss: 0.0630, Class Loss: 1.0458\n"
     ]
    },
    {
     "name": "stderr",
     "output_type": "stream",
     "text": [
      "libpng warning: iCCP: known incorrect sRGB profile\n",
      "libpng warning: iCCP: known incorrect sRGB profile\n",
      "libpng warning: iCCP: known incorrect sRGB profile\n",
      "libpng warning: iCCP: known incorrect sRGB profile\n"
     ]
    },
    {
     "name": "stdout",
     "output_type": "stream",
     "text": [
      "Epoch [18/20], BBox Loss: 0.0634, Class Loss: 1.0444\n"
     ]
    },
    {
     "name": "stderr",
     "output_type": "stream",
     "text": [
      "libpng warning: iCCP: known incorrect sRGB profile\n",
      "libpng warning: iCCP: known incorrect sRGB profile\n",
      "libpng warning: iCCP: known incorrect sRGB profile\n",
      "libpng warning: iCCP: known incorrect sRGB profile\n"
     ]
    },
    {
     "name": "stdout",
     "output_type": "stream",
     "text": [
      "Epoch [19/20], BBox Loss: 0.0629, Class Loss: 1.0389\n"
     ]
    },
    {
     "name": "stderr",
     "output_type": "stream",
     "text": [
      "libpng warning: iCCP: known incorrect sRGB profile\n",
      "libpng warning: iCCP: known incorrect sRGB profile\n",
      "libpng warning: iCCP: known incorrect sRGB profile\n",
      "libpng warning: iCCP: known incorrect sRGB profile\n"
     ]
    },
    {
     "name": "stdout",
     "output_type": "stream",
     "text": [
      "Epoch [20/20], BBox Loss: 0.0637, Class Loss: 1.0454\n",
      "Тренування завершено.\n"
     ]
    }
   ],
   "source": [
    "\n",
    "\n",
    "num_epochs = 20\n",
    "learning_rate = 0.001\n",
    "\n",
    "num_classes = 4 \n",
    "num_anchors = 9 \n",
    "model = AlexNetObjectDetectorWithAnchors(num_classes=num_classes, num_anchors=num_anchors)\n",
    "optimizer = optim.Adam(model.parameters(), lr=learning_rate)\n",
    "\n",
    "device = torch.device('cuda' if torch.cuda.is_available() else 'cpu')\n",
    "model.to(device)\n",
    "\n",
    "bbox_loss_fn = nn.MSELoss() \n",
    "class_loss_fn = nn.CrossEntropyLoss() \n",
    "\n",
    "for epoch in range(num_epochs):\n",
    "    model.train()\n",
    "    total_bbox_loss = 0.0\n",
    "    total_class_loss = 0.0\n",
    "    \n",
    "    for images, targets in train_loader:\n",
    "        images = torch.stack(images).to(device)\n",
    "        targets = [{k: v.to(device) for k, v in t.items()} for t in targets]\n",
    "        \n",
    "        bbox_preds, class_preds = model(images)\n",
    "        \n",
    "        batch_bbox_loss = 0.0\n",
    "        batch_class_loss = 0.0\n",
    "\n",
    "        for i, target in enumerate(targets):\n",
    "            num_boxes = target['boxes'].shape[0]\n",
    "            if num_boxes > num_anchors:\n",
    "                bboxes = target['boxes'][:num_anchors]\n",
    "                labels = target['labels'][:num_anchors]\n",
    "            else:\n",
    "                padding_boxes = torch.zeros((num_anchors - num_boxes, 4), device=device)\n",
    "                padding_labels = torch.zeros(num_anchors - num_boxes, dtype=torch.long, device=device)\n",
    "                bboxes = torch.cat([target['boxes'], padding_boxes], dim=0)\n",
    "                labels = torch.cat([target['labels'], padding_labels], dim=0)\n",
    "                \n",
    "            batch_bbox_loss += bbox_loss_fn(bbox_preds[i], bboxes)\n",
    "            batch_class_loss += class_loss_fn(class_preds[i], labels)\n",
    "        \n",
    "        batch_bbox_loss /= len(targets)\n",
    "        batch_class_loss /= len(targets)\n",
    "\n",
    "        loss = batch_bbox_loss + batch_class_loss\n",
    "        \n",
    "        optimizer.zero_grad()\n",
    "        loss.backward()\n",
    "        optimizer.step()\n",
    "        \n",
    "        total_bbox_loss += batch_bbox_loss.item()\n",
    "        total_class_loss += batch_class_loss.item()\n",
    "    \n",
    "    print(f\"Epoch [{epoch+1}/{num_epochs}], BBox Loss: {total_bbox_loss/len(train_loader):.4f}, Class Loss: {total_class_loss/len(train_loader):.4f}\")\n",
    "\n",
    "print(\"Тренування завершено.\")\n",
    "\n"
   ]
  },
  {
   "cell_type": "code",
   "execution_count": 81,
   "id": "2e7b45a4",
   "metadata": {},
   "outputs": [
    {
     "name": "stdout",
     "output_type": "stream",
     "text": [
      "Тестова BBox Loss: 0.0672\n",
      "Точність класифікації: 61.11%\n"
     ]
    },
    {
     "name": "stderr",
     "output_type": "stream",
     "text": [
      "libpng warning: iCCP: known incorrect sRGB profile\n"
     ]
    }
   ],
   "source": [
    "def evaluate_model(model, test_loader, device):\n",
    "    model.eval() \n",
    "    total_bbox_loss = 0.0\n",
    "    total_class_accuracy = 0.0\n",
    "    total_samples = 0\n",
    "    \n",
    "    bbox_loss_fn = nn.MSELoss() \n",
    "    all_true_labels = []\n",
    "    all_pred_labels = []\n",
    "\n",
    "    with torch.no_grad(): \n",
    "        for images, targets in test_loader:\n",
    "            images = torch.stack(images).to(device)\n",
    "            targets = [{k: v.to(device) for k, v in t.items()} for t in targets]\n",
    "\n",
    "            bbox_preds, class_preds = model(images)\n",
    "\n",
    "            batch_bbox_loss = 0.0\n",
    "            batch_class_accuracy = 0.0\n",
    "\n",
    "            for i, target in enumerate(targets):\n",
    "                num_boxes = target['boxes'].shape[0]\n",
    "                if num_boxes > num_anchors:\n",
    "                    bboxes = target['boxes'][:num_anchors]\n",
    "                    labels = target['labels'][:num_anchors]\n",
    "                else:\n",
    "                    padding_boxes = torch.zeros((num_anchors - num_boxes, 4), device=device)\n",
    "                    padding_labels = torch.zeros(num_anchors - num_boxes, dtype=torch.long, device=device)\n",
    "                    bboxes = torch.cat([target['boxes'], padding_boxes], dim=0)\n",
    "                    labels = torch.cat([target['labels'], padding_labels], dim=0)\n",
    "                \n",
    "                batch_bbox_loss += bbox_loss_fn(bbox_preds[i], bboxes).item()\n",
    "\n",
    "                _, predicted_classes = torch.max(class_preds[i], 1)\n",
    "                all_true_labels.extend(labels.cpu().numpy())\n",
    "                all_pred_labels.extend(predicted_classes.cpu().numpy())\n",
    "\n",
    "            total_bbox_loss += batch_bbox_loss / len(targets)\n",
    "            total_samples += 1\n",
    "\n",
    "    avg_bbox_loss = total_bbox_loss / total_samples\n",
    "\n",
    "    class_accuracy = accuracy_score(all_true_labels, all_pred_labels)\n",
    "\n",
    "    print(f\"Тестова BBox Loss: {avg_bbox_loss:.4f}\")\n",
    "    print(f\"Точність класифікації: {class_accuracy * 100:.2f}%\")\n",
    "\n",
    "test_dataset = FruitDataset(data_dir='/Users/matvejzasadko/Downloads/All/Study/NNetworks/Lb1/archive/test_zip/test', transforms=transform, image_size=(512, 512))\n",
    "\n",
    "test_loader = DataLoader(test_dataset, batch_size=1, shuffle=False, collate_fn=lambda x: tuple(zip(*x)))\n",
    "evaluate_model(model, test_loader, device)\n"
   ]
  },
  {
   "cell_type": "code",
   "execution_count": null,
   "id": "496a3708",
   "metadata": {},
   "outputs": [],
   "source": []
  },
  {
   "cell_type": "code",
   "execution_count": 7,
   "id": "cb875b3a",
   "metadata": {},
   "outputs": [
    {
     "name": "stderr",
     "output_type": "stream",
     "text": [
      "/Users/matvejzasadko/.pyenv/versions/3.8.13/lib/python3.8/site-packages/torchvision/models/_utils.py:208: UserWarning: The parameter 'pretrained' is deprecated since 0.13 and may be removed in the future, please use 'weights' instead.\n",
      "  warnings.warn(\n",
      "/Users/matvejzasadko/.pyenv/versions/3.8.13/lib/python3.8/site-packages/torchvision/models/_utils.py:223: UserWarning: Arguments other than a weight enum or `None` for 'weights' are deprecated since 0.13 and may be removed in the future. The current behavior is equivalent to passing `weights=AlexNet_Weights.IMAGENET1K_V1`. You can also use `weights=AlexNet_Weights.DEFAULT` to get the most up-to-date weights.\n",
      "  warnings.warn(msg)\n"
     ]
    },
    {
     "name": "stdout",
     "output_type": "stream",
     "text": [
      "Bounding Box Coordinates: tensor([[[ 0.0147, -0.0108, -0.0145, -0.0007],\n",
      "         [-0.0002, -0.0060, -0.0050,  0.0107],\n",
      "         [ 0.0077, -0.0112, -0.0086, -0.0127],\n",
      "         [ 0.0047, -0.0067, -0.0154, -0.0089],\n",
      "         [ 0.0037, -0.0170,  0.0152, -0.0037],\n",
      "         [ 0.0197,  0.0083,  0.0068, -0.0021],\n",
      "         [-0.0091,  0.0124, -0.0034,  0.0053],\n",
      "         [-0.0001, -0.0056,  0.0059,  0.0082],\n",
      "         [-0.0053,  0.0200,  0.0131, -0.0141]]], grad_fn=<ViewBackward0>)\n",
      "Class Scores: tensor([[[-0.0086,  0.0057, -0.0151,  0.0166],\n",
      "         [ 0.0027, -0.0095, -0.0011, -0.0184],\n",
      "         [ 0.0057,  0.0039,  0.0090,  0.0135],\n",
      "         [-0.0083, -0.0058, -0.0139,  0.0056],\n",
      "         [ 0.0096,  0.0049, -0.0050,  0.0006],\n",
      "         [-0.0106, -0.0142, -0.0090, -0.0180],\n",
      "         [-0.0078, -0.0122, -0.0012,  0.0115],\n",
      "         [-0.0098, -0.0017, -0.0165,  0.0033],\n",
      "         [ 0.0165,  0.0098, -0.0128, -0.0011]]], grad_fn=<ViewBackward0>)\n"
     ]
    }
   ],
   "source": [
    "import torch\n",
    "import torch.nn as nn\n",
    "import torchvision.models as models\n",
    "from torchvision.ops import roi_pool\n",
    "\n",
    "class RCNN(nn.Module):\n",
    "    def __init__(self, num_classes, num_rois=9):\n",
    "        super(RCNN, self).__init__()\n",
    "        \n",
    "        self.feature_extractor = models.alexnet(pretrained=True).features\n",
    "        self.avgpool = nn.AdaptiveAvgPool2d((6, 6))\n",
    "        \n",
    "        self.fc = nn.Sequential(\n",
    "            nn.Flatten(),\n",
    "            nn.Linear(256 * 6 * 6, 4096),\n",
    "            nn.ReLU(),\n",
    "            nn.Dropout(),\n",
    "            nn.Linear(4096, 4096),\n",
    "            nn.ReLU(),\n",
    "            nn.Dropout()\n",
    "        )\n",
    "        \n",
    "        self.bbox_head = nn.Linear(4096, num_rois * 4)\n",
    "        \n",
    "        self.class_head = nn.Linear(4096, num_rois * num_classes)\n",
    "        \n",
    "        self.num_classes = num_classes\n",
    "        self.num_rois = num_rois\n",
    "\n",
    "    def forward(self, x, rois):\n",
    "        features = self.feature_extractor(x)\n",
    "        \n",
    "        pooled_features = roi_pool(features, rois, output_size=(6, 6))\n",
    "        \n",
    "        x = self.avgpool(pooled_features)\n",
    "        x = self.fc(x)\n",
    "\n",
    "        bbox_coords = self.bbox_head(x)\n",
    "        bbox_coords = bbox_coords.view(-1, self.num_rois, 4)\n",
    "\n",
    "        class_scores = self.class_head(x)\n",
    "        class_scores = class_scores.view(-1, self.num_rois, self.num_classes)\n",
    "        \n",
    "        return bbox_coords, class_scores\n",
    "\n",
    "num_classes = 4 \n",
    "num_rois = 9\n",
    "model = RCNN(num_classes=num_classes, num_rois=num_rois)\n",
    "\n",
    "dummy_input = torch.randn(1, 3, 512, 512) \n",
    "dummy_rois = torch.tensor([[0, 50, 50, 400, 400]], dtype=torch.float)\n",
    "\n",
    "bbox_coords, class_scores = model(dummy_input, dummy_rois)\n",
    "\n",
    "print(\"Bounding Box Coordinates:\", bbox_coords)\n",
    "print(\"Class Scores:\", class_scores)\n"
   ]
  },
  {
   "cell_type": "code",
   "execution_count": 8,
   "id": "b1d760a1",
   "metadata": {},
   "outputs": [
    {
     "name": "stderr",
     "output_type": "stream",
     "text": [
      "libpng warning: iCCP: known incorrect sRGB profile\n",
      "libpng warning: iCCP: known incorrect sRGB profile\n",
      "libpng warning: iCCP: known incorrect sRGB profile\n",
      "libpng warning: iCCP: known incorrect sRGB profile\n"
     ]
    },
    {
     "name": "stdout",
     "output_type": "stream",
     "text": [
      "Epoch [1/10], BBox Loss: 0.0423, Class Loss: 0.5925\n"
     ]
    },
    {
     "name": "stderr",
     "output_type": "stream",
     "text": [
      "libpng warning: iCCP: known incorrect sRGB profile\n",
      "libpng warning: iCCP: known incorrect sRGB profile\n",
      "libpng warning: iCCP: known incorrect sRGB profile\n",
      "libpng warning: iCCP: known incorrect sRGB profile\n"
     ]
    },
    {
     "name": "stdout",
     "output_type": "stream",
     "text": [
      "Epoch [2/10], BBox Loss: 0.0340, Class Loss: 0.4951\n"
     ]
    },
    {
     "name": "stderr",
     "output_type": "stream",
     "text": [
      "libpng warning: iCCP: known incorrect sRGB profile\n",
      "libpng warning: iCCP: known incorrect sRGB profile\n",
      "libpng warning: iCCP: known incorrect sRGB profile\n",
      "libpng warning: iCCP: known incorrect sRGB profile\n"
     ]
    },
    {
     "name": "stdout",
     "output_type": "stream",
     "text": [
      "Epoch [3/10], BBox Loss: 0.0337, Class Loss: 0.4921\n"
     ]
    },
    {
     "name": "stderr",
     "output_type": "stream",
     "text": [
      "libpng warning: iCCP: known incorrect sRGB profile\n",
      "libpng warning: iCCP: known incorrect sRGB profile\n",
      "libpng warning: iCCP: known incorrect sRGB profile\n",
      "libpng warning: iCCP: known incorrect sRGB profile\n"
     ]
    },
    {
     "name": "stdout",
     "output_type": "stream",
     "text": [
      "Epoch [4/10], BBox Loss: 0.0332, Class Loss: 0.4926\n"
     ]
    },
    {
     "name": "stderr",
     "output_type": "stream",
     "text": [
      "libpng warning: iCCP: known incorrect sRGB profile\n",
      "libpng warning: iCCP: known incorrect sRGB profile\n",
      "libpng warning: iCCP: known incorrect sRGB profile\n",
      "libpng warning: iCCP: known incorrect sRGB profile\n"
     ]
    },
    {
     "name": "stdout",
     "output_type": "stream",
     "text": [
      "Epoch [5/10], BBox Loss: 0.0331, Class Loss: 0.4898\n"
     ]
    },
    {
     "name": "stderr",
     "output_type": "stream",
     "text": [
      "libpng warning: iCCP: known incorrect sRGB profile\n",
      "libpng warning: iCCP: known incorrect sRGB profile\n",
      "libpng warning: iCCP: known incorrect sRGB profile\n",
      "libpng warning: iCCP: known incorrect sRGB profile\n"
     ]
    },
    {
     "name": "stdout",
     "output_type": "stream",
     "text": [
      "Epoch [6/10], BBox Loss: 0.0341, Class Loss: 0.4977\n"
     ]
    },
    {
     "name": "stderr",
     "output_type": "stream",
     "text": [
      "libpng warning: iCCP: known incorrect sRGB profile\n",
      "libpng warning: iCCP: known incorrect sRGB profile\n",
      "libpng warning: iCCP: known incorrect sRGB profile\n",
      "libpng warning: iCCP: known incorrect sRGB profile\n"
     ]
    },
    {
     "name": "stdout",
     "output_type": "stream",
     "text": [
      "Epoch [7/10], BBox Loss: 0.0316, Class Loss: 0.4825\n"
     ]
    },
    {
     "name": "stderr",
     "output_type": "stream",
     "text": [
      "libpng warning: iCCP: known incorrect sRGB profile\n",
      "libpng warning: iCCP: known incorrect sRGB profile\n",
      "libpng warning: iCCP: known incorrect sRGB profile\n",
      "libpng warning: iCCP: known incorrect sRGB profile\n"
     ]
    },
    {
     "name": "stdout",
     "output_type": "stream",
     "text": [
      "Epoch [8/10], BBox Loss: 0.0317, Class Loss: 0.4848\n"
     ]
    },
    {
     "name": "stderr",
     "output_type": "stream",
     "text": [
      "libpng warning: iCCP: known incorrect sRGB profile\n",
      "libpng warning: iCCP: known incorrect sRGB profile\n",
      "libpng warning: iCCP: known incorrect sRGB profile\n",
      "libpng warning: iCCP: known incorrect sRGB profile\n"
     ]
    },
    {
     "name": "stdout",
     "output_type": "stream",
     "text": [
      "Epoch [9/10], BBox Loss: 0.0314, Class Loss: 0.4862\n"
     ]
    },
    {
     "name": "stderr",
     "output_type": "stream",
     "text": [
      "libpng warning: iCCP: known incorrect sRGB profile\n",
      "libpng warning: iCCP: known incorrect sRGB profile\n",
      "libpng warning: iCCP: known incorrect sRGB profile\n",
      "libpng warning: iCCP: known incorrect sRGB profile\n"
     ]
    },
    {
     "name": "stdout",
     "output_type": "stream",
     "text": [
      "Epoch [10/10], BBox Loss: 0.0317, Class Loss: 0.4821\n",
      "Тренування завершено.\n"
     ]
    }
   ],
   "source": [
    "import torch\n",
    "import torch.optim as optim\n",
    "import torch.nn.functional as F\n",
    "import torch.nn as nn\n",
    "\n",
    "num_epochs = 10\n",
    "learning_rate = 0.001\n",
    "\n",
    "num_classes = 4 \n",
    "num_rois = 9\n",
    "model = RCNN(num_classes=num_classes, num_rois=num_rois)\n",
    "optimizer = optim.Adam(model.parameters(), lr=learning_rate)\n",
    "\n",
    "device = torch.device('cuda' if torch.cuda.is_available() else 'cpu')\n",
    "model.to(device)\n",
    "\n",
    "bbox_loss_fn = nn.MSELoss() \n",
    "class_loss_fn = nn.CrossEntropyLoss() \n",
    "\n",
    "for epoch in range(num_epochs):\n",
    "    model.train()\n",
    "    total_bbox_loss = 0.0\n",
    "    total_class_loss = 0.0\n",
    "    \n",
    "    for images, targets in dataloader: \n",
    "        images = torch.stack(images).to(device)\n",
    "        targets = [{k: v.to(device) for k, v in t.items()} for t in targets]\n",
    "        \n",
    "        rois = []\n",
    "        for idx in range(len(images)):\n",
    "            roi = torch.tensor([[idx, 50, 50, 400, 400],\n",
    "                                [idx, 100, 100, 300, 300]], dtype=torch.float, device=device)\n",
    "            rois.append(roi)\n",
    "        \n",
    "        rois = torch.cat(rois, dim=0) \n",
    "        \n",
    "        bbox_preds, class_preds = model(images, rois)\n",
    "        \n",
    "        batch_bbox_loss = 0.0\n",
    "        batch_class_loss = 0.0\n",
    "\n",
    "        for i, target in enumerate(targets):\n",
    "            num_boxes = target['boxes'].shape[0]\n",
    "            if num_boxes > num_rois:\n",
    "                bboxes = target['boxes'][:num_rois]\n",
    "                labels = target['labels'][:num_rois]\n",
    "            else:\n",
    "                padding_boxes = torch.zeros((num_rois - num_boxes, 4), device=device)\n",
    "                padding_labels = torch.zeros(num_rois - num_boxes, dtype=torch.long, device=device)\n",
    "                bboxes = torch.cat([target['boxes'], padding_boxes], dim=0)\n",
    "                labels = torch.cat([target['labels'], padding_labels], dim=0)\n",
    "                \n",
    "            batch_bbox_loss += bbox_loss_fn(bbox_preds[i], bboxes)\n",
    "            batch_class_loss += class_loss_fn(class_preds[i], labels)\n",
    "        \n",
    "        batch_bbox_loss /= len(targets)\n",
    "        batch_class_loss /= len(targets)\n",
    "\n",
    "        loss = batch_bbox_loss + batch_class_loss\n",
    "        \n",
    "        optimizer.zero_grad()\n",
    "        loss.backward()\n",
    "        optimizer.step()\n",
    "        \n",
    "        total_bbox_loss += batch_bbox_loss.item()\n",
    "        total_class_loss += batch_class_loss.item()\n",
    "    \n",
    "    print(f\"Epoch [{epoch+1}/{num_epochs}], BBox Loss: {total_bbox_loss/len(dataloader):.4f}, Class Loss: {total_class_loss/len(dataloader):.4f}\")\n",
    "\n",
    "print(\"Тренування завершено.\")\n"
   ]
  },
  {
   "cell_type": "code",
   "execution_count": 9,
   "id": "23a4fc28",
   "metadata": {},
   "outputs": [
    {
     "name": "stdout",
     "output_type": "stream",
     "text": [
      "Тестова BBox Loss: 0.0297\n",
      "Точність класифікації: 82.22%\n"
     ]
    },
    {
     "name": "stderr",
     "output_type": "stream",
     "text": [
      "libpng warning: iCCP: known incorrect sRGB profile\n"
     ]
    }
   ],
   "source": [
    "from sklearn.metrics import accuracy_score\n",
    "\n",
    "test_dataset = FruitDataset(data_dir='/Users/matvejzasadko/Downloads/All/Study/NNetworks/Lb1/archive/test_zip/test', \n",
    "                            transforms=transform, \n",
    "                            image_size=(256, 256))\n",
    "\n",
    "test_loader = DataLoader(test_dataset, batch_size=1, shuffle=False, collate_fn=lambda x: tuple(zip(*x)))\n",
    "\n",
    "def evaluate_model(model, test_loader, device, num_rois=9):\n",
    "    model.eval()  \n",
    "    total_bbox_loss = 0.0\n",
    "    all_true_labels = []\n",
    "    all_pred_labels = []\n",
    "\n",
    "    bbox_loss_fn = nn.MSELoss() \n",
    "\n",
    "    with torch.no_grad():  \n",
    "        for images, targets in test_loader:\n",
    "            images = torch.stack(images).to(device)\n",
    "            targets = [{k: v.to(device) for k, v in t.items()} for t in targets]\n",
    "\n",
    "            rois = []\n",
    "            for idx in range(len(images)):\n",
    "                roi = torch.tensor([[idx, 50, 50, 400, 400],\n",
    "                                    [idx, 100, 100, 300, 300]], dtype=torch.float, device=device)\n",
    "                rois.append(roi)\n",
    "            \n",
    "            rois = torch.cat(rois, dim=0)  \n",
    "\n",
    "            bbox_preds, class_preds = model(images, rois)\n",
    "\n",
    "            batch_bbox_loss = 0.0\n",
    "\n",
    "            for i, target in enumerate(targets):\n",
    "                num_boxes = target['boxes'].shape[0]\n",
    "                if num_boxes > num_rois:\n",
    "                    bboxes = target['boxes'][:num_rois]\n",
    "                    labels = target['labels'][:num_rois]\n",
    "                else:\n",
    "                    padding_boxes = torch.zeros((num_rois - num_boxes, 4), device=device)\n",
    "                    padding_labels = torch.zeros(num_rois - num_boxes, dtype=torch.long, device=device)\n",
    "                    bboxes = torch.cat([target['boxes'], padding_boxes], dim=0)\n",
    "                    labels = torch.cat([target['labels'], padding_labels], dim=0)\n",
    "\n",
    "                batch_bbox_loss += bbox_loss_fn(bbox_preds[i], bboxes).item()\n",
    "\n",
    "                _, predicted_classes = torch.max(class_preds[i], 1)\n",
    "                all_true_labels.extend(labels.cpu().numpy())\n",
    "                all_pred_labels.extend(predicted_classes.cpu().numpy())\n",
    "\n",
    "            total_bbox_loss += batch_bbox_loss / len(targets)\n",
    "\n",
    "    avg_bbox_loss = total_bbox_loss / len(test_loader)\n",
    "\n",
    "    class_accuracy = accuracy_score(all_true_labels, all_pred_labels)\n",
    "\n",
    "    print(f\"Тестова BBox Loss: {avg_bbox_loss:.4f}\")\n",
    "    print(f\"Точність класифікації: {class_accuracy * 100:.2f}%\")\n",
    "\n",
    "evaluate_model(model, test_loader, device)\n"
   ]
  },
  {
   "cell_type": "code",
   "execution_count": null,
   "id": "f1d6901c",
   "metadata": {},
   "outputs": [],
   "source": []
  },
  {
   "cell_type": "code",
   "execution_count": 27,
   "id": "ca521611",
   "metadata": {},
   "outputs": [],
   "source": [
    "class RCNN_Tune(nn.Module):\n",
    "    def __init__(self, num_classes, num_rois=9, fc_hidden_size=1024, dropout_rate=0.3, kernel_size=5, pretrained=True):\n",
    "        super(RCNN_Tune, self).__init__()\n",
    "\n",
    "        self.feature_extractor = models.alexnet(pretrained=pretrained).features\n",
    "        self._update_kernel_size(kernel_size)\n",
    "        \n",
    "        self.avgpool = nn.AdaptiveAvgPool2d((6, 6))\n",
    "\n",
    "        self.fc = nn.Sequential(\n",
    "            nn.Flatten(),\n",
    "            nn.Linear(256 * 6 * 6, fc_hidden_size),\n",
    "            nn.ReLU(),\n",
    "            nn.Dropout(p=dropout_rate),\n",
    "            nn.Linear(fc_hidden_size, fc_hidden_size),\n",
    "            nn.ReLU(),\n",
    "            nn.Dropout(p=dropout_rate)\n",
    "        )\n",
    "\n",
    "        self.bbox_head = nn.Linear(fc_hidden_size, num_rois * 4)\n",
    "        self.class_head = nn.Linear(fc_hidden_size, num_rois * num_classes)\n",
    "        \n",
    "        self.num_classes = num_classes\n",
    "        self.num_rois = num_rois\n",
    "\n",
    "    def _update_kernel_size(self, kernel_size):\n",
    "        \n",
    "        for layer in self.feature_extractor:\n",
    "            if isinstance(layer, nn.Conv2d):\n",
    "                layer.kernel_size = (kernel_size, kernel_size)\n",
    "                layer.padding = (kernel_size // 2, kernel_size // 2)  \n",
    "        \n",
    "    def forward(self, x, rois):\n",
    "        features = self.feature_extractor(x)\n",
    "        \n",
    "        pooled_features = roi_pool(features, rois, output_size=(6, 6))\n",
    "        \n",
    "        x = self.avgpool(pooled_features)\n",
    "        x = self.fc(x)\n",
    "\n",
    "        bbox_coords = self.bbox_head(x)\n",
    "        bbox_coords = bbox_coords.view(-1, self.num_rois, 4)\n",
    "\n",
    "        class_scores = self.class_head(x)\n",
    "        class_scores = class_scores.view(-1, self.num_rois, self.num_classes)\n",
    "        \n",
    "        return bbox_coords, class_scores\n"
   ]
  },
  {
   "cell_type": "code",
   "execution_count": 17,
   "id": "206324c5",
   "metadata": {},
   "outputs": [],
   "source": [
    "class PyTorchRCNNEstimator(BaseEstimator):\n",
    "    def __init__(self, num_classes=4, num_rois=9, fc_hidden_size=4096, dropout_rate=0.5, kernel_size=3, learning_rate=0.001, num_epochs=5, pretrained=True):\n",
    "        self.num_classes = num_classes\n",
    "        self.num_rois = num_rois\n",
    "        self.fc_hidden_size = fc_hidden_size\n",
    "        self.dropout_rate = dropout_rate\n",
    "        self.kernel_size = kernel_size\n",
    "        self.learning_rate = learning_rate\n",
    "        self.num_epochs = num_epochs\n",
    "        self.pretrained = pretrained\n",
    "        self.device = torch.device('cuda' if torch.cuda.is_available() else 'cpu')\n",
    "        self.model = self._build_model()\n",
    "        \n",
    "    def _build_model(self):\n",
    "        model = RCNN_Tune(num_classes=self.num_classes, num_rois=self.num_rois, \n",
    "                     fc_hidden_size=self.fc_hidden_size, dropout_rate=self.dropout_rate, \n",
    "                     kernel_size=self.kernel_size, pretrained=self.pretrained)\n",
    "        model.to(self.device)\n",
    "        return model\n",
    "    \n",
    "    def fit(self, X, y):\n",
    "        self.model.train()\n",
    "        optimizer = optim.Adam(self.model.parameters(), lr=self.learning_rate)\n",
    "        bbox_loss_fn = nn.MSELoss()\n",
    "        class_loss_fn = nn.CrossEntropyLoss()\n",
    "        \n",
    "        for epoch in range(self.num_epochs):\n",
    "            total_bbox_loss = 0.0\n",
    "            total_class_loss = 0.0\n",
    "            \n",
    "            for images, targets in dataloader:\n",
    "                images = torch.stack(images).to(self.device)\n",
    "                targets = [{k: v.to(self.device) for k, v in t.items()} for t in targets]\n",
    "                \n",
    "                rois = torch.cat([torch.tensor([[idx, 50, 50, 400, 400], [idx, 100, 100, 300, 300]], dtype=torch.float, device=self.device) for idx in range(len(images))], dim=0)\n",
    "                bbox_preds, class_preds = self.model(images, rois)\n",
    "                \n",
    "                batch_bbox_loss = 0.0\n",
    "                batch_class_loss = 0.0\n",
    "                \n",
    "                for i, target in enumerate(targets):\n",
    "                    num_boxes = target['boxes'].shape[0]\n",
    "                    if num_boxes > self.model.num_rois:\n",
    "                        bboxes = target['boxes'][:self.model.num_rois]\n",
    "                        labels = target['labels'][:self.model.num_rois]\n",
    "                    else:\n",
    "                        padding_boxes = torch.zeros((self.model.num_rois - num_boxes, 4), device=self.device)\n",
    "                        padding_labels = torch.zeros(self.model.num_rois - num_boxes, dtype=torch.long, device=self.device)\n",
    "                        bboxes = torch.cat([target['boxes'], padding_boxes], dim=0)\n",
    "                        labels = torch.cat([target['labels'], padding_labels], dim=0)\n",
    "                    \n",
    "                    batch_bbox_loss += bbox_loss_fn(bbox_preds[i], bboxes)\n",
    "                    batch_class_loss += class_loss_fn(class_preds[i], labels)\n",
    "                \n",
    "                batch_bbox_loss /= len(targets)\n",
    "                batch_class_loss /= len(targets)\n",
    "                \n",
    "                loss = batch_bbox_loss + batch_class_loss\n",
    "                optimizer.zero_grad()\n",
    "                loss.backward()\n",
    "                optimizer.step()\n",
    "                \n",
    "                total_bbox_loss += batch_bbox_loss.item()\n",
    "                total_class_loss += batch_class_loss.item()\n",
    "        \n",
    "        return self\n",
    "\n",
    "    def score(self, X, y):\n",
    "        self.model.eval()\n",
    "        total_correct = 0\n",
    "        total = 0\n",
    "        with torch.no_grad():\n",
    "            for images, targets in dataloader:\n",
    "                images = torch.stack(images).to(self.device)\n",
    "                targets = [{k: v.to(self.device) for k, v in t.items()} for t in targets]\n",
    "                \n",
    "                rois = torch.cat([torch.tensor([[idx, 50, 50, 400, 400], [idx, 100, 100, 300, 300]], dtype=torch.float, device=self.device) for idx in range(len(images))], dim=0)\n",
    "                _, class_preds = self.model(images, rois)\n",
    "                \n",
    "                for i, target in enumerate(targets):\n",
    "                    labels = target['labels'].to(self.device)\n",
    "                    num_labels = min(len(labels), class_preds[i].shape[0])\n",
    "                    pred_labels = class_preds[i][:num_labels].argmax(dim=1)\n",
    "                    total_correct += (pred_labels == labels[:num_labels]).sum().item()\n",
    "                    total += num_labels\n",
    "        return total_correct / total\n"
   ]
  },
  {
   "cell_type": "code",
   "execution_count": null,
   "id": "cfdfdf8b",
   "metadata": {},
   "outputs": [],
   "source": []
  },
  {
   "cell_type": "code",
   "execution_count": 19,
   "id": "2ee14895",
   "metadata": {},
   "outputs": [
    {
     "name": "stdout",
     "output_type": "stream",
     "text": [
      "Тестуємо: fc_hidden_size=1024, dropout_rate=0.3, kernel_size=3, learning_rate=0.001\n"
     ]
    },
    {
     "name": "stderr",
     "output_type": "stream",
     "text": [
      "libpng warning: iCCP: known incorrect sRGB profile\n",
      "libpng warning: iCCP: known incorrect sRGB profile\n",
      "libpng warning: iCCP: known incorrect sRGB profile\n",
      "libpng warning: iCCP: known incorrect sRGB profile\n",
      "libpng warning: iCCP: known incorrect sRGB profile\n",
      "libpng warning: iCCP: known incorrect sRGB profile\n",
      "libpng warning: iCCP: known incorrect sRGB profile\n",
      "libpng warning: iCCP: known incorrect sRGB profile\n",
      "libpng warning: iCCP: known incorrect sRGB profile\n",
      "libpng warning: iCCP: known incorrect sRGB profile\n",
      "libpng warning: iCCP: known incorrect sRGB profile\n",
      "libpng warning: iCCP: known incorrect sRGB profile\n",
      "libpng warning: iCCP: known incorrect sRGB profile\n",
      "libpng warning: iCCP: known incorrect sRGB profile\n",
      "libpng warning: iCCP: known incorrect sRGB profile\n",
      "libpng warning: iCCP: known incorrect sRGB profile\n",
      "libpng warning: iCCP: known incorrect sRGB profile\n",
      "libpng warning: iCCP: known incorrect sRGB profile\n",
      "libpng warning: iCCP: known incorrect sRGB profile\n",
      "libpng warning: iCCP: known incorrect sRGB profile\n",
      "libpng warning: iCCP: known incorrect sRGB profile\n",
      "libpng warning: iCCP: known incorrect sRGB profile\n",
      "libpng warning: iCCP: known incorrect sRGB profile\n",
      "libpng warning: iCCP: known incorrect sRGB profile\n"
     ]
    },
    {
     "name": "stdout",
     "output_type": "stream",
     "text": [
      "Score: 0.1613\n",
      "\n",
      "Тестуємо: fc_hidden_size=1024, dropout_rate=0.3, kernel_size=3, learning_rate=0.0001\n"
     ]
    },
    {
     "name": "stderr",
     "output_type": "stream",
     "text": [
      "libpng warning: iCCP: known incorrect sRGB profile\n",
      "libpng warning: iCCP: known incorrect sRGB profile\n",
      "libpng warning: iCCP: known incorrect sRGB profile\n",
      "libpng warning: iCCP: known incorrect sRGB profile\n",
      "libpng warning: iCCP: known incorrect sRGB profile\n",
      "libpng warning: iCCP: known incorrect sRGB profile\n",
      "libpng warning: iCCP: known incorrect sRGB profile\n",
      "libpng warning: iCCP: known incorrect sRGB profile\n",
      "libpng warning: iCCP: known incorrect sRGB profile\n",
      "libpng warning: iCCP: known incorrect sRGB profile\n",
      "libpng warning: iCCP: known incorrect sRGB profile\n",
      "libpng warning: iCCP: known incorrect sRGB profile\n",
      "libpng warning: iCCP: known incorrect sRGB profile\n",
      "libpng warning: iCCP: known incorrect sRGB profile\n",
      "libpng warning: iCCP: known incorrect sRGB profile\n",
      "libpng warning: iCCP: known incorrect sRGB profile\n",
      "libpng warning: iCCP: known incorrect sRGB profile\n",
      "libpng warning: iCCP: known incorrect sRGB profile\n",
      "libpng warning: iCCP: known incorrect sRGB profile\n",
      "libpng warning: iCCP: known incorrect sRGB profile\n",
      "libpng warning: iCCP: known incorrect sRGB profile\n",
      "libpng warning: iCCP: known incorrect sRGB profile\n",
      "libpng warning: iCCP: known incorrect sRGB profile\n",
      "libpng warning: iCCP: known incorrect sRGB profile\n"
     ]
    },
    {
     "name": "stdout",
     "output_type": "stream",
     "text": [
      "Score: 0.1957\n",
      "\n",
      "Тестуємо: fc_hidden_size=1024, dropout_rate=0.3, kernel_size=5, learning_rate=0.001\n"
     ]
    },
    {
     "name": "stderr",
     "output_type": "stream",
     "text": [
      "libpng warning: iCCP: known incorrect sRGB profile\n",
      "libpng warning: iCCP: known incorrect sRGB profile\n",
      "libpng warning: iCCP: known incorrect sRGB profile\n",
      "libpng warning: iCCP: known incorrect sRGB profile\n",
      "libpng warning: iCCP: known incorrect sRGB profile\n",
      "libpng warning: iCCP: known incorrect sRGB profile\n",
      "libpng warning: iCCP: known incorrect sRGB profile\n",
      "libpng warning: iCCP: known incorrect sRGB profile\n",
      "libpng warning: iCCP: known incorrect sRGB profile\n",
      "libpng warning: iCCP: known incorrect sRGB profile\n",
      "libpng warning: iCCP: known incorrect sRGB profile\n",
      "libpng warning: iCCP: known incorrect sRGB profile\n",
      "libpng warning: iCCP: known incorrect sRGB profile\n",
      "libpng warning: iCCP: known incorrect sRGB profile\n",
      "libpng warning: iCCP: known incorrect sRGB profile\n",
      "libpng warning: iCCP: known incorrect sRGB profile\n",
      "libpng warning: iCCP: known incorrect sRGB profile\n",
      "libpng warning: iCCP: known incorrect sRGB profile\n",
      "libpng warning: iCCP: known incorrect sRGB profile\n",
      "libpng warning: iCCP: known incorrect sRGB profile\n",
      "libpng warning: iCCP: known incorrect sRGB profile\n",
      "libpng warning: iCCP: known incorrect sRGB profile\n",
      "libpng warning: iCCP: known incorrect sRGB profile\n",
      "libpng warning: iCCP: known incorrect sRGB profile\n"
     ]
    },
    {
     "name": "stdout",
     "output_type": "stream",
     "text": [
      "Score: 0.1591\n",
      "\n",
      "Тестуємо: fc_hidden_size=1024, dropout_rate=0.3, kernel_size=5, learning_rate=0.0001\n"
     ]
    },
    {
     "name": "stderr",
     "output_type": "stream",
     "text": [
      "libpng warning: iCCP: known incorrect sRGB profile\n",
      "libpng warning: iCCP: known incorrect sRGB profile\n",
      "libpng warning: iCCP: known incorrect sRGB profile\n",
      "libpng warning: iCCP: known incorrect sRGB profile\n",
      "libpng warning: iCCP: known incorrect sRGB profile\n",
      "libpng warning: iCCP: known incorrect sRGB profile\n",
      "libpng warning: iCCP: known incorrect sRGB profile\n",
      "libpng warning: iCCP: known incorrect sRGB profile\n",
      "libpng warning: iCCP: known incorrect sRGB profile\n",
      "libpng warning: iCCP: known incorrect sRGB profile\n",
      "libpng warning: iCCP: known incorrect sRGB profile\n",
      "libpng warning: iCCP: known incorrect sRGB profile\n",
      "libpng warning: iCCP: known incorrect sRGB profile\n",
      "libpng warning: iCCP: known incorrect sRGB profile\n",
      "libpng warning: iCCP: known incorrect sRGB profile\n",
      "libpng warning: iCCP: known incorrect sRGB profile\n",
      "libpng warning: iCCP: known incorrect sRGB profile\n",
      "libpng warning: iCCP: known incorrect sRGB profile\n",
      "libpng warning: iCCP: known incorrect sRGB profile\n",
      "libpng warning: iCCP: known incorrect sRGB profile\n",
      "libpng warning: iCCP: known incorrect sRGB profile\n",
      "libpng warning: iCCP: known incorrect sRGB profile\n",
      "libpng warning: iCCP: known incorrect sRGB profile\n",
      "libpng warning: iCCP: known incorrect sRGB profile\n"
     ]
    },
    {
     "name": "stdout",
     "output_type": "stream",
     "text": [
      "Score: 0.1957\n",
      "\n",
      "Тестуємо: fc_hidden_size=1024, dropout_rate=0.5, kernel_size=3, learning_rate=0.001\n"
     ]
    },
    {
     "name": "stderr",
     "output_type": "stream",
     "text": [
      "libpng warning: iCCP: known incorrect sRGB profile\n",
      "libpng warning: iCCP: known incorrect sRGB profile\n",
      "libpng warning: iCCP: known incorrect sRGB profile\n",
      "libpng warning: iCCP: known incorrect sRGB profile\n",
      "libpng warning: iCCP: known incorrect sRGB profile\n",
      "libpng warning: iCCP: known incorrect sRGB profile\n",
      "libpng warning: iCCP: known incorrect sRGB profile\n",
      "libpng warning: iCCP: known incorrect sRGB profile\n",
      "libpng warning: iCCP: known incorrect sRGB profile\n",
      "libpng warning: iCCP: known incorrect sRGB profile\n",
      "libpng warning: iCCP: known incorrect sRGB profile\n",
      "libpng warning: iCCP: known incorrect sRGB profile\n",
      "libpng warning: iCCP: known incorrect sRGB profile\n",
      "libpng warning: iCCP: known incorrect sRGB profile\n",
      "libpng warning: iCCP: known incorrect sRGB profile\n",
      "libpng warning: iCCP: known incorrect sRGB profile\n",
      "libpng warning: iCCP: known incorrect sRGB profile\n",
      "libpng warning: iCCP: known incorrect sRGB profile\n",
      "libpng warning: iCCP: known incorrect sRGB profile\n",
      "libpng warning: iCCP: known incorrect sRGB profile\n",
      "libpng warning: iCCP: known incorrect sRGB profile\n",
      "libpng warning: iCCP: known incorrect sRGB profile\n",
      "libpng warning: iCCP: known incorrect sRGB profile\n",
      "libpng warning: iCCP: known incorrect sRGB profile\n"
     ]
    },
    {
     "name": "stdout",
     "output_type": "stream",
     "text": [
      "Score: 0.1957\n",
      "\n",
      "Тестуємо: fc_hidden_size=1024, dropout_rate=0.5, kernel_size=3, learning_rate=0.0001\n"
     ]
    },
    {
     "name": "stderr",
     "output_type": "stream",
     "text": [
      "libpng warning: iCCP: known incorrect sRGB profile\n",
      "libpng warning: iCCP: known incorrect sRGB profile\n",
      "libpng warning: iCCP: known incorrect sRGB profile\n",
      "libpng warning: iCCP: known incorrect sRGB profile\n",
      "libpng warning: iCCP: known incorrect sRGB profile\n",
      "libpng warning: iCCP: known incorrect sRGB profile\n",
      "libpng warning: iCCP: known incorrect sRGB profile\n",
      "libpng warning: iCCP: known incorrect sRGB profile\n",
      "libpng warning: iCCP: known incorrect sRGB profile\n",
      "libpng warning: iCCP: known incorrect sRGB profile\n",
      "libpng warning: iCCP: known incorrect sRGB profile\n",
      "libpng warning: iCCP: known incorrect sRGB profile\n",
      "libpng warning: iCCP: known incorrect sRGB profile\n",
      "libpng warning: iCCP: known incorrect sRGB profile\n",
      "libpng warning: iCCP: known incorrect sRGB profile\n",
      "libpng warning: iCCP: known incorrect sRGB profile\n",
      "libpng warning: iCCP: known incorrect sRGB profile\n",
      "libpng warning: iCCP: known incorrect sRGB profile\n",
      "libpng warning: iCCP: known incorrect sRGB profile\n",
      "libpng warning: iCCP: known incorrect sRGB profile\n",
      "libpng warning: iCCP: known incorrect sRGB profile\n",
      "libpng warning: iCCP: known incorrect sRGB profile\n",
      "libpng warning: iCCP: known incorrect sRGB profile\n",
      "libpng warning: iCCP: known incorrect sRGB profile\n"
     ]
    },
    {
     "name": "stdout",
     "output_type": "stream",
     "text": [
      "Score: 0.1957\n",
      "\n",
      "Тестуємо: fc_hidden_size=1024, dropout_rate=0.5, kernel_size=5, learning_rate=0.001\n"
     ]
    },
    {
     "name": "stderr",
     "output_type": "stream",
     "text": [
      "libpng warning: iCCP: known incorrect sRGB profile\n",
      "libpng warning: iCCP: known incorrect sRGB profile\n",
      "libpng warning: iCCP: known incorrect sRGB profile\n",
      "libpng warning: iCCP: known incorrect sRGB profile\n",
      "libpng warning: iCCP: known incorrect sRGB profile\n",
      "libpng warning: iCCP: known incorrect sRGB profile\n",
      "libpng warning: iCCP: known incorrect sRGB profile\n",
      "libpng warning: iCCP: known incorrect sRGB profile\n",
      "libpng warning: iCCP: known incorrect sRGB profile\n",
      "libpng warning: iCCP: known incorrect sRGB profile\n",
      "libpng warning: iCCP: known incorrect sRGB profile\n",
      "libpng warning: iCCP: known incorrect sRGB profile\n",
      "libpng warning: iCCP: known incorrect sRGB profile\n",
      "libpng warning: iCCP: known incorrect sRGB profile\n",
      "libpng warning: iCCP: known incorrect sRGB profile\n",
      "libpng warning: iCCP: known incorrect sRGB profile\n",
      "libpng warning: iCCP: known incorrect sRGB profile\n",
      "libpng warning: iCCP: known incorrect sRGB profile\n",
      "libpng warning: iCCP: known incorrect sRGB profile\n",
      "libpng warning: iCCP: known incorrect sRGB profile\n",
      "libpng warning: iCCP: known incorrect sRGB profile\n",
      "libpng warning: iCCP: known incorrect sRGB profile\n",
      "libpng warning: iCCP: known incorrect sRGB profile\n",
      "libpng warning: iCCP: known incorrect sRGB profile\n"
     ]
    },
    {
     "name": "stdout",
     "output_type": "stream",
     "text": [
      "Score: 0.1957\n",
      "\n",
      "Тестуємо: fc_hidden_size=1024, dropout_rate=0.5, kernel_size=5, learning_rate=0.0001\n"
     ]
    },
    {
     "name": "stderr",
     "output_type": "stream",
     "text": [
      "libpng warning: iCCP: known incorrect sRGB profile\n",
      "libpng warning: iCCP: known incorrect sRGB profile\n",
      "libpng warning: iCCP: known incorrect sRGB profile\n",
      "libpng warning: iCCP: known incorrect sRGB profile\n",
      "libpng warning: iCCP: known incorrect sRGB profile\n",
      "libpng warning: iCCP: known incorrect sRGB profile\n",
      "libpng warning: iCCP: known incorrect sRGB profile\n",
      "libpng warning: iCCP: known incorrect sRGB profile\n",
      "libpng warning: iCCP: known incorrect sRGB profile\n",
      "libpng warning: iCCP: known incorrect sRGB profile\n",
      "libpng warning: iCCP: known incorrect sRGB profile\n",
      "libpng warning: iCCP: known incorrect sRGB profile\n",
      "libpng warning: iCCP: known incorrect sRGB profile\n",
      "libpng warning: iCCP: known incorrect sRGB profile\n",
      "libpng warning: iCCP: known incorrect sRGB profile\n",
      "libpng warning: iCCP: known incorrect sRGB profile\n",
      "libpng warning: iCCP: known incorrect sRGB profile\n",
      "libpng warning: iCCP: known incorrect sRGB profile\n",
      "libpng warning: iCCP: known incorrect sRGB profile\n",
      "libpng warning: iCCP: known incorrect sRGB profile\n",
      "libpng warning: iCCP: known incorrect sRGB profile\n",
      "libpng warning: iCCP: known incorrect sRGB profile\n",
      "libpng warning: iCCP: known incorrect sRGB profile\n",
      "libpng warning: iCCP: known incorrect sRGB profile\n"
     ]
    },
    {
     "name": "stdout",
     "output_type": "stream",
     "text": [
      "Score: 0.1957\n",
      "\n",
      "Тестуємо: fc_hidden_size=2048, dropout_rate=0.3, kernel_size=3, learning_rate=0.001\n"
     ]
    },
    {
     "name": "stderr",
     "output_type": "stream",
     "text": [
      "libpng warning: iCCP: known incorrect sRGB profile\n",
      "libpng warning: iCCP: known incorrect sRGB profile\n",
      "libpng warning: iCCP: known incorrect sRGB profile\n",
      "libpng warning: iCCP: known incorrect sRGB profile\n",
      "libpng warning: iCCP: known incorrect sRGB profile\n",
      "libpng warning: iCCP: known incorrect sRGB profile\n",
      "libpng warning: iCCP: known incorrect sRGB profile\n",
      "libpng warning: iCCP: known incorrect sRGB profile\n",
      "libpng warning: iCCP: known incorrect sRGB profile\n",
      "libpng warning: iCCP: known incorrect sRGB profile\n",
      "libpng warning: iCCP: known incorrect sRGB profile\n",
      "libpng warning: iCCP: known incorrect sRGB profile\n",
      "libpng warning: iCCP: known incorrect sRGB profile\n",
      "libpng warning: iCCP: known incorrect sRGB profile\n",
      "libpng warning: iCCP: known incorrect sRGB profile\n",
      "libpng warning: iCCP: known incorrect sRGB profile\n",
      "libpng warning: iCCP: known incorrect sRGB profile\n",
      "libpng warning: iCCP: known incorrect sRGB profile\n",
      "libpng warning: iCCP: known incorrect sRGB profile\n",
      "libpng warning: iCCP: known incorrect sRGB profile\n",
      "libpng warning: iCCP: known incorrect sRGB profile\n",
      "libpng warning: iCCP: known incorrect sRGB profile\n",
      "libpng warning: iCCP: known incorrect sRGB profile\n",
      "libpng warning: iCCP: known incorrect sRGB profile\n"
     ]
    },
    {
     "name": "stdout",
     "output_type": "stream",
     "text": [
      "Score: 0.1613\n",
      "\n",
      "Тестуємо: fc_hidden_size=2048, dropout_rate=0.3, kernel_size=3, learning_rate=0.0001\n"
     ]
    },
    {
     "name": "stderr",
     "output_type": "stream",
     "text": [
      "libpng warning: iCCP: known incorrect sRGB profile\n",
      "libpng warning: iCCP: known incorrect sRGB profile\n",
      "libpng warning: iCCP: known incorrect sRGB profile\n",
      "libpng warning: iCCP: known incorrect sRGB profile\n",
      "libpng warning: iCCP: known incorrect sRGB profile\n",
      "libpng warning: iCCP: known incorrect sRGB profile\n",
      "libpng warning: iCCP: known incorrect sRGB profile\n",
      "libpng warning: iCCP: known incorrect sRGB profile\n",
      "libpng warning: iCCP: known incorrect sRGB profile\n",
      "libpng warning: iCCP: known incorrect sRGB profile\n",
      "libpng warning: iCCP: known incorrect sRGB profile\n",
      "libpng warning: iCCP: known incorrect sRGB profile\n",
      "libpng warning: iCCP: known incorrect sRGB profile\n",
      "libpng warning: iCCP: known incorrect sRGB profile\n",
      "libpng warning: iCCP: known incorrect sRGB profile\n",
      "libpng warning: iCCP: known incorrect sRGB profile\n",
      "libpng warning: iCCP: known incorrect sRGB profile\n",
      "libpng warning: iCCP: known incorrect sRGB profile\n",
      "libpng warning: iCCP: known incorrect sRGB profile\n",
      "libpng warning: iCCP: known incorrect sRGB profile\n",
      "libpng warning: iCCP: known incorrect sRGB profile\n",
      "libpng warning: iCCP: known incorrect sRGB profile\n",
      "libpng warning: iCCP: known incorrect sRGB profile\n",
      "libpng warning: iCCP: known incorrect sRGB profile\n"
     ]
    },
    {
     "name": "stdout",
     "output_type": "stream",
     "text": [
      "Score: 0.1957\n",
      "\n",
      "Тестуємо: fc_hidden_size=2048, dropout_rate=0.3, kernel_size=5, learning_rate=0.001\n"
     ]
    },
    {
     "name": "stderr",
     "output_type": "stream",
     "text": [
      "libpng warning: iCCP: known incorrect sRGB profile\n",
      "libpng warning: iCCP: known incorrect sRGB profile\n",
      "libpng warning: iCCP: known incorrect sRGB profile\n",
      "libpng warning: iCCP: known incorrect sRGB profile\n",
      "libpng warning: iCCP: known incorrect sRGB profile\n",
      "libpng warning: iCCP: known incorrect sRGB profile\n",
      "libpng warning: iCCP: known incorrect sRGB profile\n",
      "libpng warning: iCCP: known incorrect sRGB profile\n",
      "libpng warning: iCCP: known incorrect sRGB profile\n",
      "libpng warning: iCCP: known incorrect sRGB profile\n",
      "libpng warning: iCCP: known incorrect sRGB profile\n",
      "libpng warning: iCCP: known incorrect sRGB profile\n",
      "libpng warning: iCCP: known incorrect sRGB profile\n",
      "libpng warning: iCCP: known incorrect sRGB profile\n",
      "libpng warning: iCCP: known incorrect sRGB profile\n",
      "libpng warning: iCCP: known incorrect sRGB profile\n",
      "libpng warning: iCCP: known incorrect sRGB profile\n",
      "libpng warning: iCCP: known incorrect sRGB profile\n",
      "libpng warning: iCCP: known incorrect sRGB profile\n",
      "libpng warning: iCCP: known incorrect sRGB profile\n",
      "libpng warning: iCCP: known incorrect sRGB profile\n",
      "libpng warning: iCCP: known incorrect sRGB profile\n",
      "libpng warning: iCCP: known incorrect sRGB profile\n",
      "libpng warning: iCCP: known incorrect sRGB profile\n"
     ]
    },
    {
     "name": "stdout",
     "output_type": "stream",
     "text": [
      "Score: 0.1957\n",
      "\n",
      "Тестуємо: fc_hidden_size=2048, dropout_rate=0.3, kernel_size=5, learning_rate=0.0001\n"
     ]
    },
    {
     "name": "stderr",
     "output_type": "stream",
     "text": [
      "libpng warning: iCCP: known incorrect sRGB profile\n",
      "libpng warning: iCCP: known incorrect sRGB profile\n",
      "libpng warning: iCCP: known incorrect sRGB profile\n",
      "libpng warning: iCCP: known incorrect sRGB profile\n",
      "libpng warning: iCCP: known incorrect sRGB profile\n",
      "libpng warning: iCCP: known incorrect sRGB profile\n",
      "libpng warning: iCCP: known incorrect sRGB profile\n",
      "libpng warning: iCCP: known incorrect sRGB profile\n",
      "libpng warning: iCCP: known incorrect sRGB profile\n",
      "libpng warning: iCCP: known incorrect sRGB profile\n",
      "libpng warning: iCCP: known incorrect sRGB profile\n",
      "libpng warning: iCCP: known incorrect sRGB profile\n",
      "libpng warning: iCCP: known incorrect sRGB profile\n",
      "libpng warning: iCCP: known incorrect sRGB profile\n",
      "libpng warning: iCCP: known incorrect sRGB profile\n",
      "libpng warning: iCCP: known incorrect sRGB profile\n",
      "libpng warning: iCCP: known incorrect sRGB profile\n",
      "libpng warning: iCCP: known incorrect sRGB profile\n",
      "libpng warning: iCCP: known incorrect sRGB profile\n",
      "libpng warning: iCCP: known incorrect sRGB profile\n",
      "libpng warning: iCCP: known incorrect sRGB profile\n",
      "libpng warning: iCCP: known incorrect sRGB profile\n",
      "libpng warning: iCCP: known incorrect sRGB profile\n",
      "libpng warning: iCCP: known incorrect sRGB profile\n"
     ]
    },
    {
     "name": "stdout",
     "output_type": "stream",
     "text": [
      "Score: 0.1957\n",
      "\n",
      "Тестуємо: fc_hidden_size=2048, dropout_rate=0.5, kernel_size=3, learning_rate=0.001\n"
     ]
    },
    {
     "name": "stderr",
     "output_type": "stream",
     "text": [
      "libpng warning: iCCP: known incorrect sRGB profile\n",
      "libpng warning: iCCP: known incorrect sRGB profile\n",
      "libpng warning: iCCP: known incorrect sRGB profile\n",
      "libpng warning: iCCP: known incorrect sRGB profile\n",
      "libpng warning: iCCP: known incorrect sRGB profile\n",
      "libpng warning: iCCP: known incorrect sRGB profile\n",
      "libpng warning: iCCP: known incorrect sRGB profile\n",
      "libpng warning: iCCP: known incorrect sRGB profile\n",
      "libpng warning: iCCP: known incorrect sRGB profile\n",
      "libpng warning: iCCP: known incorrect sRGB profile\n",
      "libpng warning: iCCP: known incorrect sRGB profile\n",
      "libpng warning: iCCP: known incorrect sRGB profile\n",
      "libpng warning: iCCP: known incorrect sRGB profile\n",
      "libpng warning: iCCP: known incorrect sRGB profile\n",
      "libpng warning: iCCP: known incorrect sRGB profile\n",
      "libpng warning: iCCP: known incorrect sRGB profile\n",
      "libpng warning: iCCP: known incorrect sRGB profile\n",
      "libpng warning: iCCP: known incorrect sRGB profile\n",
      "libpng warning: iCCP: known incorrect sRGB profile\n",
      "libpng warning: iCCP: known incorrect sRGB profile\n",
      "libpng warning: iCCP: known incorrect sRGB profile\n",
      "libpng warning: iCCP: known incorrect sRGB profile\n",
      "libpng warning: iCCP: known incorrect sRGB profile\n",
      "libpng warning: iCCP: known incorrect sRGB profile\n"
     ]
    },
    {
     "name": "stdout",
     "output_type": "stream",
     "text": [
      "Score: 0.1591\n",
      "\n",
      "Тестуємо: fc_hidden_size=2048, dropout_rate=0.5, kernel_size=3, learning_rate=0.0001\n"
     ]
    },
    {
     "name": "stderr",
     "output_type": "stream",
     "text": [
      "libpng warning: iCCP: known incorrect sRGB profile\n",
      "libpng warning: iCCP: known incorrect sRGB profile\n",
      "libpng warning: iCCP: known incorrect sRGB profile\n",
      "libpng warning: iCCP: known incorrect sRGB profile\n",
      "libpng warning: iCCP: known incorrect sRGB profile\n",
      "libpng warning: iCCP: known incorrect sRGB profile\n",
      "libpng warning: iCCP: known incorrect sRGB profile\n",
      "libpng warning: iCCP: known incorrect sRGB profile\n",
      "libpng warning: iCCP: known incorrect sRGB profile\n",
      "libpng warning: iCCP: known incorrect sRGB profile\n",
      "libpng warning: iCCP: known incorrect sRGB profile\n",
      "libpng warning: iCCP: known incorrect sRGB profile\n",
      "libpng warning: iCCP: known incorrect sRGB profile\n",
      "libpng warning: iCCP: known incorrect sRGB profile\n",
      "libpng warning: iCCP: known incorrect sRGB profile\n",
      "libpng warning: iCCP: known incorrect sRGB profile\n",
      "libpng warning: iCCP: known incorrect sRGB profile\n",
      "libpng warning: iCCP: known incorrect sRGB profile\n",
      "libpng warning: iCCP: known incorrect sRGB profile\n",
      "libpng warning: iCCP: known incorrect sRGB profile\n",
      "libpng warning: iCCP: known incorrect sRGB profile\n",
      "libpng warning: iCCP: known incorrect sRGB profile\n",
      "libpng warning: iCCP: known incorrect sRGB profile\n",
      "libpng warning: iCCP: known incorrect sRGB profile\n"
     ]
    },
    {
     "name": "stdout",
     "output_type": "stream",
     "text": [
      "Score: 0.1957\n",
      "\n",
      "Тестуємо: fc_hidden_size=2048, dropout_rate=0.5, kernel_size=5, learning_rate=0.001\n"
     ]
    },
    {
     "name": "stderr",
     "output_type": "stream",
     "text": [
      "libpng warning: iCCP: known incorrect sRGB profile\n",
      "libpng warning: iCCP: known incorrect sRGB profile\n",
      "libpng warning: iCCP: known incorrect sRGB profile\n",
      "libpng warning: iCCP: known incorrect sRGB profile\n",
      "libpng warning: iCCP: known incorrect sRGB profile\n",
      "libpng warning: iCCP: known incorrect sRGB profile\n",
      "libpng warning: iCCP: known incorrect sRGB profile\n",
      "libpng warning: iCCP: known incorrect sRGB profile\n",
      "libpng warning: iCCP: known incorrect sRGB profile\n",
      "libpng warning: iCCP: known incorrect sRGB profile\n",
      "libpng warning: iCCP: known incorrect sRGB profile\n",
      "libpng warning: iCCP: known incorrect sRGB profile\n",
      "libpng warning: iCCP: known incorrect sRGB profile\n",
      "libpng warning: iCCP: known incorrect sRGB profile\n",
      "libpng warning: iCCP: known incorrect sRGB profile\n",
      "libpng warning: iCCP: known incorrect sRGB profile\n",
      "libpng warning: iCCP: known incorrect sRGB profile\n",
      "libpng warning: iCCP: known incorrect sRGB profile\n",
      "libpng warning: iCCP: known incorrect sRGB profile\n",
      "libpng warning: iCCP: known incorrect sRGB profile\n",
      "libpng warning: iCCP: known incorrect sRGB profile\n",
      "libpng warning: iCCP: known incorrect sRGB profile\n",
      "libpng warning: iCCP: known incorrect sRGB profile\n",
      "libpng warning: iCCP: known incorrect sRGB profile\n"
     ]
    },
    {
     "name": "stdout",
     "output_type": "stream",
     "text": [
      "Score: 0.1957\n",
      "\n",
      "Тестуємо: fc_hidden_size=2048, dropout_rate=0.5, kernel_size=5, learning_rate=0.0001\n"
     ]
    },
    {
     "name": "stderr",
     "output_type": "stream",
     "text": [
      "libpng warning: iCCP: known incorrect sRGB profile\n",
      "libpng warning: iCCP: known incorrect sRGB profile\n",
      "libpng warning: iCCP: known incorrect sRGB profile\n",
      "libpng warning: iCCP: known incorrect sRGB profile\n",
      "libpng warning: iCCP: known incorrect sRGB profile\n",
      "libpng warning: iCCP: known incorrect sRGB profile\n",
      "libpng warning: iCCP: known incorrect sRGB profile\n",
      "libpng warning: iCCP: known incorrect sRGB profile\n",
      "libpng warning: iCCP: known incorrect sRGB profile\n",
      "libpng warning: iCCP: known incorrect sRGB profile\n",
      "libpng warning: iCCP: known incorrect sRGB profile\n",
      "libpng warning: iCCP: known incorrect sRGB profile\n",
      "libpng warning: iCCP: known incorrect sRGB profile\n",
      "libpng warning: iCCP: known incorrect sRGB profile\n",
      "libpng warning: iCCP: known incorrect sRGB profile\n",
      "libpng warning: iCCP: known incorrect sRGB profile\n",
      "libpng warning: iCCP: known incorrect sRGB profile\n",
      "libpng warning: iCCP: known incorrect sRGB profile\n",
      "libpng warning: iCCP: known incorrect sRGB profile\n",
      "libpng warning: iCCP: known incorrect sRGB profile\n",
      "libpng warning: iCCP: known incorrect sRGB profile\n",
      "libpng warning: iCCP: known incorrect sRGB profile\n",
      "libpng warning: iCCP: known incorrect sRGB profile\n",
      "libpng warning: iCCP: known incorrect sRGB profile\n"
     ]
    },
    {
     "name": "stdout",
     "output_type": "stream",
     "text": [
      "Score: 0.1957\n",
      "\n",
      "Тестуємо: fc_hidden_size=4096, dropout_rate=0.3, kernel_size=3, learning_rate=0.001\n"
     ]
    },
    {
     "name": "stderr",
     "output_type": "stream",
     "text": [
      "libpng warning: iCCP: known incorrect sRGB profile\n",
      "libpng warning: iCCP: known incorrect sRGB profile\n",
      "libpng warning: iCCP: known incorrect sRGB profile\n",
      "libpng warning: iCCP: known incorrect sRGB profile\n",
      "libpng warning: iCCP: known incorrect sRGB profile\n",
      "libpng warning: iCCP: known incorrect sRGB profile\n",
      "libpng warning: iCCP: known incorrect sRGB profile\n",
      "libpng warning: iCCP: known incorrect sRGB profile\n",
      "libpng warning: iCCP: known incorrect sRGB profile\n",
      "libpng warning: iCCP: known incorrect sRGB profile\n",
      "libpng warning: iCCP: known incorrect sRGB profile\n",
      "libpng warning: iCCP: known incorrect sRGB profile\n",
      "libpng warning: iCCP: known incorrect sRGB profile\n",
      "libpng warning: iCCP: known incorrect sRGB profile\n",
      "libpng warning: iCCP: known incorrect sRGB profile\n",
      "libpng warning: iCCP: known incorrect sRGB profile\n",
      "libpng warning: iCCP: known incorrect sRGB profile\n",
      "libpng warning: iCCP: known incorrect sRGB profile\n",
      "libpng warning: iCCP: known incorrect sRGB profile\n",
      "libpng warning: iCCP: known incorrect sRGB profile\n",
      "libpng warning: iCCP: known incorrect sRGB profile\n",
      "libpng warning: iCCP: known incorrect sRGB profile\n",
      "libpng warning: iCCP: known incorrect sRGB profile\n",
      "libpng warning: iCCP: known incorrect sRGB profile\n"
     ]
    },
    {
     "name": "stdout",
     "output_type": "stream",
     "text": [
      "Score: 0.1613\n",
      "\n",
      "Тестуємо: fc_hidden_size=4096, dropout_rate=0.3, kernel_size=3, learning_rate=0.0001\n"
     ]
    },
    {
     "name": "stderr",
     "output_type": "stream",
     "text": [
      "libpng warning: iCCP: known incorrect sRGB profile\n",
      "libpng warning: iCCP: known incorrect sRGB profile\n",
      "libpng warning: iCCP: known incorrect sRGB profile\n",
      "libpng warning: iCCP: known incorrect sRGB profile\n",
      "libpng warning: iCCP: known incorrect sRGB profile\n",
      "libpng warning: iCCP: known incorrect sRGB profile\n",
      "libpng warning: iCCP: known incorrect sRGB profile\n",
      "libpng warning: iCCP: known incorrect sRGB profile\n",
      "libpng warning: iCCP: known incorrect sRGB profile\n",
      "libpng warning: iCCP: known incorrect sRGB profile\n",
      "libpng warning: iCCP: known incorrect sRGB profile\n",
      "libpng warning: iCCP: known incorrect sRGB profile\n",
      "libpng warning: iCCP: known incorrect sRGB profile\n",
      "libpng warning: iCCP: known incorrect sRGB profile\n",
      "libpng warning: iCCP: known incorrect sRGB profile\n",
      "libpng warning: iCCP: known incorrect sRGB profile\n",
      "libpng warning: iCCP: known incorrect sRGB profile\n",
      "libpng warning: iCCP: known incorrect sRGB profile\n",
      "libpng warning: iCCP: known incorrect sRGB profile\n",
      "libpng warning: iCCP: known incorrect sRGB profile\n",
      "libpng warning: iCCP: known incorrect sRGB profile\n",
      "libpng warning: iCCP: known incorrect sRGB profile\n",
      "libpng warning: iCCP: known incorrect sRGB profile\n",
      "libpng warning: iCCP: known incorrect sRGB profile\n"
     ]
    },
    {
     "name": "stdout",
     "output_type": "stream",
     "text": [
      "Score: 0.1957\n",
      "\n",
      "Тестуємо: fc_hidden_size=4096, dropout_rate=0.3, kernel_size=5, learning_rate=0.001\n"
     ]
    },
    {
     "name": "stderr",
     "output_type": "stream",
     "text": [
      "libpng warning: iCCP: known incorrect sRGB profile\n",
      "libpng warning: iCCP: known incorrect sRGB profile\n",
      "libpng warning: iCCP: known incorrect sRGB profile\n",
      "libpng warning: iCCP: known incorrect sRGB profile\n",
      "libpng warning: iCCP: known incorrect sRGB profile\n",
      "libpng warning: iCCP: known incorrect sRGB profile\n",
      "libpng warning: iCCP: known incorrect sRGB profile\n",
      "libpng warning: iCCP: known incorrect sRGB profile\n",
      "libpng warning: iCCP: known incorrect sRGB profile\n",
      "libpng warning: iCCP: known incorrect sRGB profile\n",
      "libpng warning: iCCP: known incorrect sRGB profile\n",
      "libpng warning: iCCP: known incorrect sRGB profile\n",
      "libpng warning: iCCP: known incorrect sRGB profile\n",
      "libpng warning: iCCP: known incorrect sRGB profile\n",
      "libpng warning: iCCP: known incorrect sRGB profile\n",
      "libpng warning: iCCP: known incorrect sRGB profile\n",
      "libpng warning: iCCP: known incorrect sRGB profile\n",
      "libpng warning: iCCP: known incorrect sRGB profile\n",
      "libpng warning: iCCP: known incorrect sRGB profile\n",
      "libpng warning: iCCP: known incorrect sRGB profile\n",
      "libpng warning: iCCP: known incorrect sRGB profile\n",
      "libpng warning: iCCP: known incorrect sRGB profile\n",
      "libpng warning: iCCP: known incorrect sRGB profile\n",
      "libpng warning: iCCP: known incorrect sRGB profile\n"
     ]
    },
    {
     "name": "stdout",
     "output_type": "stream",
     "text": [
      "Score: 0.1613\n",
      "\n",
      "Тестуємо: fc_hidden_size=4096, dropout_rate=0.3, kernel_size=5, learning_rate=0.0001\n"
     ]
    },
    {
     "name": "stderr",
     "output_type": "stream",
     "text": [
      "libpng warning: iCCP: known incorrect sRGB profile\n",
      "libpng warning: iCCP: known incorrect sRGB profile\n",
      "libpng warning: iCCP: known incorrect sRGB profile\n",
      "libpng warning: iCCP: known incorrect sRGB profile\n",
      "libpng warning: iCCP: known incorrect sRGB profile\n",
      "libpng warning: iCCP: known incorrect sRGB profile\n",
      "libpng warning: iCCP: known incorrect sRGB profile\n",
      "libpng warning: iCCP: known incorrect sRGB profile\n",
      "libpng warning: iCCP: known incorrect sRGB profile\n",
      "libpng warning: iCCP: known incorrect sRGB profile\n",
      "libpng warning: iCCP: known incorrect sRGB profile\n",
      "libpng warning: iCCP: known incorrect sRGB profile\n",
      "libpng warning: iCCP: known incorrect sRGB profile\n",
      "libpng warning: iCCP: known incorrect sRGB profile\n",
      "libpng warning: iCCP: known incorrect sRGB profile\n",
      "libpng warning: iCCP: known incorrect sRGB profile\n",
      "libpng warning: iCCP: known incorrect sRGB profile\n",
      "libpng warning: iCCP: known incorrect sRGB profile\n",
      "libpng warning: iCCP: known incorrect sRGB profile\n",
      "libpng warning: iCCP: known incorrect sRGB profile\n",
      "libpng warning: iCCP: known incorrect sRGB profile\n",
      "libpng warning: iCCP: known incorrect sRGB profile\n",
      "libpng warning: iCCP: known incorrect sRGB profile\n",
      "libpng warning: iCCP: known incorrect sRGB profile\n"
     ]
    },
    {
     "name": "stdout",
     "output_type": "stream",
     "text": [
      "Score: 0.1957\n",
      "\n",
      "Тестуємо: fc_hidden_size=4096, dropout_rate=0.5, kernel_size=3, learning_rate=0.001\n"
     ]
    },
    {
     "name": "stderr",
     "output_type": "stream",
     "text": [
      "libpng warning: iCCP: known incorrect sRGB profile\n",
      "libpng warning: iCCP: known incorrect sRGB profile\n",
      "libpng warning: iCCP: known incorrect sRGB profile\n",
      "libpng warning: iCCP: known incorrect sRGB profile\n",
      "libpng warning: iCCP: known incorrect sRGB profile\n",
      "libpng warning: iCCP: known incorrect sRGB profile\n",
      "libpng warning: iCCP: known incorrect sRGB profile\n",
      "libpng warning: iCCP: known incorrect sRGB profile\n",
      "libpng warning: iCCP: known incorrect sRGB profile\n",
      "libpng warning: iCCP: known incorrect sRGB profile\n",
      "libpng warning: iCCP: known incorrect sRGB profile\n",
      "libpng warning: iCCP: known incorrect sRGB profile\n",
      "libpng warning: iCCP: known incorrect sRGB profile\n",
      "libpng warning: iCCP: known incorrect sRGB profile\n",
      "libpng warning: iCCP: known incorrect sRGB profile\n",
      "libpng warning: iCCP: known incorrect sRGB profile\n",
      "libpng warning: iCCP: known incorrect sRGB profile\n",
      "libpng warning: iCCP: known incorrect sRGB profile\n",
      "libpng warning: iCCP: known incorrect sRGB profile\n",
      "libpng warning: iCCP: known incorrect sRGB profile\n",
      "libpng warning: iCCP: known incorrect sRGB profile\n",
      "libpng warning: iCCP: known incorrect sRGB profile\n",
      "libpng warning: iCCP: known incorrect sRGB profile\n",
      "libpng warning: iCCP: known incorrect sRGB profile\n"
     ]
    },
    {
     "name": "stdout",
     "output_type": "stream",
     "text": [
      "Score: 0.1957\n",
      "\n",
      "Тестуємо: fc_hidden_size=4096, dropout_rate=0.5, kernel_size=3, learning_rate=0.0001\n"
     ]
    },
    {
     "name": "stderr",
     "output_type": "stream",
     "text": [
      "libpng warning: iCCP: known incorrect sRGB profile\n",
      "libpng warning: iCCP: known incorrect sRGB profile\n",
      "libpng warning: iCCP: known incorrect sRGB profile\n",
      "libpng warning: iCCP: known incorrect sRGB profile\n",
      "libpng warning: iCCP: known incorrect sRGB profile\n",
      "libpng warning: iCCP: known incorrect sRGB profile\n",
      "libpng warning: iCCP: known incorrect sRGB profile\n",
      "libpng warning: iCCP: known incorrect sRGB profile\n",
      "libpng warning: iCCP: known incorrect sRGB profile\n",
      "libpng warning: iCCP: known incorrect sRGB profile\n",
      "libpng warning: iCCP: known incorrect sRGB profile\n",
      "libpng warning: iCCP: known incorrect sRGB profile\n",
      "libpng warning: iCCP: known incorrect sRGB profile\n",
      "libpng warning: iCCP: known incorrect sRGB profile\n",
      "libpng warning: iCCP: known incorrect sRGB profile\n",
      "libpng warning: iCCP: known incorrect sRGB profile\n",
      "libpng warning: iCCP: known incorrect sRGB profile\n",
      "libpng warning: iCCP: known incorrect sRGB profile\n",
      "libpng warning: iCCP: known incorrect sRGB profile\n",
      "libpng warning: iCCP: known incorrect sRGB profile\n",
      "libpng warning: iCCP: known incorrect sRGB profile\n",
      "libpng warning: iCCP: known incorrect sRGB profile\n",
      "libpng warning: iCCP: known incorrect sRGB profile\n",
      "libpng warning: iCCP: known incorrect sRGB profile\n"
     ]
    },
    {
     "name": "stdout",
     "output_type": "stream",
     "text": [
      "Score: 0.1957\n",
      "\n",
      "Тестуємо: fc_hidden_size=4096, dropout_rate=0.5, kernel_size=5, learning_rate=0.001\n"
     ]
    },
    {
     "name": "stderr",
     "output_type": "stream",
     "text": [
      "libpng warning: iCCP: known incorrect sRGB profile\n",
      "libpng warning: iCCP: known incorrect sRGB profile\n",
      "libpng warning: iCCP: known incorrect sRGB profile\n",
      "libpng warning: iCCP: known incorrect sRGB profile\n",
      "libpng warning: iCCP: known incorrect sRGB profile\n",
      "libpng warning: iCCP: known incorrect sRGB profile\n",
      "libpng warning: iCCP: known incorrect sRGB profile\n",
      "libpng warning: iCCP: known incorrect sRGB profile\n",
      "libpng warning: iCCP: known incorrect sRGB profile\n",
      "libpng warning: iCCP: known incorrect sRGB profile\n",
      "libpng warning: iCCP: known incorrect sRGB profile\n",
      "libpng warning: iCCP: known incorrect sRGB profile\n",
      "libpng warning: iCCP: known incorrect sRGB profile\n",
      "libpng warning: iCCP: known incorrect sRGB profile\n",
      "libpng warning: iCCP: known incorrect sRGB profile\n",
      "libpng warning: iCCP: known incorrect sRGB profile\n",
      "libpng warning: iCCP: known incorrect sRGB profile\n",
      "libpng warning: iCCP: known incorrect sRGB profile\n",
      "libpng warning: iCCP: known incorrect sRGB profile\n",
      "libpng warning: iCCP: known incorrect sRGB profile\n",
      "libpng warning: iCCP: known incorrect sRGB profile\n",
      "libpng warning: iCCP: known incorrect sRGB profile\n",
      "libpng warning: iCCP: known incorrect sRGB profile\n",
      "libpng warning: iCCP: known incorrect sRGB profile\n"
     ]
    },
    {
     "name": "stdout",
     "output_type": "stream",
     "text": [
      "Score: 0.1957\n",
      "\n",
      "Тестуємо: fc_hidden_size=4096, dropout_rate=0.5, kernel_size=5, learning_rate=0.0001\n"
     ]
    },
    {
     "name": "stderr",
     "output_type": "stream",
     "text": [
      "libpng warning: iCCP: known incorrect sRGB profile\n",
      "libpng warning: iCCP: known incorrect sRGB profile\n",
      "libpng warning: iCCP: known incorrect sRGB profile\n",
      "libpng warning: iCCP: known incorrect sRGB profile\n",
      "libpng warning: iCCP: known incorrect sRGB profile\n",
      "libpng warning: iCCP: known incorrect sRGB profile\n",
      "libpng warning: iCCP: known incorrect sRGB profile\n",
      "libpng warning: iCCP: known incorrect sRGB profile\n",
      "libpng warning: iCCP: known incorrect sRGB profile\n",
      "libpng warning: iCCP: known incorrect sRGB profile\n",
      "libpng warning: iCCP: known incorrect sRGB profile\n",
      "libpng warning: iCCP: known incorrect sRGB profile\n",
      "libpng warning: iCCP: known incorrect sRGB profile\n",
      "libpng warning: iCCP: known incorrect sRGB profile\n",
      "libpng warning: iCCP: known incorrect sRGB profile\n",
      "libpng warning: iCCP: known incorrect sRGB profile\n",
      "libpng warning: iCCP: known incorrect sRGB profile\n",
      "libpng warning: iCCP: known incorrect sRGB profile\n",
      "libpng warning: iCCP: known incorrect sRGB profile\n",
      "libpng warning: iCCP: known incorrect sRGB profile\n",
      "libpng warning: iCCP: known incorrect sRGB profile\n",
      "libpng warning: iCCP: known incorrect sRGB profile\n",
      "libpng warning: iCCP: known incorrect sRGB profile\n",
      "libpng warning: iCCP: known incorrect sRGB profile\n"
     ]
    },
    {
     "name": "stdout",
     "output_type": "stream",
     "text": [
      "Score: 0.1957\n",
      "\n",
      "Найкращі параметри: {'fc_hidden_size': 1024, 'dropout_rate': 0.3, 'kernel_size': 3, 'learning_rate': 0.0001}\n",
      "Найкращий результат: 0.1956989247311828\n"
     ]
    }
   ],
   "source": [
    "import itertools\n",
    "\n",
    "param_grid = {\n",
    "    'fc_hidden_size': [2048, 4096],\n",
    "    'dropout_rate': [0.4, 0.5],\n",
    "    'kernel_size': [5, 8],\n",
    "    'learning_rate': [0.0001]\n",
    "}\n",
    "\n",
    "best_params = None\n",
    "best_score = 0\n",
    "\n",
    "\n",
    "all_combinations = list(itertools.product(\n",
    "    param_grid['fc_hidden_size'],\n",
    "    param_grid['dropout_rate'],\n",
    "    param_grid['kernel_size'],\n",
    "    param_grid['learning_rate']\n",
    "))\n",
    "\n",
    "\n",
    "for fc_hidden_size, dropout_rate, kernel_size, learning_rate in all_combinations:\n",
    "    print(f\"Тестуємо: fc_hidden_size={fc_hidden_size}, dropout_rate={dropout_rate}, kernel_size={kernel_size}, learning_rate={learning_rate}\")\n",
    "    \n",
    "    estimator = PyTorchRCNNEstimator(\n",
    "        num_classes=4,\n",
    "        num_rois=9,\n",
    "        fc_hidden_size=fc_hidden_size,\n",
    "        dropout_rate=dropout_rate,\n",
    "        kernel_size=kernel_size,\n",
    "        learning_rate=learning_rate,\n",
    "        num_epochs=5 \n",
    "    )\n",
    "    \n",
    "    \n",
    "    estimator.fit(None, None) \n",
    "    \n",
    "    score = estimator.score(None, None)  \n",
    "    \n",
    "    if score > best_score:\n",
    "        best_score = score\n",
    "        best_params = {\n",
    "            'fc_hidden_size': fc_hidden_size,\n",
    "            'dropout_rate': dropout_rate,\n",
    "            'kernel_size': kernel_size,\n",
    "            'learning_rate': learning_rate\n",
    "        }\n",
    "    print(f\"Score: {score:.4f}\\n\")\n",
    "\n",
    "print(\"Найкращі параметри:\", best_params)\n",
    "print(\"Найкращий результат:\", best_score)\n",
    "\n"
   ]
  },
  {
   "cell_type": "code",
   "execution_count": 22,
   "id": "efa89add",
   "metadata": {},
   "outputs": [
    {
     "name": "stdout",
     "output_type": "stream",
     "text": [
      "Тестуємо: fc_hidden_size=2048, dropout_rate=0.4, kernel_size=5, learning_rate=0.0001\n"
     ]
    },
    {
     "name": "stderr",
     "output_type": "stream",
     "text": [
      "/Users/matvejzasadko/.pyenv/versions/3.8.13/lib/python3.8/site-packages/torchvision/models/_utils.py:208: UserWarning: The parameter 'pretrained' is deprecated since 0.13 and may be removed in the future, please use 'weights' instead.\n",
      "  warnings.warn(\n",
      "/Users/matvejzasadko/.pyenv/versions/3.8.13/lib/python3.8/site-packages/torchvision/models/_utils.py:223: UserWarning: Arguments other than a weight enum or `None` for 'weights' are deprecated since 0.13 and may be removed in the future. The current behavior is equivalent to passing `weights=AlexNet_Weights.IMAGENET1K_V1`. You can also use `weights=AlexNet_Weights.DEFAULT` to get the most up-to-date weights.\n",
      "  warnings.warn(msg)\n",
      "libpng warning: iCCP: known incorrect sRGB profile\n",
      "libpng warning: iCCP: known incorrect sRGB profile\n",
      "libpng warning: iCCP: known incorrect sRGB profile\n",
      "libpng warning: iCCP: known incorrect sRGB profile\n",
      "libpng warning: iCCP: known incorrect sRGB profile\n",
      "libpng warning: iCCP: known incorrect sRGB profile\n",
      "libpng warning: iCCP: known incorrect sRGB profile\n",
      "libpng warning: iCCP: known incorrect sRGB profile\n",
      "libpng warning: iCCP: known incorrect sRGB profile\n",
      "libpng warning: iCCP: known incorrect sRGB profile\n",
      "libpng warning: iCCP: known incorrect sRGB profile\n",
      "libpng warning: iCCP: known incorrect sRGB profile\n",
      "libpng warning: iCCP: known incorrect sRGB profile\n",
      "libpng warning: iCCP: known incorrect sRGB profile\n",
      "libpng warning: iCCP: known incorrect sRGB profile\n",
      "libpng warning: iCCP: known incorrect sRGB profile\n",
      "libpng warning: iCCP: known incorrect sRGB profile\n",
      "libpng warning: iCCP: known incorrect sRGB profile\n",
      "libpng warning: iCCP: known incorrect sRGB profile\n",
      "libpng warning: iCCP: known incorrect sRGB profile\n",
      "libpng warning: iCCP: known incorrect sRGB profile\n",
      "libpng warning: iCCP: known incorrect sRGB profile\n",
      "libpng warning: iCCP: known incorrect sRGB profile\n",
      "libpng warning: iCCP: known incorrect sRGB profile\n"
     ]
    },
    {
     "name": "stdout",
     "output_type": "stream",
     "text": [
      "Score: 0.1957\n",
      "\n",
      "Тестуємо: fc_hidden_size=2048, dropout_rate=0.4, kernel_size=8, learning_rate=0.0001\n"
     ]
    },
    {
     "name": "stderr",
     "output_type": "stream",
     "text": [
      "libpng warning: iCCP: known incorrect sRGB profile\n",
      "libpng warning: iCCP: known incorrect sRGB profile\n",
      "libpng warning: iCCP: known incorrect sRGB profile\n",
      "libpng warning: iCCP: known incorrect sRGB profile\n",
      "libpng warning: iCCP: known incorrect sRGB profile\n",
      "libpng warning: iCCP: known incorrect sRGB profile\n",
      "libpng warning: iCCP: known incorrect sRGB profile\n",
      "libpng warning: iCCP: known incorrect sRGB profile\n",
      "libpng warning: iCCP: known incorrect sRGB profile\n",
      "libpng warning: iCCP: known incorrect sRGB profile\n",
      "libpng warning: iCCP: known incorrect sRGB profile\n",
      "libpng warning: iCCP: known incorrect sRGB profile\n",
      "libpng warning: iCCP: known incorrect sRGB profile\n",
      "libpng warning: iCCP: known incorrect sRGB profile\n",
      "libpng warning: iCCP: known incorrect sRGB profile\n",
      "libpng warning: iCCP: known incorrect sRGB profile\n",
      "libpng warning: iCCP: known incorrect sRGB profile\n",
      "libpng warning: iCCP: known incorrect sRGB profile\n",
      "libpng warning: iCCP: known incorrect sRGB profile\n",
      "libpng warning: iCCP: known incorrect sRGB profile\n",
      "libpng warning: iCCP: known incorrect sRGB profile\n",
      "libpng warning: iCCP: known incorrect sRGB profile\n",
      "libpng warning: iCCP: known incorrect sRGB profile\n",
      "libpng warning: iCCP: known incorrect sRGB profile\n"
     ]
    },
    {
     "name": "stdout",
     "output_type": "stream",
     "text": [
      "Score: 0.1957\n",
      "\n",
      "Тестуємо: fc_hidden_size=2048, dropout_rate=0.5, kernel_size=5, learning_rate=0.0001\n"
     ]
    },
    {
     "name": "stderr",
     "output_type": "stream",
     "text": [
      "libpng warning: iCCP: known incorrect sRGB profile\n",
      "libpng warning: iCCP: known incorrect sRGB profile\n",
      "libpng warning: iCCP: known incorrect sRGB profile\n",
      "libpng warning: iCCP: known incorrect sRGB profile\n",
      "libpng warning: iCCP: known incorrect sRGB profile\n",
      "libpng warning: iCCP: known incorrect sRGB profile\n",
      "libpng warning: iCCP: known incorrect sRGB profile\n",
      "libpng warning: iCCP: known incorrect sRGB profile\n",
      "libpng warning: iCCP: known incorrect sRGB profile\n",
      "libpng warning: iCCP: known incorrect sRGB profile\n",
      "libpng warning: iCCP: known incorrect sRGB profile\n",
      "libpng warning: iCCP: known incorrect sRGB profile\n",
      "libpng warning: iCCP: known incorrect sRGB profile\n",
      "libpng warning: iCCP: known incorrect sRGB profile\n",
      "libpng warning: iCCP: known incorrect sRGB profile\n",
      "libpng warning: iCCP: known incorrect sRGB profile\n",
      "libpng warning: iCCP: known incorrect sRGB profile\n",
      "libpng warning: iCCP: known incorrect sRGB profile\n",
      "libpng warning: iCCP: known incorrect sRGB profile\n",
      "libpng warning: iCCP: known incorrect sRGB profile\n",
      "libpng warning: iCCP: known incorrect sRGB profile\n",
      "libpng warning: iCCP: known incorrect sRGB profile\n",
      "libpng warning: iCCP: known incorrect sRGB profile\n",
      "libpng warning: iCCP: known incorrect sRGB profile\n"
     ]
    },
    {
     "name": "stdout",
     "output_type": "stream",
     "text": [
      "Score: 0.1957\n",
      "\n",
      "Тестуємо: fc_hidden_size=2048, dropout_rate=0.5, kernel_size=8, learning_rate=0.0001\n"
     ]
    },
    {
     "name": "stderr",
     "output_type": "stream",
     "text": [
      "libpng warning: iCCP: known incorrect sRGB profile\n",
      "libpng warning: iCCP: known incorrect sRGB profile\n",
      "libpng warning: iCCP: known incorrect sRGB profile\n",
      "libpng warning: iCCP: known incorrect sRGB profile\n",
      "libpng warning: iCCP: known incorrect sRGB profile\n",
      "libpng warning: iCCP: known incorrect sRGB profile\n",
      "libpng warning: iCCP: known incorrect sRGB profile\n",
      "libpng warning: iCCP: known incorrect sRGB profile\n",
      "libpng warning: iCCP: known incorrect sRGB profile\n",
      "libpng warning: iCCP: known incorrect sRGB profile\n",
      "libpng warning: iCCP: known incorrect sRGB profile\n",
      "libpng warning: iCCP: known incorrect sRGB profile\n",
      "libpng warning: iCCP: known incorrect sRGB profile\n",
      "libpng warning: iCCP: known incorrect sRGB profile\n",
      "libpng warning: iCCP: known incorrect sRGB profile\n",
      "libpng warning: iCCP: known incorrect sRGB profile\n",
      "libpng warning: iCCP: known incorrect sRGB profile\n",
      "libpng warning: iCCP: known incorrect sRGB profile\n",
      "libpng warning: iCCP: known incorrect sRGB profile\n",
      "libpng warning: iCCP: known incorrect sRGB profile\n",
      "libpng warning: iCCP: known incorrect sRGB profile\n",
      "libpng warning: iCCP: known incorrect sRGB profile\n",
      "libpng warning: iCCP: known incorrect sRGB profile\n",
      "libpng warning: iCCP: known incorrect sRGB profile\n"
     ]
    },
    {
     "name": "stdout",
     "output_type": "stream",
     "text": [
      "Score: 0.1957\n",
      "\n",
      "Тестуємо: fc_hidden_size=4096, dropout_rate=0.4, kernel_size=5, learning_rate=0.0001\n"
     ]
    },
    {
     "name": "stderr",
     "output_type": "stream",
     "text": [
      "libpng warning: iCCP: known incorrect sRGB profile\n",
      "libpng warning: iCCP: known incorrect sRGB profile\n",
      "libpng warning: iCCP: known incorrect sRGB profile\n",
      "libpng warning: iCCP: known incorrect sRGB profile\n",
      "libpng warning: iCCP: known incorrect sRGB profile\n",
      "libpng warning: iCCP: known incorrect sRGB profile\n",
      "libpng warning: iCCP: known incorrect sRGB profile\n",
      "libpng warning: iCCP: known incorrect sRGB profile\n",
      "libpng warning: iCCP: known incorrect sRGB profile\n",
      "libpng warning: iCCP: known incorrect sRGB profile\n",
      "libpng warning: iCCP: known incorrect sRGB profile\n",
      "libpng warning: iCCP: known incorrect sRGB profile\n",
      "libpng warning: iCCP: known incorrect sRGB profile\n",
      "libpng warning: iCCP: known incorrect sRGB profile\n",
      "libpng warning: iCCP: known incorrect sRGB profile\n",
      "libpng warning: iCCP: known incorrect sRGB profile\n",
      "libpng warning: iCCP: known incorrect sRGB profile\n",
      "libpng warning: iCCP: known incorrect sRGB profile\n",
      "libpng warning: iCCP: known incorrect sRGB profile\n",
      "libpng warning: iCCP: known incorrect sRGB profile\n",
      "libpng warning: iCCP: known incorrect sRGB profile\n",
      "libpng warning: iCCP: known incorrect sRGB profile\n",
      "libpng warning: iCCP: known incorrect sRGB profile\n",
      "libpng warning: iCCP: known incorrect sRGB profile\n"
     ]
    },
    {
     "name": "stdout",
     "output_type": "stream",
     "text": [
      "Score: 0.1957\n",
      "\n",
      "Тестуємо: fc_hidden_size=4096, dropout_rate=0.4, kernel_size=8, learning_rate=0.0001\n"
     ]
    },
    {
     "name": "stderr",
     "output_type": "stream",
     "text": [
      "libpng warning: iCCP: known incorrect sRGB profile\n",
      "libpng warning: iCCP: known incorrect sRGB profile\n",
      "libpng warning: iCCP: known incorrect sRGB profile\n",
      "libpng warning: iCCP: known incorrect sRGB profile\n",
      "libpng warning: iCCP: known incorrect sRGB profile\n",
      "libpng warning: iCCP: known incorrect sRGB profile\n",
      "libpng warning: iCCP: known incorrect sRGB profile\n",
      "libpng warning: iCCP: known incorrect sRGB profile\n",
      "libpng warning: iCCP: known incorrect sRGB profile\n",
      "libpng warning: iCCP: known incorrect sRGB profile\n",
      "libpng warning: iCCP: known incorrect sRGB profile\n",
      "libpng warning: iCCP: known incorrect sRGB profile\n",
      "libpng warning: iCCP: known incorrect sRGB profile\n",
      "libpng warning: iCCP: known incorrect sRGB profile\n",
      "libpng warning: iCCP: known incorrect sRGB profile\n",
      "libpng warning: iCCP: known incorrect sRGB profile\n",
      "libpng warning: iCCP: known incorrect sRGB profile\n",
      "libpng warning: iCCP: known incorrect sRGB profile\n",
      "libpng warning: iCCP: known incorrect sRGB profile\n",
      "libpng warning: iCCP: known incorrect sRGB profile\n",
      "libpng warning: iCCP: known incorrect sRGB profile\n",
      "libpng warning: iCCP: known incorrect sRGB profile\n",
      "libpng warning: iCCP: known incorrect sRGB profile\n",
      "libpng warning: iCCP: known incorrect sRGB profile\n"
     ]
    },
    {
     "name": "stdout",
     "output_type": "stream",
     "text": [
      "Score: 0.1957\n",
      "\n",
      "Тестуємо: fc_hidden_size=4096, dropout_rate=0.5, kernel_size=5, learning_rate=0.0001\n"
     ]
    },
    {
     "name": "stderr",
     "output_type": "stream",
     "text": [
      "libpng warning: iCCP: known incorrect sRGB profile\n",
      "libpng warning: iCCP: known incorrect sRGB profile\n",
      "libpng warning: iCCP: known incorrect sRGB profile\n",
      "libpng warning: iCCP: known incorrect sRGB profile\n",
      "libpng warning: iCCP: known incorrect sRGB profile\n",
      "libpng warning: iCCP: known incorrect sRGB profile\n",
      "libpng warning: iCCP: known incorrect sRGB profile\n",
      "libpng warning: iCCP: known incorrect sRGB profile\n",
      "libpng warning: iCCP: known incorrect sRGB profile\n",
      "libpng warning: iCCP: known incorrect sRGB profile\n",
      "libpng warning: iCCP: known incorrect sRGB profile\n",
      "libpng warning: iCCP: known incorrect sRGB profile\n",
      "libpng warning: iCCP: known incorrect sRGB profile\n",
      "libpng warning: iCCP: known incorrect sRGB profile\n",
      "libpng warning: iCCP: known incorrect sRGB profile\n",
      "libpng warning: iCCP: known incorrect sRGB profile\n",
      "libpng warning: iCCP: known incorrect sRGB profile\n",
      "libpng warning: iCCP: known incorrect sRGB profile\n",
      "libpng warning: iCCP: known incorrect sRGB profile\n",
      "libpng warning: iCCP: known incorrect sRGB profile\n",
      "libpng warning: iCCP: known incorrect sRGB profile\n",
      "libpng warning: iCCP: known incorrect sRGB profile\n",
      "libpng warning: iCCP: known incorrect sRGB profile\n",
      "libpng warning: iCCP: known incorrect sRGB profile\n"
     ]
    },
    {
     "name": "stdout",
     "output_type": "stream",
     "text": [
      "Score: 0.1957\n",
      "\n",
      "Тестуємо: fc_hidden_size=4096, dropout_rate=0.5, kernel_size=8, learning_rate=0.0001\n"
     ]
    },
    {
     "name": "stderr",
     "output_type": "stream",
     "text": [
      "libpng warning: iCCP: known incorrect sRGB profile\n",
      "libpng warning: iCCP: known incorrect sRGB profile\n",
      "libpng warning: iCCP: known incorrect sRGB profile\n",
      "libpng warning: iCCP: known incorrect sRGB profile\n",
      "libpng warning: iCCP: known incorrect sRGB profile\n",
      "libpng warning: iCCP: known incorrect sRGB profile\n",
      "libpng warning: iCCP: known incorrect sRGB profile\n",
      "libpng warning: iCCP: known incorrect sRGB profile\n",
      "libpng warning: iCCP: known incorrect sRGB profile\n",
      "libpng warning: iCCP: known incorrect sRGB profile\n",
      "libpng warning: iCCP: known incorrect sRGB profile\n",
      "libpng warning: iCCP: known incorrect sRGB profile\n",
      "libpng warning: iCCP: known incorrect sRGB profile\n",
      "libpng warning: iCCP: known incorrect sRGB profile\n",
      "libpng warning: iCCP: known incorrect sRGB profile\n",
      "libpng warning: iCCP: known incorrect sRGB profile\n",
      "libpng warning: iCCP: known incorrect sRGB profile\n",
      "libpng warning: iCCP: known incorrect sRGB profile\n",
      "libpng warning: iCCP: known incorrect sRGB profile\n",
      "libpng warning: iCCP: known incorrect sRGB profile\n",
      "libpng warning: iCCP: known incorrect sRGB profile\n",
      "libpng warning: iCCP: known incorrect sRGB profile\n",
      "libpng warning: iCCP: known incorrect sRGB profile\n",
      "libpng warning: iCCP: known incorrect sRGB profile\n"
     ]
    },
    {
     "name": "stdout",
     "output_type": "stream",
     "text": [
      "Score: 0.1957\n",
      "\n",
      "Найкращі параметри: {'fc_hidden_size': 2048, 'dropout_rate': 0.4, 'kernel_size': 5, 'learning_rate': 0.0001}\n",
      "Найкращий результат: 0.1956989247311828\n",
      "\n",
      "Важливість гіперпараметрів:\n",
      "fc_hidden_size: 0.0000\n",
      "dropout_rate: 0.0000\n",
      "kernel_size: 0.0000\n",
      "learning_rate: 0.0000\n"
     ]
    }
   ],
   "source": [
    "import itertools\n",
    "import pandas as pd\n",
    "from sklearn.ensemble import RandomForestRegressor\n",
    "from sklearn.preprocessing import StandardScaler\n",
    "\n",
    "#пошук гіперпараметрів з впорядкуванням за пливом  \n",
    "\n",
    "param_grid = {\n",
    "    'fc_hidden_size': [2048, 4096],\n",
    "    'dropout_rate': [0.4, 0.5],\n",
    "    'kernel_size': [5, 8],\n",
    "    'learning_rate': [0.0001]\n",
    "}\n",
    "\n",
    "best_params = None\n",
    "best_score = 0\n",
    "results = []  \n",
    "\n",
    "all_combinations = list(itertools.product(\n",
    "    param_grid['fc_hidden_size'],\n",
    "    param_grid['dropout_rate'],\n",
    "    param_grid['kernel_size'],\n",
    "    param_grid['learning_rate']\n",
    "))\n",
    "\n",
    "for fc_hidden_size, dropout_rate, kernel_size, learning_rate in all_combinations:\n",
    "    print(f\"Тестуємо: fc_hidden_size={fc_hidden_size}, dropout_rate={dropout_rate}, kernel_size={kernel_size}, learning_rate={learning_rate}\")\n",
    "    \n",
    "    estimator = PyTorchRCNNEstimator(\n",
    "        num_classes=4,\n",
    "        num_rois=9,\n",
    "        fc_hidden_size=fc_hidden_size,\n",
    "        dropout_rate=dropout_rate,\n",
    "        kernel_size=kernel_size,\n",
    "        learning_rate=learning_rate,\n",
    "        num_epochs=5\n",
    "    )\n",
    "    \n",
    "    estimator.fit(None, None) \n",
    "    \n",
    "    score = estimator.score(None, None)\n",
    "    \n",
    "    results.append({\n",
    "        'fc_hidden_size': fc_hidden_size,\n",
    "        'dropout_rate': dropout_rate,\n",
    "        'kernel_size': kernel_size,\n",
    "        'learning_rate': learning_rate,\n",
    "        'accuracy': score\n",
    "    })\n",
    "    \n",
    "    if score > best_score:\n",
    "        best_score = score\n",
    "        best_params = {\n",
    "            'fc_hidden_size': fc_hidden_size,\n",
    "            'dropout_rate': dropout_rate,\n",
    "            'kernel_size': kernel_size,\n",
    "            'learning_rate': learning_rate\n",
    "        }\n",
    "    print(f\"Score: {score:.4f}\\n\")\n",
    "\n",
    "print(\"Найкращі параметри:\", best_params)\n",
    "print(\"Найкращий результат:\", best_score)\n",
    "\n",
    "df = pd.DataFrame(results)\n",
    "X = df[['fc_hidden_size', 'dropout_rate', 'kernel_size', 'learning_rate']]\n",
    "y = df['accuracy']\n",
    "\n",
    "scaler = StandardScaler()\n",
    "X_scaled = scaler.fit_transform(X)\n",
    "\n",
    "model = RandomForestRegressor(n_estimators=100, random_state=42)\n",
    "model.fit(X_scaled, y)\n",
    "\n",
    "feature_importances = model.feature_importances_\n",
    "\n",
    "print(\"\\nВажливість гіперпараметрів:\")\n",
    "for name, importance in zip(X.columns, feature_importances):\n",
    "    print(f\"{name}: {importance:.4f}\")\n"
   ]
  },
  {
   "cell_type": "code",
   "execution_count": 47,
   "id": "9ddd0e8e",
   "metadata": {},
   "outputs": [
    {
     "name": "stderr",
     "output_type": "stream",
     "text": [
      "libpng warning: iCCP: known incorrect sRGB profile\n",
      "libpng warning: iCCP: known incorrect sRGB profile\n",
      "libpng warning: iCCP: known incorrect sRGB profile\n",
      "libpng warning: iCCP: known incorrect sRGB profile\n"
     ]
    },
    {
     "name": "stdout",
     "output_type": "stream",
     "text": [
      "Epoch [1/15], BBox Loss: 0.0706, Class Loss: 1.3257\n",
      "Найкращі ваги збережені на епосі 1 з BBox Loss: 0.0706\n"
     ]
    },
    {
     "name": "stderr",
     "output_type": "stream",
     "text": [
      "libpng warning: iCCP: known incorrect sRGB profile\n",
      "libpng warning: iCCP: known incorrect sRGB profile\n",
      "libpng warning: iCCP: known incorrect sRGB profile\n",
      "libpng warning: iCCP: known incorrect sRGB profile\n"
     ]
    },
    {
     "name": "stdout",
     "output_type": "stream",
     "text": [
      "Epoch [2/15], BBox Loss: 0.0404, Class Loss: 0.9333\n",
      "Найкращі ваги збережені на епосі 2 з BBox Loss: 0.0404\n"
     ]
    },
    {
     "name": "stderr",
     "output_type": "stream",
     "text": [
      "libpng warning: iCCP: known incorrect sRGB profile\n",
      "libpng warning: iCCP: known incorrect sRGB profile\n",
      "libpng warning: iCCP: known incorrect sRGB profile\n",
      "libpng warning: iCCP: known incorrect sRGB profile\n"
     ]
    },
    {
     "name": "stdout",
     "output_type": "stream",
     "text": [
      "Epoch [3/15], BBox Loss: 0.0317, Class Loss: 0.5242\n",
      "Найкращі ваги збережені на епосі 3 з BBox Loss: 0.0317\n"
     ]
    },
    {
     "name": "stderr",
     "output_type": "stream",
     "text": [
      "libpng warning: iCCP: known incorrect sRGB profile\n",
      "libpng warning: iCCP: known incorrect sRGB profile\n",
      "libpng warning: iCCP: known incorrect sRGB profile\n",
      "libpng warning: iCCP: known incorrect sRGB profile\n"
     ]
    },
    {
     "name": "stdout",
     "output_type": "stream",
     "text": [
      "Epoch [4/15], BBox Loss: 0.0318, Class Loss: 0.4836\n"
     ]
    },
    {
     "name": "stderr",
     "output_type": "stream",
     "text": [
      "libpng warning: iCCP: known incorrect sRGB profile\n",
      "libpng warning: iCCP: known incorrect sRGB profile\n",
      "libpng warning: iCCP: known incorrect sRGB profile\n",
      "libpng warning: iCCP: known incorrect sRGB profile\n"
     ]
    },
    {
     "name": "stdout",
     "output_type": "stream",
     "text": [
      "Epoch [5/15], BBox Loss: 0.0327, Class Loss: 0.4810\n"
     ]
    },
    {
     "name": "stderr",
     "output_type": "stream",
     "text": [
      "libpng warning: iCCP: known incorrect sRGB profile\n",
      "libpng warning: iCCP: known incorrect sRGB profile\n",
      "libpng warning: iCCP: known incorrect sRGB profile\n",
      "libpng warning: iCCP: known incorrect sRGB profile\n"
     ]
    },
    {
     "name": "stdout",
     "output_type": "stream",
     "text": [
      "Epoch [6/15], BBox Loss: 0.0322, Class Loss: 0.4796\n"
     ]
    },
    {
     "name": "stderr",
     "output_type": "stream",
     "text": [
      "libpng warning: iCCP: known incorrect sRGB profile\n",
      "libpng warning: iCCP: known incorrect sRGB profile\n",
      "libpng warning: iCCP: known incorrect sRGB profile\n",
      "libpng warning: iCCP: known incorrect sRGB profile\n"
     ]
    },
    {
     "name": "stdout",
     "output_type": "stream",
     "text": [
      "Epoch [7/15], BBox Loss: 0.0327, Class Loss: 0.4793\n"
     ]
    },
    {
     "name": "stderr",
     "output_type": "stream",
     "text": [
      "libpng warning: iCCP: known incorrect sRGB profile\n",
      "libpng warning: iCCP: known incorrect sRGB profile\n",
      "libpng warning: iCCP: known incorrect sRGB profile\n",
      "libpng warning: iCCP: known incorrect sRGB profile\n"
     ]
    },
    {
     "name": "stdout",
     "output_type": "stream",
     "text": [
      "Epoch [8/15], BBox Loss: 0.0329, Class Loss: 0.4795\n"
     ]
    },
    {
     "name": "stderr",
     "output_type": "stream",
     "text": [
      "libpng warning: iCCP: known incorrect sRGB profile\n",
      "libpng warning: iCCP: known incorrect sRGB profile\n",
      "libpng warning: iCCP: known incorrect sRGB profile\n",
      "libpng warning: iCCP: known incorrect sRGB profile\n"
     ]
    },
    {
     "name": "stdout",
     "output_type": "stream",
     "text": [
      "Epoch [9/15], BBox Loss: 0.0316, Class Loss: 0.4781\n",
      "Найкращі ваги збережені на епосі 9 з BBox Loss: 0.0316\n"
     ]
    },
    {
     "name": "stderr",
     "output_type": "stream",
     "text": [
      "libpng warning: iCCP: known incorrect sRGB profile\n",
      "libpng warning: iCCP: known incorrect sRGB profile\n",
      "libpng warning: iCCP: known incorrect sRGB profile\n",
      "libpng warning: iCCP: known incorrect sRGB profile\n"
     ]
    },
    {
     "name": "stdout",
     "output_type": "stream",
     "text": [
      "Epoch [10/15], BBox Loss: 0.0320, Class Loss: 0.4790\n"
     ]
    },
    {
     "name": "stderr",
     "output_type": "stream",
     "text": [
      "libpng warning: iCCP: known incorrect sRGB profile\n",
      "libpng warning: iCCP: known incorrect sRGB profile\n",
      "libpng warning: iCCP: known incorrect sRGB profile\n",
      "libpng warning: iCCP: known incorrect sRGB profile\n"
     ]
    },
    {
     "name": "stdout",
     "output_type": "stream",
     "text": [
      "Epoch [11/15], BBox Loss: 0.0317, Class Loss: 0.4740\n"
     ]
    },
    {
     "name": "stderr",
     "output_type": "stream",
     "text": [
      "libpng warning: iCCP: known incorrect sRGB profile\n",
      "libpng warning: iCCP: known incorrect sRGB profile\n",
      "libpng warning: iCCP: known incorrect sRGB profile\n",
      "libpng warning: iCCP: known incorrect sRGB profile\n"
     ]
    },
    {
     "name": "stdout",
     "output_type": "stream",
     "text": [
      "Epoch [12/15], BBox Loss: 0.0322, Class Loss: 0.4752\n"
     ]
    },
    {
     "name": "stderr",
     "output_type": "stream",
     "text": [
      "libpng warning: iCCP: known incorrect sRGB profile\n",
      "libpng warning: iCCP: known incorrect sRGB profile\n",
      "libpng warning: iCCP: known incorrect sRGB profile\n",
      "libpng warning: iCCP: known incorrect sRGB profile\n"
     ]
    },
    {
     "name": "stdout",
     "output_type": "stream",
     "text": [
      "Epoch [13/15], BBox Loss: 0.0322, Class Loss: 0.4767\n"
     ]
    },
    {
     "name": "stderr",
     "output_type": "stream",
     "text": [
      "libpng warning: iCCP: known incorrect sRGB profile\n",
      "libpng warning: iCCP: known incorrect sRGB profile\n",
      "libpng warning: iCCP: known incorrect sRGB profile\n",
      "libpng warning: iCCP: known incorrect sRGB profile\n"
     ]
    },
    {
     "name": "stdout",
     "output_type": "stream",
     "text": [
      "Epoch [14/15], BBox Loss: 0.0314, Class Loss: 0.4762\n",
      "Найкращі ваги збережені на епосі 14 з BBox Loss: 0.0314\n"
     ]
    },
    {
     "name": "stderr",
     "output_type": "stream",
     "text": [
      "libpng warning: iCCP: known incorrect sRGB profile\n",
      "libpng warning: iCCP: known incorrect sRGB profile\n",
      "libpng warning: iCCP: known incorrect sRGB profile\n",
      "libpng warning: iCCP: known incorrect sRGB profile\n"
     ]
    },
    {
     "name": "stdout",
     "output_type": "stream",
     "text": [
      "Epoch [15/15], BBox Loss: 0.0312, Class Loss: 0.4773\n",
      "Найкращі ваги збережені на епосі 15 з BBox Loss: 0.0312\n",
      "Завантажено найкращі ваги в model_param.\n",
      "Тренування завершено.\n"
     ]
    },
    {
     "data": {
      "image/png": "[encoded data removed]",
      "text/plain": [
       "<Figure size 1000x500 with 1 Axes>"
      ]
     },
     "metadata": {},
     "output_type": "display_data"
    }
   ],
   "source": [
    "import matplotlib.pyplot as plt\n",
    "import torch\n",
    "import torch.nn as nn\n",
    "import torch.optim as optim\n",
    "\n",
    "num_epochs = 15\n",
    "learning_rate = 0.0001\n",
    "\n",
    "num_classes = 4 \n",
    "num_rois = 9\n",
    "model_param = RCNN_Tune(num_classes=num_classes, num_rois=num_rois)\n",
    "optimizer = optim.Adam(model_param.parameters(), lr=learning_rate)\n",
    "\n",
    "device = torch.device('cuda' if torch.cuda.is_available() else 'cpu')\n",
    "model_param.to(device)\n",
    "\n",
    "bbox_loss_fn = nn.MSELoss() \n",
    "class_loss_fn = nn.CrossEntropyLoss() \n",
    "\n",
    "bbox_loss_history = []\n",
    "class_loss_history = []\n",
    "\n",
    "best_bbox_loss = float('inf')\n",
    "best_model_state = None  \n",
    "\n",
    "for epoch in range(num_epochs):\n",
    "    model_param.train()\n",
    "    total_bbox_loss = 0.0\n",
    "    total_class_loss = 0.0\n",
    "    \n",
    "    for images, targets in dataloader: \n",
    "        images = torch.stack(images).to(device)\n",
    "        targets = [{k: v.to(device) for k, v in t.items()} for t in targets]\n",
    "        \n",
    "        rois = []\n",
    "        for idx in range(len(images)):\n",
    "            roi = torch.tensor([[idx, 50, 50, 400, 400],\n",
    "                                [idx, 100, 100, 300, 300]], dtype=torch.float, device=device)\n",
    "            rois.append(roi)\n",
    "        \n",
    "        rois = torch.cat(rois, dim=0) \n",
    "        \n",
    "        bbox_preds, class_preds = model_param(images, rois)\n",
    "        \n",
    "        batch_bbox_loss = 0.0\n",
    "        batch_class_loss = 0.0\n",
    "\n",
    "        for i, target in enumerate(targets):\n",
    "            num_boxes = target['boxes'].shape[0]\n",
    "            if num_boxes > num_rois:\n",
    "                bboxes = target['boxes'][:num_rois]\n",
    "                labels = target['labels'][:num_rois]\n",
    "            else:\n",
    "                padding_boxes = torch.zeros((num_rois - num_boxes, 4), device=device)\n",
    "                padding_labels = torch.zeros(num_rois - num_boxes, dtype=torch.long, device=device)\n",
    "                bboxes = torch.cat([target['boxes'], padding_boxes], dim=0)\n",
    "                labels = torch.cat([target['labels'], padding_labels], dim=0)\n",
    "                \n",
    "            batch_bbox_loss += bbox_loss_fn(bbox_preds[i], bboxes)\n",
    "            batch_class_loss += class_loss_fn(class_preds[i], labels)\n",
    "        \n",
    "        batch_bbox_loss /= len(targets)\n",
    "        batch_class_loss /= len(targets)\n",
    "\n",
    "        loss = batch_bbox_loss + batch_class_loss\n",
    "        \n",
    "        optimizer.zero_grad()\n",
    "        loss.backward()\n",
    "        optimizer.step()\n",
    "        \n",
    "        total_bbox_loss += batch_bbox_loss.item()\n",
    "        total_class_loss += batch_class_loss.item()\n",
    "    \n",
    "    avg_bbox_loss = total_bbox_loss / len(dataloader)\n",
    "    avg_class_loss = total_class_loss / len(dataloader)\n",
    "    bbox_loss_history.append(avg_bbox_loss)\n",
    "    class_loss_history.append(avg_class_loss)\n",
    "    \n",
    "    print(f\"Epoch [{epoch+1}/{num_epochs}], BBox Loss: {avg_bbox_loss:.4f}, Class Loss: {avg_class_loss:.4f}\")\n",
    "    \n",
    "    if avg_bbox_loss < best_bbox_loss:\n",
    "        best_bbox_loss = avg_bbox_loss\n",
    "        best_model_state = model_param.state_dict() \n",
    "        print(f\"Найкращі ваги збережені на епосі {epoch+1} з BBox Loss: {avg_bbox_loss:.4f}\")\n",
    "\n",
    "if best_model_state is not None:\n",
    "    model_param.load_state_dict(best_model_state)\n",
    "    print(\"Завантажено найкращі ваги в model_param.\")\n",
    "\n",
    "print(\"Тренування завершено.\")\n",
    "\n",
    "plt.figure(figsize=(10, 5))\n",
    "plt.plot(range(1, num_epochs + 1), bbox_loss_history, label='BBox Loss')\n",
    "plt.xlabel('Epoch')\n",
    "plt.ylabel('BBox Loss')\n",
    "plt.title('Зміна BBox Loss по епохах')\n",
    "plt.legend()\n",
    "plt.show()\n"
   ]
  },
  {
   "cell_type": "code",
   "execution_count": 51,
   "id": "6694652d",
   "metadata": {},
   "outputs": [
    {
     "name": "stdout",
     "output_type": "stream",
     "text": [
      "Тестова BBox Loss: 0.2716\n",
      "Точність класифікації: 3.89%\n"
     ]
    },
    {
     "name": "stderr",
     "output_type": "stream",
     "text": [
      "libpng warning: iCCP: known incorrect sRGB profile\n"
     ]
    }
   ],
   "source": [
    "from sklearn.metrics import accuracy_score\n",
    "\n",
    "test_dataset = FruitDataset(data_dir='/Users/matvejzasadko/Downloads/All/Study/NNetworks/Lb1/archive/test_zip/test', \n",
    "                            transforms=transform, \n",
    "                            image_size=(256, 256))\n",
    "\n",
    "test_loader = DataLoader(test_dataset, batch_size=1, shuffle=False, collate_fn=lambda x: tuple(zip(*x)))\n",
    "\n",
    "def evaluate_model(model, test_loader, device, num_rois=9):\n",
    "    model.eval()  \n",
    "    total_bbox_loss = 0.0\n",
    "    all_true_labels = []\n",
    "    all_pred_labels = []\n",
    "\n",
    "    bbox_loss_fn = nn.MSELoss() \n",
    "\n",
    "    with torch.no_grad():  \n",
    "        for images, targets in test_loader:\n",
    "            images = torch.stack(images).to(device)\n",
    "            targets = [{k: v.to(device) for k, v in t.items()} for t in targets]\n",
    "\n",
    "            rois = []\n",
    "            for idx in range(len(images)):\n",
    "                roi = torch.tensor([[idx, 50, 50, 400, 400],\n",
    "                                    [idx, 100, 100, 300, 300]], dtype=torch.float, device=device)\n",
    "                rois.append(roi)\n",
    "            \n",
    "            rois = torch.cat(rois, dim=0)  \n",
    "\n",
    "            bbox_preds, class_preds = model(images, rois)\n",
    "\n",
    "            batch_bbox_loss = 0.0\n",
    "\n",
    "            for i, target in enumerate(targets):\n",
    "                num_boxes = target['boxes'].shape[0]\n",
    "                if num_boxes > num_rois:\n",
    "                    bboxes = target['boxes'][:num_rois]\n",
    "                    labels = target['labels'][:num_rois]\n",
    "                else:\n",
    "                    padding_boxes = torch.zeros((num_rois - num_boxes, 4), device=device)\n",
    "                    padding_labels = torch.zeros(num_rois - num_boxes, dtype=torch.long, device=device)\n",
    "                    bboxes = torch.cat([target['boxes'], padding_boxes], dim=0)\n",
    "                    labels = torch.cat([target['labels'], padding_labels], dim=0)\n",
    "\n",
    "                batch_bbox_loss += bbox_loss_fn(bbox_preds[i], bboxes).item()\n",
    "\n",
    "                _, predicted_classes = torch.max(class_preds[i], 1)\n",
    "                all_true_labels.extend(labels.cpu().numpy())\n",
    "                all_pred_labels.extend(predicted_classes.cpu().numpy())\n",
    "\n",
    "            total_bbox_loss += batch_bbox_loss / len(targets)\n",
    "\n",
    "    avg_bbox_loss = total_bbox_loss / len(test_loader)\n",
    "\n",
    "    class_accuracy2 = accuracy_score(all_true_labels, all_pred_labels)\n",
    "\n",
    "    print(f\"Тестова BBox Loss: {avg_bbox_loss:.4f}\")\n",
    "    print(f\"Точність класифікації: {class_accuracy2 * 100:.2f}%\")\n",
    "\n",
    "evaluate_model(model_param, test_loader, device)"
   ]
  },
  {
   "cell_type": "code",
   "execution_count": null,
   "id": "879e529d",
   "metadata": {},
   "outputs": [],
   "source": []
  },
  {
   "cell_type": "markdown",
   "id": "7568f007",
   "metadata": {},
   "source": [
    "Epoch [7/10], BBox Loss: 0.0307, Class Loss: 0.4847 'fc_hidden_size': 2048, Epoch [9/10], BBox Loss: 0.0301, Class Loss: 0.4827 'dropout_rate': 0.4 Epoch [7/10], BBox Loss: 0.0299, Class Loss: 0.4830 'kernel_size': 5\n",
    "\n",
    "Впорядковані за значимістю гіперпараметри - це 'kernel_size' 'dropout_rate' 'fc_hidden_size'\n",
    "Найкращі параметри: {'fc_hidden_size': 2048, 'dropout_rate': 0.4, 'kernel_size': 5, 'learning_rate': 0.0001}\n",
    "    \n",
    "Але найкращий сет параметрів це базовий на тестових даних модель показала \n",
    "Тестова BBox Loss: 0.0297\n",
    "Точність класифікації: 82.22%\n",
    "    \n",
    "А з параметрами: Тестова BBox Loss: 0.2716\n",
    "                 Точність класифікації: 3.89%!!!!!!!!!!!! --Broken"
   ]
  },
  {
   "cell_type": "code",
   "execution_count": null,
   "id": "948d0de5",
   "metadata": {},
   "outputs": [],
   "source": []
  },
  {
   "cell_type": "code",
   "execution_count": null,
   "id": "ac64a64a",
   "metadata": {},
   "outputs": [],
   "source": []
  },
  {
   "cell_type": "code",
   "execution_count": null,
   "id": "87596932",
   "metadata": {},
   "outputs": [],
   "source": []
  },
  {
   "cell_type": "code",
   "execution_count": null,
   "id": "d207db45",
   "metadata": {},
   "outputs": [],
   "source": []
  }
 ],
 "metadata": {
  "kernelspec": {
   "display_name": "Python 3 (ipykernel)",
   "language": "python",
   "name": "python3"
  },
  "language_info": {
   "codemirror_mode": {
    "name": "ipython",
    "version": 3
   },
   "file_extension": ".py",
   "mimetype": "text/x-python",
   "name": "python",
   "nbconvert_exporter": "python",
   "pygments_lexer": "ipython3",
   "version": "3.8.13"
  }
 },
 "nbformat": 4,
 "nbformat_minor": 5
}
